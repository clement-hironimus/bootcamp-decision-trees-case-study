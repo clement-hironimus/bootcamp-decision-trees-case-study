{
 "cells": [
  {
   "cell_type": "markdown",
   "metadata": {
    "colab_type": "text",
    "id": "Jm0w3zN4DuVK"
   },
   "source": [
    "# **Springboard Decision Tree Specialty Coffee Case Study - Tier 3**\n",
    "\n",
    "\n"
   ]
  },
  {
   "cell_type": "markdown",
   "metadata": {
    "colab_type": "text",
    "id": "BhqpAY7GDuVN"
   },
   "source": [
    "# The Scenario\n",
    "\n",
    "Imagine you've just finished the Springboard Data Science Career Track course, and have been hired by a rising popular specialty coffee company - RR Diner Coffee - as a data scientist. Congratulations!\n",
    "\n",
    "RR Diner Coffee sells two types of thing:\n",
    "- specialty coffee beans, in bulk (by the kilogram only) \n",
    "- coffee equipment and merchandise (grinders, brewing equipment, mugs, books, t-shirts).\n",
    "\n",
    "RR Diner Coffee has three stores, two in Europe and one in the USA. The flagshap store is in the USA, and everything is quality assessed there, before being shipped out. Customers further away from the USA flagship store have higher shipping charges. \n",
    "\n",
    "You've been taken on at RR Diner Coffee because the company are turning towards using data science and machine learning to systematically make decisions about which coffee farmers they should strike deals with. \n",
    "\n",
    "RR Diner Coffee typically buys coffee from farmers, processes it on site, brings it back to the USA, roasts it, packages it, markets it, and ships it (only in bulk, and after quality assurance) to customers internationally. These customers all own coffee shops in major cities like New York, Paris, London, Hong Kong, Tokyo, and Berlin. \n",
    "\n",
    "Now, RR Diner Coffee has a decision about whether to strike a deal with a legendary coffee farm (known as the **Hidden Farm**) in rural China: there are rumours their coffee tastes of lychee and dark chocolate, while also being as sweet as apple juice. \n",
    "\n",
    "It's a risky decision, as the deal will be expensive, and the coffee might not be bought by customers. The stakes are high: times are tough, stocks are low, farmers are reverting to old deals with the larger enterprises and the publicity of selling *Hidden Farm* coffee could save the RR Diner Coffee business. \n",
    "\n",
    "Your first job, then, is ***to build a decision tree to predict how many units of the Hidden Farm Chinese coffee will be purchased by RR Diner Coffee's most loyal customers.*** \n",
    "\n",
    "To this end, you and your team have conducted a survey of 710 of the most loyal RR Diner Coffee customers, collecting data on the customers':\n",
    "- age\n",
    "- gender \n",
    "- salary \n",
    "- whether they have bought at least one RR Diner Coffee product online\n",
    "- their distance from the flagship store in the USA (standardized to a number between 0 and 11) \n",
    "- how much they spent on RR Diner Coffee products on the week of the survey \n",
    "- how much they spent on RR Diner Coffee products in the month preeding the survey\n",
    "- the number of RR Diner coffee bean shipments each customer has ordered over the preceding year. \n",
    "\n",
    "You also asked each customer participating in the survey whether they would buy the Hidden Farm coffee, and some (but not all) of the customers gave responses to that question. \n",
    "\n",
    "You sit back and think: if more than 70% of the interviewed customers are likely to buy the Hidden Farm coffee, you will strike the deal with the local Hidden Farm farmers and sell the coffee. Otherwise, you won't strike the deal and the Hidden Farm coffee will remain in legends only. There's some doubt in your mind about whether 70% is a reasonable threshold, but it'll do for the moment. \n",
    "\n",
    "To solve the problem, then, you will build a decision tree to implement a classification solution. \n",
    "\n",
    "\n",
    "-------------------------------\n",
    "As ever, this notebook is **tiered**, meaning you can elect that tier that is right for your confidence and skill level. There are 3 tiers, with tier 1 being the easiest and tier 3 being the hardest. This is ***tier 3***, so it will be challenging. \n",
    "\n",
    "**1. Sourcing and loading** \n",
    "- Import packages\n",
    "- Load data\n",
    "- Explore the data\n",
    "\n",
    " \n",
    "**2. Cleaning, transforming and visualizing**\n",
    "- Cleaning the data\n",
    "- Train/test split\n",
    "  \n",
    "  \n",
    "**3. Modelling** \n",
    "- Model 1: Entropy model - no max_depth\n",
    "- Model 2: Gini impurity model - no max_depth\n",
    "- Model 3: Entropy model - max depth 3\n",
    "- Model 4: Gini impurity model - max depth 3\n",
    "\n",
    "\n",
    "**4. Evaluating and concluding** \n",
    "- How many customers will buy Hidden Farm coffee?\n",
    "- Decision\n",
    "\n",
    "**5. Random Forest** \n",
    "- Import necessary modules\n",
    "- Model\n",
    "- Revise conclusion\n",
    "    "
   ]
  },
  {
   "cell_type": "markdown",
   "metadata": {
    "colab_type": "text",
    "id": "nciXGXtCDuVO"
   },
   "source": [
    "# 0. Overview\n",
    "\n",
    "This notebook uses decision trees to determine whether the factors of salary, gender, age, how much money the customer spent last week and during the preceding month on RR Diner Coffee products, how many kilogram coffee bags the customer bought over the last year, whether they have bought at least one RR Diner Coffee product online, and their distance from the flagship store in the USA, could predict whether customers would purchase the Hidden Farm coffee if a deal with its farmers were struck. "
   ]
  },
  {
   "cell_type": "markdown",
   "metadata": {
    "colab_type": "text",
    "id": "5fSgD2h9DuVP"
   },
   "source": [
    "# 1. Sourcing and loading\n",
    "## 1a. Import Packages"
   ]
  },
  {
   "cell_type": "code",
   "execution_count": 132,
   "metadata": {
    "colab": {},
    "colab_type": "code",
    "id": "CfGkTcLvDuVQ",
    "ExecuteTime": {
     "end_time": "2023-10-29T02:45:45.611815Z",
     "start_time": "2023-10-29T02:45:45.001645Z"
    }
   },
   "outputs": [],
   "source": [
    "import pandas as pd\n",
    "import numpy as np\n",
    "from sklearn import tree, metrics\n",
    "from sklearn.model_selection import train_test_split, GridSearchCV, KFold\n",
    "import seaborn as sns\n",
    "import matplotlib.pyplot as plt\n",
    "from io import StringIO\n",
    "from IPython.display import Image\n",
    "import pydotplus\n",
    "import graphviz\n",
    "sns.set_style('darkgrid')"
   ]
  },
  {
   "cell_type": "markdown",
   "metadata": {
    "colab_type": "text",
    "id": "ZLgxyhNrDuVT"
   },
   "source": [
    "## 1b. Load data "
   ]
  },
  {
   "cell_type": "code",
   "execution_count": 133,
   "metadata": {
    "colab": {},
    "colab_type": "code",
    "id": "chW2ozlnDuVU",
    "ExecuteTime": {
     "end_time": "2023-10-29T02:45:45.981852Z",
     "start_time": "2023-10-29T02:45:45.018019Z"
    }
   },
   "outputs": [],
   "source": [
    "# Read in the data to a variable called coffeeData\n",
    "coffeeData = pd.read_csv('data/RRDinerCoffeeData.csv')"
   ]
  },
  {
   "cell_type": "markdown",
   "metadata": {
    "colab_type": "text",
    "id": "qnMVYf2NDuVW"
   },
   "source": [
    "## 1c. Explore the data"
   ]
  },
  {
   "cell_type": "markdown",
   "metadata": {
    "colab_type": "text",
    "id": "U5Qm4obyDuVX"
   },
   "source": [
    "As we've seen, exploration entails doing things like checking out the **initial appearance** of the data with head(), the **dimensions** of our data with .shape, the **data types** of the variables with .info(), the **number of non-null values**, how much **memory** is being used to store the data, and finally the major summary statistcs capturing **central tendancy, dispersion and the null-excluding shape of the dataset's distribution**. \n",
    "\n",
    "How much of this can you do yourself by this point in the course? Have a real go. "
   ]
  },
  {
   "cell_type": "code",
   "execution_count": 134,
   "metadata": {
    "colab": {},
    "colab_type": "code",
    "id": "cHEKFT4SDuVY",
    "ExecuteTime": {
     "end_time": "2023-10-29T02:45:46.210505Z",
     "start_time": "2023-10-29T02:45:45.045562Z"
    }
   },
   "outputs": [
    {
     "data": {
      "text/plain": "   Age  Gender  num_coffeeBags_per_year  spent_week  spent_month  SlrAY  \\\n0   36  Female                        0          24           73  42789   \n1   24    Male                        0          44          164  74035   \n2   24    Male                        0          39          119  30563   \n3   20    Male                        0          30          107  13166   \n4   24  Female                        0          20           36  14244   \n\n   Distance  Online  Decision  \n0  0.003168       0       1.0  \n1  0.520906       0       NaN  \n2  0.916005       1       1.0  \n3  0.932098       1       NaN  \n4  0.965881       0       1.0  ",
      "text/html": "<div>\n<style scoped>\n    .dataframe tbody tr th:only-of-type {\n        vertical-align: middle;\n    }\n\n    .dataframe tbody tr th {\n        vertical-align: top;\n    }\n\n    .dataframe thead th {\n        text-align: right;\n    }\n</style>\n<table border=\"1\" class=\"dataframe\">\n  <thead>\n    <tr style=\"text-align: right;\">\n      <th></th>\n      <th>Age</th>\n      <th>Gender</th>\n      <th>num_coffeeBags_per_year</th>\n      <th>spent_week</th>\n      <th>spent_month</th>\n      <th>SlrAY</th>\n      <th>Distance</th>\n      <th>Online</th>\n      <th>Decision</th>\n    </tr>\n  </thead>\n  <tbody>\n    <tr>\n      <th>0</th>\n      <td>36</td>\n      <td>Female</td>\n      <td>0</td>\n      <td>24</td>\n      <td>73</td>\n      <td>42789</td>\n      <td>0.003168</td>\n      <td>0</td>\n      <td>1.0</td>\n    </tr>\n    <tr>\n      <th>1</th>\n      <td>24</td>\n      <td>Male</td>\n      <td>0</td>\n      <td>44</td>\n      <td>164</td>\n      <td>74035</td>\n      <td>0.520906</td>\n      <td>0</td>\n      <td>NaN</td>\n    </tr>\n    <tr>\n      <th>2</th>\n      <td>24</td>\n      <td>Male</td>\n      <td>0</td>\n      <td>39</td>\n      <td>119</td>\n      <td>30563</td>\n      <td>0.916005</td>\n      <td>1</td>\n      <td>1.0</td>\n    </tr>\n    <tr>\n      <th>3</th>\n      <td>20</td>\n      <td>Male</td>\n      <td>0</td>\n      <td>30</td>\n      <td>107</td>\n      <td>13166</td>\n      <td>0.932098</td>\n      <td>1</td>\n      <td>NaN</td>\n    </tr>\n    <tr>\n      <th>4</th>\n      <td>24</td>\n      <td>Female</td>\n      <td>0</td>\n      <td>20</td>\n      <td>36</td>\n      <td>14244</td>\n      <td>0.965881</td>\n      <td>0</td>\n      <td>1.0</td>\n    </tr>\n  </tbody>\n</table>\n</div>"
     },
     "execution_count": 134,
     "metadata": {},
     "output_type": "execute_result"
    }
   ],
   "source": [
    "# Call head() on your data \n",
    "coffeeData.head()"
   ]
  },
  {
   "cell_type": "code",
   "execution_count": 135,
   "metadata": {
    "colab": {},
    "colab_type": "code",
    "id": "rDshwA7tDuVa",
    "ExecuteTime": {
     "end_time": "2023-10-29T02:45:46.211109Z",
     "start_time": "2023-10-29T02:45:45.051691Z"
    }
   },
   "outputs": [
    {
     "data": {
      "text/plain": "(702, 9)"
     },
     "execution_count": 135,
     "metadata": {},
     "output_type": "execute_result"
    }
   ],
   "source": [
    "# Call .shape on your data\n",
    "coffeeData.shape"
   ]
  },
  {
   "cell_type": "code",
   "execution_count": 136,
   "metadata": {
    "colab": {},
    "colab_type": "code",
    "id": "iCxo0tomDuVc",
    "ExecuteTime": {
     "end_time": "2023-10-29T02:45:46.211473Z",
     "start_time": "2023-10-29T02:45:45.061048Z"
    }
   },
   "outputs": [
    {
     "name": "stdout",
     "output_type": "stream",
     "text": [
      "<class 'pandas.core.frame.DataFrame'>\n",
      "RangeIndex: 702 entries, 0 to 701\n",
      "Data columns (total 9 columns):\n",
      " #   Column                   Non-Null Count  Dtype  \n",
      "---  ------                   --------------  -----  \n",
      " 0   Age                      702 non-null    int64  \n",
      " 1   Gender                   702 non-null    object \n",
      " 2   num_coffeeBags_per_year  702 non-null    int64  \n",
      " 3   spent_week               702 non-null    int64  \n",
      " 4   spent_month              702 non-null    int64  \n",
      " 5   SlrAY                    702 non-null    int64  \n",
      " 6   Distance                 702 non-null    float64\n",
      " 7   Online                   702 non-null    int64  \n",
      " 8   Decision                 474 non-null    float64\n",
      "dtypes: float64(2), int64(6), object(1)\n",
      "memory usage: 49.5+ KB\n"
     ]
    }
   ],
   "source": [
    "# Call info() on your data\n",
    "coffeeData.info()"
   ]
  },
  {
   "cell_type": "code",
   "execution_count": 137,
   "metadata": {
    "colab": {},
    "colab_type": "code",
    "id": "t0ZdmaUeDuVe",
    "ExecuteTime": {
     "end_time": "2023-10-29T02:45:46.541557Z",
     "start_time": "2023-10-29T02:45:45.065006Z"
    }
   },
   "outputs": [
    {
     "data": {
      "text/plain": "              Age  num_coffeeBags_per_year  spent_week  spent_month  \\\ncount  702.000000               702.000000  702.000000   702.000000   \nmean    34.243590                 2.710826   32.853276   107.923077   \nstd     13.927945                 1.593629   15.731878    55.348485   \nmin     16.000000                 0.000000    0.000000     0.000000   \n25%     23.000000                 1.000000   24.250000    62.000000   \n50%     28.000000                 3.000000   36.000000   113.500000   \n75%     46.000000                 4.000000   43.000000   150.750000   \nmax     90.000000                 5.000000   62.000000   210.000000   \n\n               SlrAY    Distance      Online    Decision  \ncount     702.000000  702.000000  702.000000  474.000000  \nmean    43819.843305    4.559186    0.531339    0.639241  \nstd     26192.626943    3.116275    0.499373    0.480728  \nmin      1617.000000    0.003168    0.000000    0.000000  \n25%     22812.250000    1.877812    0.000000    0.000000  \n50%     41975.000000    4.196167    1.000000    1.000000  \n75%     60223.000000    6.712022    1.000000    1.000000  \nmax    182058.000000   10.986203    1.000000    1.000000  ",
      "text/html": "<div>\n<style scoped>\n    .dataframe tbody tr th:only-of-type {\n        vertical-align: middle;\n    }\n\n    .dataframe tbody tr th {\n        vertical-align: top;\n    }\n\n    .dataframe thead th {\n        text-align: right;\n    }\n</style>\n<table border=\"1\" class=\"dataframe\">\n  <thead>\n    <tr style=\"text-align: right;\">\n      <th></th>\n      <th>Age</th>\n      <th>num_coffeeBags_per_year</th>\n      <th>spent_week</th>\n      <th>spent_month</th>\n      <th>SlrAY</th>\n      <th>Distance</th>\n      <th>Online</th>\n      <th>Decision</th>\n    </tr>\n  </thead>\n  <tbody>\n    <tr>\n      <th>count</th>\n      <td>702.000000</td>\n      <td>702.000000</td>\n      <td>702.000000</td>\n      <td>702.000000</td>\n      <td>702.000000</td>\n      <td>702.000000</td>\n      <td>702.000000</td>\n      <td>474.000000</td>\n    </tr>\n    <tr>\n      <th>mean</th>\n      <td>34.243590</td>\n      <td>2.710826</td>\n      <td>32.853276</td>\n      <td>107.923077</td>\n      <td>43819.843305</td>\n      <td>4.559186</td>\n      <td>0.531339</td>\n      <td>0.639241</td>\n    </tr>\n    <tr>\n      <th>std</th>\n      <td>13.927945</td>\n      <td>1.593629</td>\n      <td>15.731878</td>\n      <td>55.348485</td>\n      <td>26192.626943</td>\n      <td>3.116275</td>\n      <td>0.499373</td>\n      <td>0.480728</td>\n    </tr>\n    <tr>\n      <th>min</th>\n      <td>16.000000</td>\n      <td>0.000000</td>\n      <td>0.000000</td>\n      <td>0.000000</td>\n      <td>1617.000000</td>\n      <td>0.003168</td>\n      <td>0.000000</td>\n      <td>0.000000</td>\n    </tr>\n    <tr>\n      <th>25%</th>\n      <td>23.000000</td>\n      <td>1.000000</td>\n      <td>24.250000</td>\n      <td>62.000000</td>\n      <td>22812.250000</td>\n      <td>1.877812</td>\n      <td>0.000000</td>\n      <td>0.000000</td>\n    </tr>\n    <tr>\n      <th>50%</th>\n      <td>28.000000</td>\n      <td>3.000000</td>\n      <td>36.000000</td>\n      <td>113.500000</td>\n      <td>41975.000000</td>\n      <td>4.196167</td>\n      <td>1.000000</td>\n      <td>1.000000</td>\n    </tr>\n    <tr>\n      <th>75%</th>\n      <td>46.000000</td>\n      <td>4.000000</td>\n      <td>43.000000</td>\n      <td>150.750000</td>\n      <td>60223.000000</td>\n      <td>6.712022</td>\n      <td>1.000000</td>\n      <td>1.000000</td>\n    </tr>\n    <tr>\n      <th>max</th>\n      <td>90.000000</td>\n      <td>5.000000</td>\n      <td>62.000000</td>\n      <td>210.000000</td>\n      <td>182058.000000</td>\n      <td>10.986203</td>\n      <td>1.000000</td>\n      <td>1.000000</td>\n    </tr>\n  </tbody>\n</table>\n</div>"
     },
     "execution_count": 137,
     "metadata": {},
     "output_type": "execute_result"
    }
   ],
   "source": [
    "# Call describe() on your data to get the relevant summary statistics for your data \n",
    "coffeeData.describe()"
   ]
  },
  {
   "cell_type": "markdown",
   "metadata": {
    "colab_type": "text",
    "id": "INkujJ6QDuVg"
   },
   "source": [
    "# 2. Cleaning, transforming and visualizing\n",
    "## 2a. Cleaning the data"
   ]
  },
  {
   "cell_type": "markdown",
   "metadata": {
    "colab_type": "text",
    "id": "wIMW_rbdDuVh"
   },
   "source": [
    "Some datasets don't require any cleaning, but almost all do. This one does. We need to replace '1.0' and '0.0' in the 'Decision' column by 'YES' and 'NO' respectively, clean up the values of the 'gender' column, and change the column names to words which maximize meaning and clarity. "
   ]
  },
  {
   "cell_type": "markdown",
   "metadata": {
    "colab_type": "text",
    "id": "EEXdBALeDuVi"
   },
   "source": [
    "First, let's change the name of `spent_week`, `spent_month`, and `SlrAY` to `spent_last_week` and `spent_last_month` and `salary` respectively."
   ]
  },
  {
   "cell_type": "code",
   "execution_count": 138,
   "metadata": {
    "colab": {},
    "colab_type": "code",
    "id": "rhxy23pbDuVi",
    "ExecuteTime": {
     "end_time": "2023-10-29T02:45:46.542227Z",
     "start_time": "2023-10-29T02:45:45.091795Z"
    }
   },
   "outputs": [
    {
     "data": {
      "text/plain": "Index(['Age', 'Gender', 'num_coffeeBags_per_year', 'spent_week', 'spent_month',\n       'SlrAY', 'Distance', 'Online', 'Decision'],\n      dtype='object')"
     },
     "execution_count": 138,
     "metadata": {},
     "output_type": "execute_result"
    }
   ],
   "source": [
    "# Check out the names of our data's columns \n",
    "coffeeData.columns"
   ]
  },
  {
   "cell_type": "code",
   "execution_count": 139,
   "metadata": {
    "colab": {},
    "colab_type": "code",
    "id": "C_D1m6ryDuVk",
    "ExecuteTime": {
     "end_time": "2023-10-29T02:45:46.608694Z",
     "start_time": "2023-10-29T02:45:45.097686Z"
    }
   },
   "outputs": [],
   "source": [
    "# Make the relevant name changes to spent_week and spent_per_week.\n",
    "coffeeData.rename(\n",
    "    columns={\n",
    "        'spent_week': 'spent_last_week',\n",
    "        'spent_month': 'spent_last_month',\n",
    "        'SlrAY': 'salary',\n",
    "        'Gender': 'gender',\n",
    "        'Age': 'age',\n",
    "        'Distance': 'distance_from_us_flagship_store',\n",
    "        'Online': 'bought_at_least_one_product_online',\n",
    "        'Decision': 'decision'\n",
    "    }, \n",
    "    inplace=True\n",
    ")"
   ]
  },
  {
   "cell_type": "code",
   "execution_count": 140,
   "metadata": {
    "colab": {},
    "colab_type": "code",
    "id": "3cmdaeg8DuVm",
    "ExecuteTime": {
     "end_time": "2023-10-29T02:45:46.609148Z",
     "start_time": "2023-10-29T02:45:45.102949Z"
    }
   },
   "outputs": [
    {
     "data": {
      "text/plain": "Index(['age', 'gender', 'num_coffeeBags_per_year', 'spent_last_week',\n       'spent_last_month', 'salary', 'distance_from_us_flagship_store',\n       'bought_at_least_one_product_online', 'decision'],\n      dtype='object')"
     },
     "execution_count": 140,
     "metadata": {},
     "output_type": "execute_result"
    }
   ],
   "source": [
    "# Check out the column names\n",
    "coffeeData.columns"
   ]
  },
  {
   "cell_type": "code",
   "execution_count": 141,
   "metadata": {
    "colab": {},
    "colab_type": "code",
    "id": "XJK-wbfODuVp",
    "ExecuteTime": {
     "end_time": "2023-10-29T02:45:46.609434Z",
     "start_time": "2023-10-29T02:45:45.108088Z"
    }
   },
   "outputs": [
    {
     "data": {
      "text/plain": "gender\nMale      355\nFemale    340\nfemale      1\nF           1\nf           1\nFEMALE      1\nMALE        1\nmale        1\nM           1\nName: count, dtype: int64"
     },
     "execution_count": 141,
     "metadata": {},
     "output_type": "execute_result"
    }
   ],
   "source": [
    "# Let's have a closer look at the gender column. Its values need cleaning.\n",
    "coffeeData['gender'].value_counts()"
   ]
  },
  {
   "cell_type": "code",
   "execution_count": 142,
   "metadata": {
    "colab": {},
    "colab_type": "code",
    "id": "88bITtgzDuVr",
    "ExecuteTime": {
     "end_time": "2023-10-29T02:45:46.609692Z",
     "start_time": "2023-10-29T02:45:45.114743Z"
    }
   },
   "outputs": [
    {
     "data": {
      "text/plain": "{'F', 'FEMALE', 'Female', 'M', 'MALE', 'Male', 'f ', 'female', 'male'}"
     },
     "execution_count": 142,
     "metadata": {},
     "output_type": "execute_result"
    }
   ],
   "source": [
    "# See the gender column's unique values \n",
    "set(coffeeData['gender'])"
   ]
  },
  {
   "cell_type": "markdown",
   "metadata": {
    "colab_type": "text",
    "id": "-eGzgGR1DuVt"
   },
   "source": [
    "We can see a bunch of inconsistency here.\n",
    "\n",
    "Use replace() to make the values of the `gender` column just `Female` and `Male`."
   ]
  },
  {
   "cell_type": "code",
   "execution_count": 143,
   "metadata": {
    "colab": {},
    "colab_type": "code",
    "id": "h0FOX3I3DuVu",
    "ExecuteTime": {
     "end_time": "2023-10-29T02:45:46.609820Z",
     "start_time": "2023-10-29T02:45:45.121807Z"
    }
   },
   "outputs": [],
   "source": [
    "# Replace all alternate values for the Female entry with 'Female'\n",
    "coffeeData.replace(['F', 'f', 'f ', 'female', 'FEMALE'], 'Female', inplace=True)"
   ]
  },
  {
   "cell_type": "code",
   "execution_count": 144,
   "metadata": {
    "colab": {},
    "colab_type": "code",
    "id": "5TThfHgCDuVw",
    "ExecuteTime": {
     "end_time": "2023-10-29T02:45:46.610132Z",
     "start_time": "2023-10-29T02:45:45.130249Z"
    }
   },
   "outputs": [
    {
     "data": {
      "text/plain": "{'Female', 'M', 'MALE', 'Male', 'male'}"
     },
     "execution_count": 144,
     "metadata": {},
     "output_type": "execute_result"
    }
   ],
   "source": [
    "# Check out the unique values for the 'gender' column\n",
    "set(coffeeData['gender'])"
   ]
  },
  {
   "cell_type": "code",
   "execution_count": 145,
   "metadata": {
    "colab": {},
    "colab_type": "code",
    "id": "4wRKBvSHDuVy",
    "ExecuteTime": {
     "end_time": "2023-10-29T02:45:46.638607Z",
     "start_time": "2023-10-29T02:45:45.135523Z"
    }
   },
   "outputs": [],
   "source": [
    "# Replace all alternate values with \"Male\"\n",
    "coffeeData.replace(['M', 'MALE', 'Male', 'male'], 'Male', inplace=True)"
   ]
  },
  {
   "cell_type": "code",
   "execution_count": 146,
   "metadata": {
    "colab": {},
    "colab_type": "code",
    "id": "nhBUkXIADuV0",
    "ExecuteTime": {
     "end_time": "2023-10-29T02:45:46.640517Z",
     "start_time": "2023-10-29T02:45:45.142681Z"
    }
   },
   "outputs": [
    {
     "data": {
      "text/plain": "{'Female', 'Male'}"
     },
     "execution_count": 146,
     "metadata": {},
     "output_type": "execute_result"
    }
   ],
   "source": [
    "# Let's check the unique values of the column \"gender\"\n",
    "set(coffeeData['gender']) "
   ]
  },
  {
   "cell_type": "code",
   "execution_count": 147,
   "metadata": {
    "colab": {},
    "colab_type": "code",
    "id": "AdhhO4WHDuV2",
    "ExecuteTime": {
     "end_time": "2023-10-29T02:45:46.684622Z",
     "start_time": "2023-10-29T02:45:45.149815Z"
    }
   },
   "outputs": [
    {
     "data": {
      "text/plain": "decision\n1.0    303\nNaN    228\n0.0    171\nName: count, dtype: int64"
     },
     "execution_count": 147,
     "metadata": {},
     "output_type": "execute_result"
    }
   ],
   "source": [
    "# Check out the unique values of the column 'Decision'\n",
    "coffeeData['decision'].value_counts(dropna=False)"
   ]
  },
  {
   "cell_type": "markdown",
   "metadata": {
    "colab_type": "text",
    "id": "m1JuiY-iDuV5"
   },
   "source": [
    "We now want to replace `1.0` and `0.0` in the `Decision` column by `YES` and `NO` respectively."
   ]
  },
  {
   "cell_type": "code",
   "execution_count": 148,
   "metadata": {
    "colab": {},
    "colab_type": "code",
    "id": "QsK6gYPgDuV5",
    "ExecuteTime": {
     "end_time": "2023-10-29T02:45:46.684911Z",
     "start_time": "2023-10-29T02:45:45.156708Z"
    }
   },
   "outputs": [],
   "source": [
    "# Replace 1.0 and 0.0 by 'Yes' and 'No'\n",
    "coffeeData['decision'].replace(\n",
    "    {\n",
    "        1: 'YES',\n",
    "        0: 'NO'\n",
    "    },\n",
    "    inplace=True\n",
    ")"
   ]
  },
  {
   "cell_type": "code",
   "execution_count": 149,
   "metadata": {
    "colab": {},
    "colab_type": "code",
    "id": "YtHnTZuWDuV9",
    "ExecuteTime": {
     "end_time": "2023-10-29T02:45:46.713161Z",
     "start_time": "2023-10-29T02:45:45.163170Z"
    }
   },
   "outputs": [
    {
     "data": {
      "text/plain": "decision\nYES    303\nNaN    228\nNO     171\nName: count, dtype: int64"
     },
     "execution_count": 149,
     "metadata": {},
     "output_type": "execute_result"
    }
   ],
   "source": [
    "# Check that our replacing those values with 'YES' and 'NO' worked, with unique()\n",
    "coffeeData['decision'].value_counts(dropna=False)"
   ]
  },
  {
   "cell_type": "markdown",
   "metadata": {
    "colab_type": "text",
    "id": "CKCt-fBlDuWB"
   },
   "source": [
    "## 2b. Train/test split\n",
    "To execute the train/test split properly, we need to do five things: \n",
    "1. Drop all rows with a null value in the `Decision` column, and save the result as NOPrediction: a dataset that will contain all known values for the decision \n",
    "2. Visualize the data using scatter and boxplots of several variables in the y-axis and the decision on the x-axis\n",
    "3. Get the subset of coffeeData with null values in the `Decision` column, and save that subset as Prediction\n",
    "4. Divide the NOPrediction subset into X and y, and then further divide those subsets into train and test subsets for X and y respectively\n",
    "5. Create dummy variables to deal with categorical inputs"
   ]
  },
  {
   "cell_type": "markdown",
   "metadata": {
    "colab_type": "text",
    "id": "ysHdkIaQDuWB"
   },
   "source": [
    "### 1. Drop all null values within the `Decision` column, and save the result as NoPrediction"
   ]
  },
  {
   "cell_type": "code",
   "execution_count": 150,
   "metadata": {
    "colab": {},
    "colab_type": "code",
    "id": "pvgH6SM4DuWC",
    "ExecuteTime": {
     "end_time": "2023-10-29T02:45:46.784170Z",
     "start_time": "2023-10-29T02:45:45.176448Z"
    }
   },
   "outputs": [
    {
     "data": {
      "text/plain": "              age  num_coffeeBags_per_year  spent_last_week  spent_last_month  \\\ncount  474.000000               474.000000       474.000000        474.000000   \nmean    35.417722                 2.590717        32.592827        106.727848   \nstd     13.604135                 1.585211        15.758109         56.101085   \nmin     16.000000                 0.000000         0.000000          0.000000   \n25%     25.000000                 1.000000        24.000000         60.000000   \n50%     29.000000                 3.000000        35.000000        113.500000   \n75%     49.000000                 4.000000        43.000000        150.000000   \nmax     90.000000                 5.000000        62.000000        210.000000   \n\n              salary  distance_from_us_flagship_store  \\\ncount     474.000000                       474.000000   \nmean    44731.892405                         5.102898   \nstd     25567.674430                         3.354891   \nmin      3150.000000                         0.003168   \n25%     27284.250000                         2.077965   \n50%     42791.500000                         4.832168   \n75%     61621.750000                         7.869086   \nmax    172658.000000                        10.986203   \n\n       bought_at_least_one_product_online  \ncount                          474.000000  \nmean                             0.512658  \nstd                              0.500368  \nmin                              0.000000  \n25%                              0.000000  \n50%                              1.000000  \n75%                              1.000000  \nmax                              1.000000  ",
      "text/html": "<div>\n<style scoped>\n    .dataframe tbody tr th:only-of-type {\n        vertical-align: middle;\n    }\n\n    .dataframe tbody tr th {\n        vertical-align: top;\n    }\n\n    .dataframe thead th {\n        text-align: right;\n    }\n</style>\n<table border=\"1\" class=\"dataframe\">\n  <thead>\n    <tr style=\"text-align: right;\">\n      <th></th>\n      <th>age</th>\n      <th>num_coffeeBags_per_year</th>\n      <th>spent_last_week</th>\n      <th>spent_last_month</th>\n      <th>salary</th>\n      <th>distance_from_us_flagship_store</th>\n      <th>bought_at_least_one_product_online</th>\n    </tr>\n  </thead>\n  <tbody>\n    <tr>\n      <th>count</th>\n      <td>474.000000</td>\n      <td>474.000000</td>\n      <td>474.000000</td>\n      <td>474.000000</td>\n      <td>474.000000</td>\n      <td>474.000000</td>\n      <td>474.000000</td>\n    </tr>\n    <tr>\n      <th>mean</th>\n      <td>35.417722</td>\n      <td>2.590717</td>\n      <td>32.592827</td>\n      <td>106.727848</td>\n      <td>44731.892405</td>\n      <td>5.102898</td>\n      <td>0.512658</td>\n    </tr>\n    <tr>\n      <th>std</th>\n      <td>13.604135</td>\n      <td>1.585211</td>\n      <td>15.758109</td>\n      <td>56.101085</td>\n      <td>25567.674430</td>\n      <td>3.354891</td>\n      <td>0.500368</td>\n    </tr>\n    <tr>\n      <th>min</th>\n      <td>16.000000</td>\n      <td>0.000000</td>\n      <td>0.000000</td>\n      <td>0.000000</td>\n      <td>3150.000000</td>\n      <td>0.003168</td>\n      <td>0.000000</td>\n    </tr>\n    <tr>\n      <th>25%</th>\n      <td>25.000000</td>\n      <td>1.000000</td>\n      <td>24.000000</td>\n      <td>60.000000</td>\n      <td>27284.250000</td>\n      <td>2.077965</td>\n      <td>0.000000</td>\n    </tr>\n    <tr>\n      <th>50%</th>\n      <td>29.000000</td>\n      <td>3.000000</td>\n      <td>35.000000</td>\n      <td>113.500000</td>\n      <td>42791.500000</td>\n      <td>4.832168</td>\n      <td>1.000000</td>\n    </tr>\n    <tr>\n      <th>75%</th>\n      <td>49.000000</td>\n      <td>4.000000</td>\n      <td>43.000000</td>\n      <td>150.000000</td>\n      <td>61621.750000</td>\n      <td>7.869086</td>\n      <td>1.000000</td>\n    </tr>\n    <tr>\n      <th>max</th>\n      <td>90.000000</td>\n      <td>5.000000</td>\n      <td>62.000000</td>\n      <td>210.000000</td>\n      <td>172658.000000</td>\n      <td>10.986203</td>\n      <td>1.000000</td>\n    </tr>\n  </tbody>\n</table>\n</div>"
     },
     "execution_count": 150,
     "metadata": {},
     "output_type": "execute_result"
    }
   ],
   "source": [
    "# NoPrediction will contain all known values for the decision\n",
    "# Call dropna() on coffeeData, and store the result in a variable NOPrediction \n",
    "# Call describe() on the Decision column of NoPrediction after calling dropna() on coffeeData\n",
    "NOPrediction = coffeeData.dropna(subset='decision')\n",
    "NOPrediction.describe()"
   ]
  },
  {
   "cell_type": "markdown",
   "metadata": {
    "colab_type": "text",
    "id": "XfTK5Ec6DuWE"
   },
   "source": [
    "### 2. Visualize the data using scatter and boxplots of several variables in the y-axis and the decision on the x-axis"
   ]
  },
  {
   "cell_type": "code",
   "execution_count": 151,
   "metadata": {
    "colab": {},
    "colab_type": "code",
    "id": "5O-M-t3tDuWE",
    "ExecuteTime": {
     "end_time": "2023-10-29T02:45:47.621968Z",
     "start_time": "2023-10-29T02:45:45.198607Z"
    }
   },
   "outputs": [
    {
     "data": {
      "text/plain": "<Figure size 640x480 with 1 Axes>",
      "image/png": "[encoded data removed]"
     },
     "metadata": {},
     "output_type": "display_data"
    }
   ],
   "source": [
    "# Exploring our new NOPrediction dataset\n",
    "# Make a boxplot on NOPrediction where the x axis is Decision, and the y axis is spent_last_week\n",
    "_ = sns.boxplot(data=NOPrediction, x='decision', y='spent_last_week').set_title('How Much Spent Last Week on RR Diner Coffee Products')"
   ]
  },
  {
   "cell_type": "markdown",
   "metadata": {
    "colab_type": "text",
    "id": "mVqg_HI7DuWG"
   },
   "source": [
    "Can you admissibly conclude anything from this boxplot? Write your answer here:\n",
    "There might be an association between how much the customers spent last week with the decisions of whether/not to buy the new Hidden Farm Coffee. However, additional statistical significance test should be performed to be more certain with the association."
   ]
  },
  {
   "cell_type": "code",
   "execution_count": 152,
   "metadata": {
    "colab": {},
    "colab_type": "code",
    "id": "q-AyXWSxDuWH",
    "ExecuteTime": {
     "end_time": "2023-10-29T02:45:47.762451Z",
     "start_time": "2023-10-29T02:45:45.392234Z"
    }
   },
   "outputs": [
    {
     "data": {
      "text/plain": "<Figure size 640x480 with 1 Axes>",
      "image/png": "[encoded data removed]"
     },
     "metadata": {},
     "output_type": "display_data"
    }
   ],
   "source": [
    "# Make a scatterplot on NOPrediction, where x is distance, y is spent_last_month and hue is Decision \n",
    "_ = sns.scatterplot(data=NOPrediction, x='distance_from_us_flagship_store', y='spent_last_month', hue='decision').set_title('Customers Who Showed Interests in Buying Hidden Farm Coffee')"
   ]
  },
  {
   "cell_type": "markdown",
   "source": [
    "Can you admissibly conclude anything from this scatterplot? Remember: we are trying to build a tree to classify unseen examples. Write your answer here:\n",
    "The amount of customers have spent in the last month seemed to have positive association with the decision to buy the Hidden Farm Coffee. This is also combined with their distance to the store's US Flagship store (the closer the more likely they're to buy). However, this assumption has not been tested with statistical significance test (eg. to see if customers located closer and generally-spent more are more willing to buy Hidden Farm Coffee)."
   ],
   "metadata": {
    "collapsed": false
   }
  },
  {
   "cell_type": "markdown",
   "source": [
    "### 3. Get the subset of coffeeData with null values in the Decision column, and save that subset as Prediction"
   ],
   "metadata": {
    "collapsed": false
   }
  },
  {
   "cell_type": "code",
   "execution_count": 153,
   "outputs": [
    {
     "data": {
      "text/plain": "(474, 9)"
     },
     "execution_count": 153,
     "metadata": {},
     "output_type": "execute_result"
    }
   ],
   "source": [
    "# Get just those rows whose value for the Decision column is null  \n",
    "Prediction = coffeeData[coffeeData['decision'].isna()]\n",
    "NOPrediction.shape"
   ],
   "metadata": {
    "collapsed": false,
    "ExecuteTime": {
     "end_time": "2023-10-29T02:45:47.762805Z",
     "start_time": "2023-10-29T02:45:45.767771Z"
    }
   }
  },
  {
   "cell_type": "code",
   "execution_count": 154,
   "outputs": [
    {
     "data": {
      "text/plain": "              age  num_coffeeBags_per_year  spent_last_week  spent_last_month  \\\ncount  228.000000               228.000000       228.000000        228.000000   \nmean    31.802632                 2.960526        33.394737        110.407895   \nstd     14.302293                 1.585514        15.697930         53.786536   \nmin     16.000000                 0.000000         0.000000          0.000000   \n25%     22.000000                 2.000000        25.750000         65.000000   \n50%     25.000000                 3.000000        37.000000        113.500000   \n75%     39.000000                 4.000000        44.000000        151.250000   \nmax     67.000000                 5.000000        62.000000        210.000000   \n\n              salary  distance_from_us_flagship_store  \\\ncount     228.000000                       228.000000   \nmean    41923.741228                         3.428836   \nstd     27406.768360                         2.153102   \nmin      1617.000000                         0.010048   \n25%     15911.500000                         1.699408   \n50%     40987.500000                         3.208673   \n75%     58537.000000                         5.261184   \nmax    182058.000000                        10.871566   \n\n       bought_at_least_one_product_online  \ncount                          228.000000  \nmean                             0.570175  \nstd                              0.496140  \nmin                              0.000000  \n25%                              0.000000  \n50%                              1.000000  \n75%                              1.000000  \nmax                              1.000000  ",
      "text/html": "<div>\n<style scoped>\n    .dataframe tbody tr th:only-of-type {\n        vertical-align: middle;\n    }\n\n    .dataframe tbody tr th {\n        vertical-align: top;\n    }\n\n    .dataframe thead th {\n        text-align: right;\n    }\n</style>\n<table border=\"1\" class=\"dataframe\">\n  <thead>\n    <tr style=\"text-align: right;\">\n      <th></th>\n      <th>age</th>\n      <th>num_coffeeBags_per_year</th>\n      <th>spent_last_week</th>\n      <th>spent_last_month</th>\n      <th>salary</th>\n      <th>distance_from_us_flagship_store</th>\n      <th>bought_at_least_one_product_online</th>\n    </tr>\n  </thead>\n  <tbody>\n    <tr>\n      <th>count</th>\n      <td>228.000000</td>\n      <td>228.000000</td>\n      <td>228.000000</td>\n      <td>228.000000</td>\n      <td>228.000000</td>\n      <td>228.000000</td>\n      <td>228.000000</td>\n    </tr>\n    <tr>\n      <th>mean</th>\n      <td>31.802632</td>\n      <td>2.960526</td>\n      <td>33.394737</td>\n      <td>110.407895</td>\n      <td>41923.741228</td>\n      <td>3.428836</td>\n      <td>0.570175</td>\n    </tr>\n    <tr>\n      <th>std</th>\n      <td>14.302293</td>\n      <td>1.585514</td>\n      <td>15.697930</td>\n      <td>53.786536</td>\n      <td>27406.768360</td>\n      <td>2.153102</td>\n      <td>0.496140</td>\n    </tr>\n    <tr>\n      <th>min</th>\n      <td>16.000000</td>\n      <td>0.000000</td>\n      <td>0.000000</td>\n      <td>0.000000</td>\n      <td>1617.000000</td>\n      <td>0.010048</td>\n      <td>0.000000</td>\n    </tr>\n    <tr>\n      <th>25%</th>\n      <td>22.000000</td>\n      <td>2.000000</td>\n      <td>25.750000</td>\n      <td>65.000000</td>\n      <td>15911.500000</td>\n      <td>1.699408</td>\n      <td>0.000000</td>\n    </tr>\n    <tr>\n      <th>50%</th>\n      <td>25.000000</td>\n      <td>3.000000</td>\n      <td>37.000000</td>\n      <td>113.500000</td>\n      <td>40987.500000</td>\n      <td>3.208673</td>\n      <td>1.000000</td>\n    </tr>\n    <tr>\n      <th>75%</th>\n      <td>39.000000</td>\n      <td>4.000000</td>\n      <td>44.000000</td>\n      <td>151.250000</td>\n      <td>58537.000000</td>\n      <td>5.261184</td>\n      <td>1.000000</td>\n    </tr>\n    <tr>\n      <th>max</th>\n      <td>67.000000</td>\n      <td>5.000000</td>\n      <td>62.000000</td>\n      <td>210.000000</td>\n      <td>182058.000000</td>\n      <td>10.871566</td>\n      <td>1.000000</td>\n    </tr>\n  </tbody>\n</table>\n</div>"
     },
     "execution_count": 154,
     "metadata": {},
     "output_type": "execute_result"
    }
   ],
   "source": [
    "# Call describe() on Prediction\n",
    "Prediction.describe()"
   ],
   "metadata": {
    "collapsed": false,
    "ExecuteTime": {
     "end_time": "2023-10-29T02:45:47.763565Z",
     "start_time": "2023-10-29T02:45:45.772706Z"
    }
   }
  },
  {
   "cell_type": "markdown",
   "metadata": {
    "colab_type": "text",
    "id": "zmN_BPwFDuWO"
   },
   "source": [
    "### 4. Divide the NOPrediction subset into X and y"
   ]
  },
  {
   "cell_type": "code",
   "execution_count": 155,
   "metadata": {
    "colab": {},
    "colab_type": "code",
    "id": "00WtPVYSDuWP",
    "ExecuteTime": {
     "end_time": "2023-10-29T02:45:47.763937Z",
     "start_time": "2023-10-29T02:45:45.793863Z"
    }
   },
   "outputs": [
    {
     "data": {
      "text/plain": "Index(['age', 'gender', 'num_coffeeBags_per_year', 'spent_last_week',\n       'spent_last_month', 'salary', 'distance_from_us_flagship_store',\n       'bought_at_least_one_product_online', 'decision'],\n      dtype='object')"
     },
     "execution_count": 155,
     "metadata": {},
     "output_type": "execute_result"
    }
   ],
   "source": [
    "# Check the names of the columns of NOPrediction\n",
    "NOPrediction.columns"
   ]
  },
  {
   "cell_type": "code",
   "execution_count": 156,
   "metadata": {
    "colab": {},
    "colab_type": "code",
    "id": "oPi2gMLfDuWQ",
    "ExecuteTime": {
     "end_time": "2023-10-29T02:45:47.764077Z",
     "start_time": "2023-10-29T02:45:45.799761Z"
    }
   },
   "outputs": [],
   "source": [
    "# Let's do our feature selection.\n",
    "\n",
    "# Make an explanatory variable called X, and assign it: NoPrediction[features]\n",
    "X = NOPrediction.drop('decision', axis=1)\n",
    "\n",
    "# Make a dependent variable called y, and assign it: NoPrediction.Decision\n",
    "y = NOPrediction['decision']"
   ]
  },
  {
   "cell_type": "markdown",
   "metadata": {
    "colab_type": "text",
    "id": "R-d3XOv8DuWW"
   },
   "source": [
    "### 5. Create dummy variables to deal with categorical inputs\n",
    "One-hot encoding replaces each unique value of a given column with a new column, and puts a 1 in the new column for a given row just if its initial value for the original column matches the new column. Check out [this resource](https://hackernoon.com/what-is-one-hot-encoding-why-and-when-do-you-have-to-use-it-e3c6186d008f) if you haven't seen one-hot-encoding before. \n",
    "\n",
    "**Note**: We will do this before we do our train/test split as to do it after could mean that some categories only end up in the train or test split of our data by chance and this would then lead to different shapes of data for our `X_train` and `X_test` which could/would cause downstream issues when fitting or predicting using a trained model."
   ]
  },
  {
   "cell_type": "code",
   "execution_count": 157,
   "metadata": {
    "colab": {},
    "colab_type": "code",
    "id": "xXHGDZkZDuWW",
    "ExecuteTime": {
     "end_time": "2023-10-29T02:45:47.764215Z",
     "start_time": "2023-10-29T02:45:45.806839Z"
    }
   },
   "outputs": [],
   "source": [
    "# One-hot encode all features in X.\n",
    "X = pd.get_dummies(X)"
   ]
  },
  {
   "cell_type": "markdown",
   "metadata": {
    "colab_type": "text",
    "id": "Jdn_dHlkDuWS"
   },
   "source": [
    "### 6. Further divide those subsets into train and test subsets for X and y respectively: X_train, X_test, y_train, y_test"
   ]
  },
  {
   "cell_type": "code",
   "execution_count": 158,
   "metadata": {
    "colab": {},
    "colab_type": "code",
    "id": "RqbHQza-DuWT",
    "ExecuteTime": {
     "end_time": "2023-10-29T02:45:47.764366Z",
     "start_time": "2023-10-29T02:45:45.812213Z"
    }
   },
   "outputs": [],
   "source": [
    "# Call train_test_split on X, y. Make the test_size = 0.25, and random_state = 246\n",
    "X_train, X_test, y_train, y_test = train_test_split(X, y, test_size=0.25, random_state = 246, stratify=y)"
   ]
  },
  {
   "cell_type": "markdown",
   "metadata": {
    "colab_type": "text",
    "id": "nqvyCX-6DuWb"
   },
   "source": [
    "# 3. Modelling\n",
    "It's useful to look at the scikit-learn documentation on decision trees https://scikit-learn.org/stable/modules/tree.html before launching into applying them. If you haven't seen them before, take a look at that link, in particular the section `1.10.5.` "
   ]
  },
  {
   "cell_type": "markdown",
   "metadata": {
    "colab_type": "text",
    "id": "RIm9IN5HDuWc"
   },
   "source": [
    "## Model 1: Entropy model - no max_depth\n",
    "\n",
    "We'll give you a little more guidance here, as the Python is hard to deduce, and scikitlearn takes some getting used to.\n",
    "\n",
    "Theoretically, let's remind ourselves of what's going on with a decision tree implementing an entropy model.\n",
    "\n",
    "Ross Quinlan's **ID3 Algorithm** was one of the first, and one of the most basic, to use entropy as a metric.\n",
    "\n",
    "**Entropy** is a measure of how uncertain we are about which category the data-points fall into at a given point in the tree. The **Information gain** of a specific feature with a threshold (such as 'spent_last_month <= 138.0') is the difference in entropy that exists before and after splitting on that feature; i.e., the information we gain about the categories of the data-points by splitting on that feature and that threshold. \n",
    "\n",
    "Naturally, we want to minimize entropy and maximize information gain. Quinlan's ID3 algorithm is designed to output a tree such that the features at each node, starting from the root, and going all the way down to the leaves, have maximial information gain. We want a tree whose leaves have elements that are *homogeneous*, that is, all of the same category. \n",
    "\n",
    "The first model will be the hardest. Persevere and you'll reap the rewards: you can use almost exactly the same code for the other models. "
   ]
  },
  {
   "cell_type": "code",
   "execution_count": 159,
   "metadata": {
    "colab": {},
    "colab_type": "code",
    "id": "8-gelLDgDuWc",
    "ExecuteTime": {
     "end_time": "2023-10-29T02:45:47.765193Z",
     "start_time": "2023-10-29T02:45:45.819575Z"
    }
   },
   "outputs": [
    {
     "data": {
      "text/plain": "DecisionTreeClassifier(criterion='entropy')",
      "text/html": "<style>#sk-container-id-14 {color: black;}#sk-container-id-14 pre{padding: 0;}#sk-container-id-14 div.sk-toggleable {background-color: white;}#sk-container-id-14 label.sk-toggleable__label {cursor: pointer;display: block;width: 100%;margin-bottom: 0;padding: 0.3em;box-sizing: border-box;text-align: center;}#sk-container-id-14 label.sk-toggleable__label-arrow:before {content: \"▸\";float: left;margin-right: 0.25em;color: #696969;}#sk-container-id-14 label.sk-toggleable__label-arrow:hover:before {color: black;}#sk-container-id-14 div.sk-estimator:hover label.sk-toggleable__label-arrow:before {color: black;}#sk-container-id-14 div.sk-toggleable__content {max-height: 0;max-width: 0;overflow: hidden;text-align: left;background-color: #f0f8ff;}#sk-container-id-14 div.sk-toggleable__content pre {margin: 0.2em;color: black;border-radius: 0.25em;background-color: #f0f8ff;}#sk-container-id-14 input.sk-toggleable__control:checked~div.sk-toggleable__content {max-height: 200px;max-width: 100%;overflow: auto;}#sk-container-id-14 input.sk-toggleable__control:checked~label.sk-toggleable__label-arrow:before {content: \"▾\";}#sk-container-id-14 div.sk-estimator input.sk-toggleable__control:checked~label.sk-toggleable__label {background-color: #d4ebff;}#sk-container-id-14 div.sk-label input.sk-toggleable__control:checked~label.sk-toggleable__label {background-color: #d4ebff;}#sk-container-id-14 input.sk-hidden--visually {border: 0;clip: rect(1px 1px 1px 1px);clip: rect(1px, 1px, 1px, 1px);height: 1px;margin: -1px;overflow: hidden;padding: 0;position: absolute;width: 1px;}#sk-container-id-14 div.sk-estimator {font-family: monospace;background-color: #f0f8ff;border: 1px dotted black;border-radius: 0.25em;box-sizing: border-box;margin-bottom: 0.5em;}#sk-container-id-14 div.sk-estimator:hover {background-color: #d4ebff;}#sk-container-id-14 div.sk-parallel-item::after {content: \"\";width: 100%;border-bottom: 1px solid gray;flex-grow: 1;}#sk-container-id-14 div.sk-label:hover label.sk-toggleable__label {background-color: #d4ebff;}#sk-container-id-14 div.sk-serial::before {content: \"\";position: absolute;border-left: 1px solid gray;box-sizing: border-box;top: 0;bottom: 0;left: 50%;z-index: 0;}#sk-container-id-14 div.sk-serial {display: flex;flex-direction: column;align-items: center;background-color: white;padding-right: 0.2em;padding-left: 0.2em;position: relative;}#sk-container-id-14 div.sk-item {position: relative;z-index: 1;}#sk-container-id-14 div.sk-parallel {display: flex;align-items: stretch;justify-content: center;background-color: white;position: relative;}#sk-container-id-14 div.sk-item::before, #sk-container-id-14 div.sk-parallel-item::before {content: \"\";position: absolute;border-left: 1px solid gray;box-sizing: border-box;top: 0;bottom: 0;left: 50%;z-index: -1;}#sk-container-id-14 div.sk-parallel-item {display: flex;flex-direction: column;z-index: 1;position: relative;background-color: white;}#sk-container-id-14 div.sk-parallel-item:first-child::after {align-self: flex-end;width: 50%;}#sk-container-id-14 div.sk-parallel-item:last-child::after {align-self: flex-start;width: 50%;}#sk-container-id-14 div.sk-parallel-item:only-child::after {width: 0;}#sk-container-id-14 div.sk-dashed-wrapped {border: 1px dashed gray;margin: 0 0.4em 0.5em 0.4em;box-sizing: border-box;padding-bottom: 0.4em;background-color: white;}#sk-container-id-14 div.sk-label label {font-family: monospace;font-weight: bold;display: inline-block;line-height: 1.2em;}#sk-container-id-14 div.sk-label-container {text-align: center;}#sk-container-id-14 div.sk-container {/* jupyter's `normalize.less` sets `[hidden] { display: none; }` but bootstrap.min.css set `[hidden] { display: none !important; }` so we also need the `!important` here to be able to override the default hidden behavior on the sphinx rendered scikit-learn.org. See: https://github.com/scikit-learn/scikit-learn/issues/21755 */display: inline-block !important;position: relative;}#sk-container-id-14 div.sk-text-repr-fallback {display: none;}</style><div id=\"sk-container-id-14\" class=\"sk-top-container\"><div class=\"sk-text-repr-fallback\"><pre>DecisionTreeClassifier(criterion=&#x27;entropy&#x27;)</pre><b>In a Jupyter environment, please rerun this cell to show the HTML representation or trust the notebook. <br />On GitHub, the HTML representation is unable to render, please try loading this page with nbviewer.org.</b></div><div class=\"sk-container\" hidden><div class=\"sk-item\"><div class=\"sk-estimator sk-toggleable\"><input class=\"sk-toggleable__control sk-hidden--visually\" id=\"sk-estimator-id-14\" type=\"checkbox\" checked><label for=\"sk-estimator-id-14\" class=\"sk-toggleable__label sk-toggleable__label-arrow\">DecisionTreeClassifier</label><div class=\"sk-toggleable__content\"><pre>DecisionTreeClassifier(criterion=&#x27;entropy&#x27;)</pre></div></div></div></div></div>"
     },
     "execution_count": 159,
     "metadata": {},
     "output_type": "execute_result"
    }
   ],
   "source": [
    "# Declare a variable called entr_model and use tree.DecisionTreeClassifier. \n",
    "entr_model = tree.DecisionTreeClassifier(criterion='entropy')\n",
    "\n",
    "# Call fit() on entr_model\n",
    "entr_model.fit(X_train, y_train)\n",
    "\n",
    "# Call predict() on entr_model with X_test passed to it, and assign the result to a variable y_pred \n",
    "y_pred = entr_model.predict(X_test)\n",
    "\n",
    "# Call Series on our y_pred variable with the following: pd.Series(y_pred)\n",
    "y_pred = pd.Series(y_pred)\n",
    "\n",
    "# Check out entr_model\n",
    "entr_model"
   ]
  },
  {
   "cell_type": "code",
   "execution_count": 160,
   "outputs": [
    {
     "data": {
      "image/svg+xml": "<?xml version=\"1.0\" encoding=\"UTF-8\" standalone=\"no\"?>\n<!DOCTYPE svg PUBLIC \"-//W3C//DTD SVG 1.1//EN\"\n \"http://www.w3.org/Graphics/SVG/1.1/DTD/svg11.dtd\">\n<!-- Generated by graphviz version 9.0.0 (20230911.1827)\n -->\n<!-- Title: Tree Pages: 1 -->\n<svg width=\"852pt\" height=\"790pt\"\n viewBox=\"0.00 0.00 851.50 790.00\" xmlns=\"http://www.w3.org/2000/svg\" xmlns:xlink=\"http://www.w3.org/1999/xlink\">\n<g id=\"graph0\" class=\"graph\" transform=\"scale(1 1) rotate(0) translate(4 786)\">\n<title>Tree</title>\n<polygon fill=\"white\" stroke=\"none\" points=\"-4,4 -4,-786 847.5,-786 847.5,4 -4,4\"/>\n<!-- 0 -->\n<g id=\"node1\" class=\"node\">\n<title>0</title>\n<path fill=\"#a9d4f4\" stroke=\"black\" d=\"M501.75,-782C501.75,-782 353.75,-782 353.75,-782 347.75,-782 341.75,-776 341.75,-770 341.75,-770 341.75,-711 341.75,-711 341.75,-705 347.75,-699 353.75,-699 353.75,-699 501.75,-699 501.75,-699 507.75,-699 513.75,-705 513.75,-711 513.75,-711 513.75,-770 513.75,-770 513.75,-776 507.75,-782 501.75,-782\"/>\n<text text-anchor=\"start\" x=\"349.75\" y=\"-764.7\" font-family=\"Helvetica,sans-Serif\" font-size=\"14.00\">spent_last_month ≤ 138.0</text>\n<text text-anchor=\"start\" x=\"380.5\" y=\"-749.7\" font-family=\"Helvetica,sans-Serif\" font-size=\"14.00\">entropy = 0.943</text>\n<text text-anchor=\"start\" x=\"383.12\" y=\"-734.7\" font-family=\"Helvetica,sans-Serif\" font-size=\"14.00\">samples = 355</text>\n<text text-anchor=\"start\" x=\"373.75\" y=\"-719.7\" font-family=\"Helvetica,sans-Serif\" font-size=\"14.00\">value = [128, 227]</text>\n<text text-anchor=\"start\" x=\"391\" y=\"-704.7\" font-family=\"Helvetica,sans-Serif\" font-size=\"14.00\">class = YES</text>\n</g>\n<!-- 1 -->\n<g id=\"node2\" class=\"node\">\n<title>1</title>\n<path fill=\"#f9e0cf\" stroke=\"black\" d=\"M445.5,-663C445.5,-663 206,-663 206,-663 200,-663 194,-657 194,-651 194,-651 194,-592 194,-592 194,-586 200,-580 206,-580 206,-580 445.5,-580 445.5,-580 451.5,-580 457.5,-586 457.5,-592 457.5,-592 457.5,-651 457.5,-651 457.5,-657 451.5,-663 445.5,-663\"/>\n<text text-anchor=\"start\" x=\"202\" y=\"-645.7\" font-family=\"Helvetica,sans-Serif\" font-size=\"14.00\">distance_from_us_flagship_store ≤ 3.481</text>\n<text text-anchor=\"start\" x=\"278.5\" y=\"-630.7\" font-family=\"Helvetica,sans-Serif\" font-size=\"14.00\">entropy = 0.986</text>\n<text text-anchor=\"start\" x=\"281.12\" y=\"-615.7\" font-family=\"Helvetica,sans-Serif\" font-size=\"14.00\">samples = 225</text>\n<text text-anchor=\"start\" x=\"275.5\" y=\"-600.7\" font-family=\"Helvetica,sans-Serif\" font-size=\"14.00\">value = [128, 97]</text>\n<text text-anchor=\"start\" x=\"292\" y=\"-585.7\" font-family=\"Helvetica,sans-Serif\" font-size=\"14.00\">class = NO</text>\n</g>\n<!-- 0&#45;&gt;1 -->\n<g id=\"edge1\" class=\"edge\">\n<title>0&#45;&gt;1</title>\n<path fill=\"none\" stroke=\"black\" d=\"M392.08,-698.58C384.5,-689.89 376.43,-680.63 368.62,-671.67\"/>\n<polygon fill=\"black\" stroke=\"black\" points=\"371.44,-669.58 362.23,-664.34 366.16,-674.18 371.44,-669.58\"/>\n<text text-anchor=\"middle\" x=\"359.52\" y=\"-682.34\" font-family=\"Helvetica,sans-Serif\" font-size=\"14.00\">True</text>\n</g>\n<!-- 20 -->\n<g id=\"node21\" class=\"node\">\n<title>20</title>\n<path fill=\"#399de5\" stroke=\"black\" d=\"M572.25,-655.5C572.25,-655.5 487.25,-655.5 487.25,-655.5 481.25,-655.5 475.25,-649.5 475.25,-643.5 475.25,-643.5 475.25,-599.5 475.25,-599.5 475.25,-593.5 481.25,-587.5 487.25,-587.5 487.25,-587.5 572.25,-587.5 572.25,-587.5 578.25,-587.5 584.25,-593.5 584.25,-599.5 584.25,-599.5 584.25,-643.5 584.25,-643.5 584.25,-649.5 578.25,-655.5 572.25,-655.5\"/>\n<text text-anchor=\"start\" x=\"490\" y=\"-638.2\" font-family=\"Helvetica,sans-Serif\" font-size=\"14.00\">entropy = 0.0</text>\n<text text-anchor=\"start\" x=\"485.12\" y=\"-623.2\" font-family=\"Helvetica,sans-Serif\" font-size=\"14.00\">samples = 130</text>\n<text text-anchor=\"start\" x=\"483.25\" y=\"-608.2\" font-family=\"Helvetica,sans-Serif\" font-size=\"14.00\">value = [0, 130]</text>\n<text text-anchor=\"start\" x=\"493\" y=\"-593.2\" font-family=\"Helvetica,sans-Serif\" font-size=\"14.00\">class = YES</text>\n</g>\n<!-- 0&#45;&gt;20 -->\n<g id=\"edge20\" class=\"edge\">\n<title>0&#45;&gt;20</title>\n<path fill=\"none\" stroke=\"black\" d=\"M463.42,-698.58C473.03,-687.56 483.45,-675.61 493.11,-664.53\"/>\n<polygon fill=\"black\" stroke=\"black\" points=\"495.74,-666.84 499.67,-657 490.46,-662.24 495.74,-666.84\"/>\n<text text-anchor=\"middle\" x=\"502.37\" y=\"-675\" font-family=\"Helvetica,sans-Serif\" font-size=\"14.00\">False</text>\n</g>\n<!-- 2 -->\n<g id=\"node3\" class=\"node\">\n<title>2</title>\n<path fill=\"#57ace9\" stroke=\"black\" d=\"M297,-544C297,-544 156.5,-544 156.5,-544 150.5,-544 144.5,-538 144.5,-532 144.5,-532 144.5,-473 144.5,-473 144.5,-467 150.5,-461 156.5,-461 156.5,-461 297,-461 297,-461 303,-461 309,-467 309,-473 309,-473 309,-532 309,-532 309,-538 303,-544 297,-544\"/>\n<text text-anchor=\"start\" x=\"152.5\" y=\"-526.7\" font-family=\"Helvetica,sans-Serif\" font-size=\"14.00\">spent_last_month ≤ 24.5</text>\n<text text-anchor=\"start\" x=\"179.5\" y=\"-511.7\" font-family=\"Helvetica,sans-Serif\" font-size=\"14.00\">entropy = 0.562</text>\n<text text-anchor=\"start\" x=\"185.88\" y=\"-496.7\" font-family=\"Helvetica,sans-Serif\" font-size=\"14.00\">samples = 76</text>\n<text text-anchor=\"start\" x=\"180.25\" y=\"-481.7\" font-family=\"Helvetica,sans-Serif\" font-size=\"14.00\">value = [10, 66]</text>\n<text text-anchor=\"start\" x=\"190\" y=\"-466.7\" font-family=\"Helvetica,sans-Serif\" font-size=\"14.00\">class = YES</text>\n</g>\n<!-- 1&#45;&gt;2 -->\n<g id=\"edge2\" class=\"edge\">\n<title>1&#45;&gt;2</title>\n<path fill=\"none\" stroke=\"black\" d=\"M291.12,-579.58C283.85,-570.98 276.1,-561.82 268.59,-552.95\"/>\n<polygon fill=\"black\" stroke=\"black\" points=\"271.3,-550.73 262.17,-545.36 265.95,-555.25 271.3,-550.73\"/>\n</g>\n<!-- 11 -->\n<g id=\"node12\" class=\"node\">\n<title>11</title>\n<path fill=\"#eca26d\" stroke=\"black\" d=\"M498.75,-544C498.75,-544 350.75,-544 350.75,-544 344.75,-544 338.75,-538 338.75,-532 338.75,-532 338.75,-473 338.75,-473 338.75,-467 344.75,-461 350.75,-461 350.75,-461 498.75,-461 498.75,-461 504.75,-461 510.75,-467 510.75,-473 510.75,-473 510.75,-532 510.75,-532 510.75,-538 504.75,-544 498.75,-544\"/>\n<text text-anchor=\"start\" x=\"346.75\" y=\"-526.7\" font-family=\"Helvetica,sans-Serif\" font-size=\"14.00\">spent_last_month ≤ 101.0</text>\n<text text-anchor=\"start\" x=\"377.5\" y=\"-511.7\" font-family=\"Helvetica,sans-Serif\" font-size=\"14.00\">entropy = 0.738</text>\n<text text-anchor=\"start\" x=\"380.12\" y=\"-496.7\" font-family=\"Helvetica,sans-Serif\" font-size=\"14.00\">samples = 149</text>\n<text text-anchor=\"start\" x=\"374.5\" y=\"-481.7\" font-family=\"Helvetica,sans-Serif\" font-size=\"14.00\">value = [118, 31]</text>\n<text text-anchor=\"start\" x=\"391\" y=\"-466.7\" font-family=\"Helvetica,sans-Serif\" font-size=\"14.00\">class = NO</text>\n</g>\n<!-- 1&#45;&gt;11 -->\n<g id=\"edge11\" class=\"edge\">\n<title>1&#45;&gt;11</title>\n<path fill=\"none\" stroke=\"black\" d=\"M360.38,-579.58C367.65,-570.98 375.4,-561.82 382.91,-552.95\"/>\n<polygon fill=\"black\" stroke=\"black\" points=\"385.55,-555.25 389.33,-545.36 380.2,-550.73 385.55,-555.25\"/>\n</g>\n<!-- 3 -->\n<g id=\"node4\" class=\"node\">\n<title>3</title>\n<path fill=\"#e58139\" stroke=\"black\" d=\"M141.5,-417.5C141.5,-417.5 70,-417.5 70,-417.5 64,-417.5 58,-411.5 58,-405.5 58,-405.5 58,-361.5 58,-361.5 58,-355.5 64,-349.5 70,-349.5 70,-349.5 141.5,-349.5 141.5,-349.5 147.5,-349.5 153.5,-355.5 153.5,-361.5 153.5,-361.5 153.5,-405.5 153.5,-405.5 153.5,-411.5 147.5,-417.5 141.5,-417.5\"/>\n<text text-anchor=\"start\" x=\"66\" y=\"-400.2\" font-family=\"Helvetica,sans-Serif\" font-size=\"14.00\">entropy = 0.0</text>\n<text text-anchor=\"start\" x=\"68.62\" y=\"-385.2\" font-family=\"Helvetica,sans-Serif\" font-size=\"14.00\">samples = 8</text>\n<text text-anchor=\"start\" x=\"66.75\" y=\"-370.2\" font-family=\"Helvetica,sans-Serif\" font-size=\"14.00\">value = [8, 0]</text>\n<text text-anchor=\"start\" x=\"72\" y=\"-355.2\" font-family=\"Helvetica,sans-Serif\" font-size=\"14.00\">class = NO</text>\n</g>\n<!-- 2&#45;&gt;3 -->\n<g id=\"edge3\" class=\"edge\">\n<title>2&#45;&gt;3</title>\n<path fill=\"none\" stroke=\"black\" d=\"M184.43,-460.58C172.69,-449.23 159.95,-436.9 148.2,-425.55\"/>\n<polygon fill=\"black\" stroke=\"black\" points=\"150.96,-423.35 141.34,-418.91 146.1,-428.38 150.96,-423.35\"/>\n</g>\n<!-- 4 -->\n<g id=\"node5\" class=\"node\">\n<title>4</title>\n<path fill=\"#3fa0e6\" stroke=\"black\" d=\"M270,-425C270,-425 183.5,-425 183.5,-425 177.5,-425 171.5,-419 171.5,-413 171.5,-413 171.5,-354 171.5,-354 171.5,-348 177.5,-342 183.5,-342 183.5,-342 270,-342 270,-342 276,-342 282,-348 282,-354 282,-354 282,-413 282,-413 282,-419 276,-425 270,-425\"/>\n<text text-anchor=\"start\" x=\"194.88\" y=\"-407.7\" font-family=\"Helvetica,sans-Serif\" font-size=\"14.00\">age ≤ 50.5</text>\n<text text-anchor=\"start\" x=\"179.5\" y=\"-392.7\" font-family=\"Helvetica,sans-Serif\" font-size=\"14.00\">entropy = 0.191</text>\n<text text-anchor=\"start\" x=\"185.88\" y=\"-377.7\" font-family=\"Helvetica,sans-Serif\" font-size=\"14.00\">samples = 68</text>\n<text text-anchor=\"start\" x=\"184\" y=\"-362.7\" font-family=\"Helvetica,sans-Serif\" font-size=\"14.00\">value = [2, 66]</text>\n<text text-anchor=\"start\" x=\"190\" y=\"-347.7\" font-family=\"Helvetica,sans-Serif\" font-size=\"14.00\">class = YES</text>\n</g>\n<!-- 2&#45;&gt;4 -->\n<g id=\"edge4\" class=\"edge\">\n<title>2&#45;&gt;4</title>\n<path fill=\"none\" stroke=\"black\" d=\"M226.75,-460.58C226.75,-452.79 226.75,-444.53 226.75,-436.45\"/>\n<polygon fill=\"black\" stroke=\"black\" points=\"230.25,-436.71 226.75,-426.71 223.25,-436.71 230.25,-436.71\"/>\n</g>\n<!-- 5 -->\n<g id=\"node6\" class=\"node\">\n<title>5</title>\n<path fill=\"#399de5\" stroke=\"black\" d=\"M148.5,-298.5C148.5,-298.5 71,-298.5 71,-298.5 65,-298.5 59,-292.5 59,-286.5 59,-286.5 59,-242.5 59,-242.5 59,-236.5 65,-230.5 71,-230.5 71,-230.5 148.5,-230.5 148.5,-230.5 154.5,-230.5 160.5,-236.5 160.5,-242.5 160.5,-242.5 160.5,-286.5 160.5,-286.5 160.5,-292.5 154.5,-298.5 148.5,-298.5\"/>\n<text text-anchor=\"start\" x=\"70\" y=\"-281.2\" font-family=\"Helvetica,sans-Serif\" font-size=\"14.00\">entropy = 0.0</text>\n<text text-anchor=\"start\" x=\"68.88\" y=\"-266.2\" font-family=\"Helvetica,sans-Serif\" font-size=\"14.00\">samples = 59</text>\n<text text-anchor=\"start\" x=\"67\" y=\"-251.2\" font-family=\"Helvetica,sans-Serif\" font-size=\"14.00\">value = [0, 59]</text>\n<text text-anchor=\"start\" x=\"73\" y=\"-236.2\" font-family=\"Helvetica,sans-Serif\" font-size=\"14.00\">class = YES</text>\n</g>\n<!-- 4&#45;&gt;5 -->\n<g id=\"edge5\" class=\"edge\">\n<title>4&#45;&gt;5</title>\n<path fill=\"none\" stroke=\"black\" d=\"M185.83,-341.58C174.59,-330.34 162.39,-318.14 151.12,-306.87\"/>\n<polygon fill=\"black\" stroke=\"black\" points=\"153.73,-304.53 144.18,-299.93 148.78,-309.48 153.73,-304.53\"/>\n</g>\n<!-- 6 -->\n<g id=\"node7\" class=\"node\">\n<title>6</title>\n<path fill=\"#72b9ec\" stroke=\"black\" d=\"M282.62,-306C282.62,-306 190.88,-306 190.88,-306 184.88,-306 178.88,-300 178.88,-294 178.88,-294 178.88,-235 178.88,-235 178.88,-229 184.88,-223 190.88,-223 190.88,-223 282.62,-223 282.62,-223 288.62,-223 294.62,-229 294.62,-235 294.62,-235 294.62,-294 294.62,-294 294.62,-300 288.62,-306 282.62,-306\"/>\n<text text-anchor=\"start\" x=\"186.88\" y=\"-288.7\" font-family=\"Helvetica,sans-Serif\" font-size=\"14.00\">salary ≤ 31892.5</text>\n<text text-anchor=\"start\" x=\"189.5\" y=\"-273.7\" font-family=\"Helvetica,sans-Serif\" font-size=\"14.00\">entropy = 0.764</text>\n<text text-anchor=\"start\" x=\"199.62\" y=\"-258.7\" font-family=\"Helvetica,sans-Serif\" font-size=\"14.00\">samples = 9</text>\n<text text-anchor=\"start\" x=\"197.75\" y=\"-243.7\" font-family=\"Helvetica,sans-Serif\" font-size=\"14.00\">value = [2, 7]</text>\n<text text-anchor=\"start\" x=\"200\" y=\"-228.7\" font-family=\"Helvetica,sans-Serif\" font-size=\"14.00\">class = YES</text>\n</g>\n<!-- 4&#45;&gt;6 -->\n<g id=\"edge6\" class=\"edge\">\n<title>4&#45;&gt;6</title>\n<path fill=\"none\" stroke=\"black\" d=\"M230.25,-341.58C230.91,-333.79 231.62,-325.53 232.31,-317.45\"/>\n<polygon fill=\"black\" stroke=\"black\" points=\"235.78,-317.97 233.14,-307.71 228.8,-317.37 235.78,-317.97\"/>\n</g>\n<!-- 7 -->\n<g id=\"node8\" class=\"node\">\n<title>7</title>\n<path fill=\"#f2c09c\" stroke=\"black\" d=\"M165.25,-187C165.25,-187 44.25,-187 44.25,-187 38.25,-187 32.25,-181 32.25,-175 32.25,-175 32.25,-116 32.25,-116 32.25,-110 38.25,-104 44.25,-104 44.25,-104 165.25,-104 165.25,-104 171.25,-104 177.25,-110 177.25,-116 177.25,-116 177.25,-175 177.25,-175 177.25,-181 171.25,-187 165.25,-187\"/>\n<text text-anchor=\"start\" x=\"40.25\" y=\"-169.7\" font-family=\"Helvetica,sans-Serif\" font-size=\"14.00\">gender_Female ≤ 0.5</text>\n<text text-anchor=\"start\" x=\"57.5\" y=\"-154.7\" font-family=\"Helvetica,sans-Serif\" font-size=\"14.00\">entropy = 0.918</text>\n<text text-anchor=\"start\" x=\"67.62\" y=\"-139.7\" font-family=\"Helvetica,sans-Serif\" font-size=\"14.00\">samples = 3</text>\n<text text-anchor=\"start\" x=\"65.75\" y=\"-124.7\" font-family=\"Helvetica,sans-Serif\" font-size=\"14.00\">value = [2, 1]</text>\n<text text-anchor=\"start\" x=\"71\" y=\"-109.7\" font-family=\"Helvetica,sans-Serif\" font-size=\"14.00\">class = NO</text>\n</g>\n<!-- 6&#45;&gt;7 -->\n<g id=\"edge7\" class=\"edge\">\n<title>6&#45;&gt;7</title>\n<path fill=\"none\" stroke=\"black\" d=\"M190.58,-222.58C180.38,-213.53 169.47,-203.87 158.98,-194.56\"/>\n<polygon fill=\"black\" stroke=\"black\" points=\"161.61,-192.22 151.8,-188.2 156.96,-197.46 161.61,-192.22\"/>\n</g>\n<!-- 10 -->\n<g id=\"node11\" class=\"node\">\n<title>10</title>\n<path fill=\"#399de5\" stroke=\"black\" d=\"M278.5,-179.5C278.5,-179.5 207,-179.5 207,-179.5 201,-179.5 195,-173.5 195,-167.5 195,-167.5 195,-123.5 195,-123.5 195,-117.5 201,-111.5 207,-111.5 207,-111.5 278.5,-111.5 278.5,-111.5 284.5,-111.5 290.5,-117.5 290.5,-123.5 290.5,-123.5 290.5,-167.5 290.5,-167.5 290.5,-173.5 284.5,-179.5 278.5,-179.5\"/>\n<text text-anchor=\"start\" x=\"203\" y=\"-162.2\" font-family=\"Helvetica,sans-Serif\" font-size=\"14.00\">entropy = 0.0</text>\n<text text-anchor=\"start\" x=\"205.62\" y=\"-147.2\" font-family=\"Helvetica,sans-Serif\" font-size=\"14.00\">samples = 6</text>\n<text text-anchor=\"start\" x=\"203.75\" y=\"-132.2\" font-family=\"Helvetica,sans-Serif\" font-size=\"14.00\">value = [0, 6]</text>\n<text text-anchor=\"start\" x=\"206\" y=\"-117.2\" font-family=\"Helvetica,sans-Serif\" font-size=\"14.00\">class = YES</text>\n</g>\n<!-- 6&#45;&gt;10 -->\n<g id=\"edge10\" class=\"edge\">\n<title>6&#45;&gt;10</title>\n<path fill=\"none\" stroke=\"black\" d=\"M238.85,-222.58C239.37,-212.43 239.93,-201.5 240.46,-191.18\"/>\n<polygon fill=\"black\" stroke=\"black\" points=\"243.94,-191.54 240.96,-181.37 236.95,-191.18 243.94,-191.54\"/>\n</g>\n<!-- 8 -->\n<g id=\"node9\" class=\"node\">\n<title>8</title>\n<path fill=\"#399de5\" stroke=\"black\" d=\"M83.5,-68C83.5,-68 12,-68 12,-68 6,-68 0,-62 0,-56 0,-56 0,-12 0,-12 0,-6 6,0 12,0 12,0 83.5,0 83.5,0 89.5,0 95.5,-6 95.5,-12 95.5,-12 95.5,-56 95.5,-56 95.5,-62 89.5,-68 83.5,-68\"/>\n<text text-anchor=\"start\" x=\"8\" y=\"-50.7\" font-family=\"Helvetica,sans-Serif\" font-size=\"14.00\">entropy = 0.0</text>\n<text text-anchor=\"start\" x=\"10.62\" y=\"-35.7\" font-family=\"Helvetica,sans-Serif\" font-size=\"14.00\">samples = 1</text>\n<text text-anchor=\"start\" x=\"8.75\" y=\"-20.7\" font-family=\"Helvetica,sans-Serif\" font-size=\"14.00\">value = [0, 1]</text>\n<text text-anchor=\"start\" x=\"11\" y=\"-5.7\" font-family=\"Helvetica,sans-Serif\" font-size=\"14.00\">class = YES</text>\n</g>\n<!-- 7&#45;&gt;8 -->\n<g id=\"edge8\" class=\"edge\">\n<title>7&#45;&gt;8</title>\n<path fill=\"none\" stroke=\"black\" d=\"M83.53,-103.73C79.2,-95.43 74.65,-86.67 70.28,-78.28\"/>\n<polygon fill=\"black\" stroke=\"black\" points=\"73.5,-76.9 65.78,-69.64 67.3,-80.13 73.5,-76.9\"/>\n</g>\n<!-- 9 -->\n<g id=\"node10\" class=\"node\">\n<title>9</title>\n<path fill=\"#e58139\" stroke=\"black\" d=\"M197.5,-68C197.5,-68 126,-68 126,-68 120,-68 114,-62 114,-56 114,-56 114,-12 114,-12 114,-6 120,0 126,0 126,0 197.5,0 197.5,0 203.5,0 209.5,-6 209.5,-12 209.5,-12 209.5,-56 209.5,-56 209.5,-62 203.5,-68 197.5,-68\"/>\n<text text-anchor=\"start\" x=\"122\" y=\"-50.7\" font-family=\"Helvetica,sans-Serif\" font-size=\"14.00\">entropy = 0.0</text>\n<text text-anchor=\"start\" x=\"124.62\" y=\"-35.7\" font-family=\"Helvetica,sans-Serif\" font-size=\"14.00\">samples = 2</text>\n<text text-anchor=\"start\" x=\"122.75\" y=\"-20.7\" font-family=\"Helvetica,sans-Serif\" font-size=\"14.00\">value = [2, 0]</text>\n<text text-anchor=\"start\" x=\"128\" y=\"-5.7\" font-family=\"Helvetica,sans-Serif\" font-size=\"14.00\">class = NO</text>\n</g>\n<!-- 7&#45;&gt;9 -->\n<g id=\"edge9\" class=\"edge\">\n<title>7&#45;&gt;9</title>\n<path fill=\"none\" stroke=\"black\" d=\"M125.97,-103.73C130.3,-95.43 134.85,-86.67 139.22,-78.28\"/>\n<polygon fill=\"black\" stroke=\"black\" points=\"142.2,-80.13 143.72,-69.64 136,-76.9 142.2,-80.13\"/>\n</g>\n<!-- 12 -->\n<g id=\"node13\" class=\"node\">\n<title>12</title>\n<path fill=\"#e6843d\" stroke=\"black\" d=\"M537,-425C537,-425 312.5,-425 312.5,-425 306.5,-425 300.5,-419 300.5,-413 300.5,-413 300.5,-354 300.5,-354 300.5,-348 306.5,-342 312.5,-342 312.5,-342 537,-342 537,-342 543,-342 549,-348 549,-354 549,-354 549,-413 549,-413 549,-419 543,-425 537,-425\"/>\n<text text-anchor=\"start\" x=\"308.5\" y=\"-407.7\" font-family=\"Helvetica,sans-Serif\" font-size=\"14.00\">distance_from_us_flagship_store ≤ 4.0</text>\n<text text-anchor=\"start\" x=\"377.5\" y=\"-392.7\" font-family=\"Helvetica,sans-Serif\" font-size=\"14.00\">entropy = 0.145</text>\n<text text-anchor=\"start\" x=\"383.88\" y=\"-377.7\" font-family=\"Helvetica,sans-Serif\" font-size=\"14.00\">samples = 97</text>\n<text text-anchor=\"start\" x=\"382\" y=\"-362.7\" font-family=\"Helvetica,sans-Serif\" font-size=\"14.00\">value = [95, 2]</text>\n<text text-anchor=\"start\" x=\"391\" y=\"-347.7\" font-family=\"Helvetica,sans-Serif\" font-size=\"14.00\">class = NO</text>\n</g>\n<!-- 11&#45;&gt;12 -->\n<g id=\"edge12\" class=\"edge\">\n<title>11&#45;&gt;12</title>\n<path fill=\"none\" stroke=\"black\" d=\"M424.75,-460.58C424.75,-452.79 424.75,-444.53 424.75,-436.45\"/>\n<polygon fill=\"black\" stroke=\"black\" points=\"428.25,-436.71 424.75,-426.71 421.25,-436.71 428.25,-436.71\"/>\n</g>\n<!-- 17 -->\n<g id=\"node18\" class=\"node\">\n<title>17</title>\n<path fill=\"#d6ebfa\" stroke=\"black\" d=\"M818.5,-425C818.5,-425 579,-425 579,-425 573,-425 567,-419 567,-413 567,-413 567,-354 567,-354 567,-348 573,-342 579,-342 579,-342 818.5,-342 818.5,-342 824.5,-342 830.5,-348 830.5,-354 830.5,-354 830.5,-413 830.5,-413 830.5,-419 824.5,-425 818.5,-425\"/>\n<text text-anchor=\"start\" x=\"575\" y=\"-407.7\" font-family=\"Helvetica,sans-Serif\" font-size=\"14.00\">distance_from_us_flagship_store ≤ 7.887</text>\n<text text-anchor=\"start\" x=\"655.25\" y=\"-392.7\" font-family=\"Helvetica,sans-Serif\" font-size=\"14.00\">entropy = 0.99</text>\n<text text-anchor=\"start\" x=\"657.88\" y=\"-377.7\" font-family=\"Helvetica,sans-Serif\" font-size=\"14.00\">samples = 52</text>\n<text text-anchor=\"start\" x=\"652.25\" y=\"-362.7\" font-family=\"Helvetica,sans-Serif\" font-size=\"14.00\">value = [23, 29]</text>\n<text text-anchor=\"start\" x=\"662\" y=\"-347.7\" font-family=\"Helvetica,sans-Serif\" font-size=\"14.00\">class = YES</text>\n</g>\n<!-- 11&#45;&gt;17 -->\n<g id=\"edge17\" class=\"edge\">\n<title>11&#45;&gt;17</title>\n<path fill=\"none\" stroke=\"black\" d=\"M511.07,-464.64C536.94,-453.59 565.62,-441.35 592.61,-429.82\"/>\n<polygon fill=\"black\" stroke=\"black\" points=\"593.65,-433.18 601.47,-426.04 590.9,-426.75 593.65,-433.18\"/>\n</g>\n<!-- 13 -->\n<g id=\"node14\" class=\"node\">\n<title>13</title>\n<path fill=\"#eeab7b\" stroke=\"black\" d=\"M447,-306C447,-306 360.5,-306 360.5,-306 354.5,-306 348.5,-300 348.5,-294 348.5,-294 348.5,-235 348.5,-235 348.5,-229 354.5,-223 360.5,-223 360.5,-223 447,-223 447,-223 453,-223 459,-229 459,-235 459,-235 459,-294 459,-294 459,-300 453,-306 447,-306\"/>\n<text text-anchor=\"start\" x=\"371.88\" y=\"-288.7\" font-family=\"Helvetica,sans-Serif\" font-size=\"14.00\">age ≤ 26.5</text>\n<text text-anchor=\"start\" x=\"356.5\" y=\"-273.7\" font-family=\"Helvetica,sans-Serif\" font-size=\"14.00\">entropy = 0.811</text>\n<text text-anchor=\"start\" x=\"366.62\" y=\"-258.7\" font-family=\"Helvetica,sans-Serif\" font-size=\"14.00\">samples = 8</text>\n<text text-anchor=\"start\" x=\"364.75\" y=\"-243.7\" font-family=\"Helvetica,sans-Serif\" font-size=\"14.00\">value = [6, 2]</text>\n<text text-anchor=\"start\" x=\"370\" y=\"-228.7\" font-family=\"Helvetica,sans-Serif\" font-size=\"14.00\">class = NO</text>\n</g>\n<!-- 12&#45;&gt;13 -->\n<g id=\"edge13\" class=\"edge\">\n<title>12&#45;&gt;13</title>\n<path fill=\"none\" stroke=\"black\" d=\"M417.41,-341.58C416.01,-333.79 414.53,-325.53 413.07,-317.45\"/>\n<polygon fill=\"black\" stroke=\"black\" points=\"416.53,-316.91 411.32,-307.69 409.64,-318.15 416.53,-316.91\"/>\n</g>\n<!-- 16 -->\n<g id=\"node17\" class=\"node\">\n<title>16</title>\n<path fill=\"#e58139\" stroke=\"black\" d=\"M566.5,-298.5C566.5,-298.5 489,-298.5 489,-298.5 483,-298.5 477,-292.5 477,-286.5 477,-286.5 477,-242.5 477,-242.5 477,-236.5 483,-230.5 489,-230.5 489,-230.5 566.5,-230.5 566.5,-230.5 572.5,-230.5 578.5,-236.5 578.5,-242.5 578.5,-242.5 578.5,-286.5 578.5,-286.5 578.5,-292.5 572.5,-298.5 566.5,-298.5\"/>\n<text text-anchor=\"start\" x=\"488\" y=\"-281.2\" font-family=\"Helvetica,sans-Serif\" font-size=\"14.00\">entropy = 0.0</text>\n<text text-anchor=\"start\" x=\"486.88\" y=\"-266.2\" font-family=\"Helvetica,sans-Serif\" font-size=\"14.00\">samples = 89</text>\n<text text-anchor=\"start\" x=\"485\" y=\"-251.2\" font-family=\"Helvetica,sans-Serif\" font-size=\"14.00\">value = [89, 0]</text>\n<text text-anchor=\"start\" x=\"494\" y=\"-236.2\" font-family=\"Helvetica,sans-Serif\" font-size=\"14.00\">class = NO</text>\n</g>\n<!-- 12&#45;&gt;16 -->\n<g id=\"edge16\" class=\"edge\">\n<title>12&#45;&gt;16</title>\n<path fill=\"none\" stroke=\"black\" d=\"M460.77,-341.58C470.57,-330.45 481.2,-318.38 491.04,-307.2\"/>\n<polygon fill=\"black\" stroke=\"black\" points=\"493.4,-309.82 497.38,-300 488.15,-305.19 493.4,-309.82\"/>\n</g>\n<!-- 14 -->\n<g id=\"node15\" class=\"node\">\n<title>14</title>\n<path fill=\"#399de5\" stroke=\"black\" d=\"M434.5,-179.5C434.5,-179.5 363,-179.5 363,-179.5 357,-179.5 351,-173.5 351,-167.5 351,-167.5 351,-123.5 351,-123.5 351,-117.5 357,-111.5 363,-111.5 363,-111.5 434.5,-111.5 434.5,-111.5 440.5,-111.5 446.5,-117.5 446.5,-123.5 446.5,-123.5 446.5,-167.5 446.5,-167.5 446.5,-173.5 440.5,-179.5 434.5,-179.5\"/>\n<text text-anchor=\"start\" x=\"359\" y=\"-162.2\" font-family=\"Helvetica,sans-Serif\" font-size=\"14.00\">entropy = 0.0</text>\n<text text-anchor=\"start\" x=\"361.62\" y=\"-147.2\" font-family=\"Helvetica,sans-Serif\" font-size=\"14.00\">samples = 2</text>\n<text text-anchor=\"start\" x=\"359.75\" y=\"-132.2\" font-family=\"Helvetica,sans-Serif\" font-size=\"14.00\">value = [0, 2]</text>\n<text text-anchor=\"start\" x=\"362\" y=\"-117.2\" font-family=\"Helvetica,sans-Serif\" font-size=\"14.00\">class = YES</text>\n</g>\n<!-- 13&#45;&gt;14 -->\n<g id=\"edge14\" class=\"edge\">\n<title>13&#45;&gt;14</title>\n<path fill=\"none\" stroke=\"black\" d=\"M402,-222.58C401.57,-212.43 401.1,-201.5 400.66,-191.18\"/>\n<polygon fill=\"black\" stroke=\"black\" points=\"404.16,-191.21 400.24,-181.37 397.17,-191.51 404.16,-191.21\"/>\n</g>\n<!-- 15 -->\n<g id=\"node16\" class=\"node\">\n<title>15</title>\n<path fill=\"#e58139\" stroke=\"black\" d=\"M548.5,-179.5C548.5,-179.5 477,-179.5 477,-179.5 471,-179.5 465,-173.5 465,-167.5 465,-167.5 465,-123.5 465,-123.5 465,-117.5 471,-111.5 477,-111.5 477,-111.5 548.5,-111.5 548.5,-111.5 554.5,-111.5 560.5,-117.5 560.5,-123.5 560.5,-123.5 560.5,-167.5 560.5,-167.5 560.5,-173.5 554.5,-179.5 548.5,-179.5\"/>\n<text text-anchor=\"start\" x=\"473\" y=\"-162.2\" font-family=\"Helvetica,sans-Serif\" font-size=\"14.00\">entropy = 0.0</text>\n<text text-anchor=\"start\" x=\"475.62\" y=\"-147.2\" font-family=\"Helvetica,sans-Serif\" font-size=\"14.00\">samples = 6</text>\n<text text-anchor=\"start\" x=\"473.75\" y=\"-132.2\" font-family=\"Helvetica,sans-Serif\" font-size=\"14.00\">value = [6, 0]</text>\n<text text-anchor=\"start\" x=\"479\" y=\"-117.2\" font-family=\"Helvetica,sans-Serif\" font-size=\"14.00\">class = NO</text>\n</g>\n<!-- 13&#45;&gt;15 -->\n<g id=\"edge15\" class=\"edge\">\n<title>13&#45;&gt;15</title>\n<path fill=\"none\" stroke=\"black\" d=\"M441.87,-222.58C452.24,-211.45 463.49,-199.38 473.9,-188.2\"/>\n<polygon fill=\"black\" stroke=\"black\" points=\"476.38,-190.67 480.64,-180.97 471.26,-185.9 476.38,-190.67\"/>\n</g>\n<!-- 18 -->\n<g id=\"node19\" class=\"node\">\n<title>18</title>\n<path fill=\"#399de5\" stroke=\"black\" d=\"M711.5,-298.5C711.5,-298.5 634,-298.5 634,-298.5 628,-298.5 622,-292.5 622,-286.5 622,-286.5 622,-242.5 622,-242.5 622,-236.5 628,-230.5 634,-230.5 634,-230.5 711.5,-230.5 711.5,-230.5 717.5,-230.5 723.5,-236.5 723.5,-242.5 723.5,-242.5 723.5,-286.5 723.5,-286.5 723.5,-292.5 717.5,-298.5 711.5,-298.5\"/>\n<text text-anchor=\"start\" x=\"633\" y=\"-281.2\" font-family=\"Helvetica,sans-Serif\" font-size=\"14.00\">entropy = 0.0</text>\n<text text-anchor=\"start\" x=\"631.88\" y=\"-266.2\" font-family=\"Helvetica,sans-Serif\" font-size=\"14.00\">samples = 29</text>\n<text text-anchor=\"start\" x=\"630\" y=\"-251.2\" font-family=\"Helvetica,sans-Serif\" font-size=\"14.00\">value = [0, 29]</text>\n<text text-anchor=\"start\" x=\"636\" y=\"-236.2\" font-family=\"Helvetica,sans-Serif\" font-size=\"14.00\">class = YES</text>\n</g>\n<!-- 17&#45;&gt;18 -->\n<g id=\"edge18\" class=\"edge\">\n<title>17&#45;&gt;18</title>\n<path fill=\"none\" stroke=\"black\" d=\"M689.66,-341.58C687.38,-331.32 684.92,-320.27 682.61,-309.85\"/>\n<polygon fill=\"black\" stroke=\"black\" points=\"686.08,-309.34 680.49,-300.34 679.24,-310.86 686.08,-309.34\"/>\n</g>\n<!-- 19 -->\n<g id=\"node20\" class=\"node\">\n<title>19</title>\n<path fill=\"#e58139\" stroke=\"black\" d=\"M831.5,-298.5C831.5,-298.5 754,-298.5 754,-298.5 748,-298.5 742,-292.5 742,-286.5 742,-286.5 742,-242.5 742,-242.5 742,-236.5 748,-230.5 754,-230.5 754,-230.5 831.5,-230.5 831.5,-230.5 837.5,-230.5 843.5,-236.5 843.5,-242.5 843.5,-242.5 843.5,-286.5 843.5,-286.5 843.5,-292.5 837.5,-298.5 831.5,-298.5\"/>\n<text text-anchor=\"start\" x=\"753\" y=\"-281.2\" font-family=\"Helvetica,sans-Serif\" font-size=\"14.00\">entropy = 0.0</text>\n<text text-anchor=\"start\" x=\"751.88\" y=\"-266.2\" font-family=\"Helvetica,sans-Serif\" font-size=\"14.00\">samples = 23</text>\n<text text-anchor=\"start\" x=\"750\" y=\"-251.2\" font-family=\"Helvetica,sans-Serif\" font-size=\"14.00\">value = [23, 0]</text>\n<text text-anchor=\"start\" x=\"759\" y=\"-236.2\" font-family=\"Helvetica,sans-Serif\" font-size=\"14.00\">class = NO</text>\n</g>\n<!-- 17&#45;&gt;19 -->\n<g id=\"edge19\" class=\"edge\">\n<title>17&#45;&gt;19</title>\n<path fill=\"none\" stroke=\"black\" d=\"M731.63,-341.58C740.48,-330.56 750.08,-318.61 758.98,-307.53\"/>\n<polygon fill=\"black\" stroke=\"black\" points=\"761.46,-310.03 765,-300.04 756.01,-305.64 761.46,-310.03\"/>\n</g>\n</g>\n</svg>\n",
      "text/plain": "<graphviz.sources.Source at 0x13a0707d0>"
     },
     "execution_count": 160,
     "metadata": {},
     "output_type": "execute_result"
    }
   ],
   "source": [
    "# We can do so with export_graphviz\n",
    "dot_data = tree.export_graphviz(\n",
    "    entr_model,\n",
    "    feature_names=X_train.columns,\n",
    "    class_names = entr_model.classes_,\n",
    "    filled=True,\n",
    "    rounded=True,\n",
    "    special_characters=True\n",
    ") \n",
    "graph = graphviz.Source(dot_data)\n",
    "graph.render(\"image/Decision Tree - Entropy - No Max Depth\")  # Save the visualization as a file (optional)\n",
    "graph"
   ],
   "metadata": {
    "collapsed": false,
    "ExecuteTime": {
     "end_time": "2023-10-29T02:45:48.233902Z",
     "start_time": "2023-10-29T02:45:45.832694Z"
    }
   }
  },
  {
   "cell_type": "markdown",
   "metadata": {
    "colab_type": "text",
    "id": "dFbii4IADuWg"
   },
   "source": [
    "## Model 1: Entropy model - no max_depth: Interpretation and evaluation"
   ]
  },
  {
   "cell_type": "code",
   "execution_count": 161,
   "metadata": {
    "colab": {},
    "colab_type": "code",
    "id": "XRL0klK4DuWh",
    "ExecuteTime": {
     "end_time": "2023-10-29T02:45:48.234209Z",
     "start_time": "2023-10-29T02:45:46.440841Z"
    }
   },
   "outputs": [
    {
     "name": "stdout",
     "output_type": "stream",
     "text": [
      "Model Entropy - no max depth\n",
      "              precision    recall  f1-score   support\n",
      "\n",
      "          NO       1.00      1.00      1.00        43\n",
      "         YES       1.00      1.00      1.00        76\n",
      "\n",
      "    accuracy                           1.00       119\n",
      "   macro avg       1.00      1.00      1.00       119\n",
      "weighted avg       1.00      1.00      1.00       119\n"
     ]
    }
   ],
   "source": [
    "# Run this block for model evaluation metrics \n",
    "print(\"Model Entropy - no max depth\")\n",
    "# print(\"Accuracy:\", metrics.accuracy_score(y_test, y_pred))\n",
    "# print(\"Balanced accuracy:\", metrics.balanced_accuracy_score(y_test, y_pred))\n",
    "# print('Precision score for \"Yes\"' , metrics.precision_score(y_test, y_pred, pos_label = \"YES\"))\n",
    "# print('Precision score for \"No\"' , metrics.precision_score(y_test, y_pred, pos_label = \"NO\"))\n",
    "# print('Recall score for \"Yes\"' , metrics.recall_score(y_test, y_pred, pos_label = \"YES\"))\n",
    "# print('Recall score for \"No\"' , metrics.recall_score(y_test, y_pred, pos_label = \"NO\"))\n",
    "print(metrics.classification_report(y_test, y_pred))"
   ]
  },
  {
   "cell_type": "markdown",
   "metadata": {
    "colab_type": "text",
    "id": "icGOPFQ_DuWj"
   },
   "source": [
    "What can you infer from these results? Write your conclusions here:\n",
    "The result looked very good to the point of potentially \"too good to be true\" which likely because we don't set the max tree's depth and it's highly overfitted (low bias high variance) in which the model could perform poorly on unseen data."
   ]
  },
  {
   "cell_type": "markdown",
   "metadata": {
    "colab_type": "text",
    "id": "MHipdpfxDuWk"
   },
   "source": [
    "## Model 2: Gini impurity model - no max_depth\n",
    "\n",
    "Gini impurity, like entropy, is a measure of how well a given feature (and threshold) splits the data into categories.\n",
    "\n",
    "Their equations are similar, but Gini impurity doesn't require logorathmic functions, which can be computationally expensive. "
   ]
  },
  {
   "cell_type": "code",
   "execution_count": 162,
   "metadata": {
    "colab": {},
    "colab_type": "code",
    "id": "FyBljeIpDuWl",
    "ExecuteTime": {
     "end_time": "2023-10-29T02:45:48.234769Z",
     "start_time": "2023-10-29T02:45:46.456711Z"
    }
   },
   "outputs": [
    {
     "data": {
      "text/plain": "DecisionTreeClassifier()",
      "text/html": "<style>#sk-container-id-15 {color: black;}#sk-container-id-15 pre{padding: 0;}#sk-container-id-15 div.sk-toggleable {background-color: white;}#sk-container-id-15 label.sk-toggleable__label {cursor: pointer;display: block;width: 100%;margin-bottom: 0;padding: 0.3em;box-sizing: border-box;text-align: center;}#sk-container-id-15 label.sk-toggleable__label-arrow:before {content: \"▸\";float: left;margin-right: 0.25em;color: #696969;}#sk-container-id-15 label.sk-toggleable__label-arrow:hover:before {color: black;}#sk-container-id-15 div.sk-estimator:hover label.sk-toggleable__label-arrow:before {color: black;}#sk-container-id-15 div.sk-toggleable__content {max-height: 0;max-width: 0;overflow: hidden;text-align: left;background-color: #f0f8ff;}#sk-container-id-15 div.sk-toggleable__content pre {margin: 0.2em;color: black;border-radius: 0.25em;background-color: #f0f8ff;}#sk-container-id-15 input.sk-toggleable__control:checked~div.sk-toggleable__content {max-height: 200px;max-width: 100%;overflow: auto;}#sk-container-id-15 input.sk-toggleable__control:checked~label.sk-toggleable__label-arrow:before {content: \"▾\";}#sk-container-id-15 div.sk-estimator input.sk-toggleable__control:checked~label.sk-toggleable__label {background-color: #d4ebff;}#sk-container-id-15 div.sk-label input.sk-toggleable__control:checked~label.sk-toggleable__label {background-color: #d4ebff;}#sk-container-id-15 input.sk-hidden--visually {border: 0;clip: rect(1px 1px 1px 1px);clip: rect(1px, 1px, 1px, 1px);height: 1px;margin: -1px;overflow: hidden;padding: 0;position: absolute;width: 1px;}#sk-container-id-15 div.sk-estimator {font-family: monospace;background-color: #f0f8ff;border: 1px dotted black;border-radius: 0.25em;box-sizing: border-box;margin-bottom: 0.5em;}#sk-container-id-15 div.sk-estimator:hover {background-color: #d4ebff;}#sk-container-id-15 div.sk-parallel-item::after {content: \"\";width: 100%;border-bottom: 1px solid gray;flex-grow: 1;}#sk-container-id-15 div.sk-label:hover label.sk-toggleable__label {background-color: #d4ebff;}#sk-container-id-15 div.sk-serial::before {content: \"\";position: absolute;border-left: 1px solid gray;box-sizing: border-box;top: 0;bottom: 0;left: 50%;z-index: 0;}#sk-container-id-15 div.sk-serial {display: flex;flex-direction: column;align-items: center;background-color: white;padding-right: 0.2em;padding-left: 0.2em;position: relative;}#sk-container-id-15 div.sk-item {position: relative;z-index: 1;}#sk-container-id-15 div.sk-parallel {display: flex;align-items: stretch;justify-content: center;background-color: white;position: relative;}#sk-container-id-15 div.sk-item::before, #sk-container-id-15 div.sk-parallel-item::before {content: \"\";position: absolute;border-left: 1px solid gray;box-sizing: border-box;top: 0;bottom: 0;left: 50%;z-index: -1;}#sk-container-id-15 div.sk-parallel-item {display: flex;flex-direction: column;z-index: 1;position: relative;background-color: white;}#sk-container-id-15 div.sk-parallel-item:first-child::after {align-self: flex-end;width: 50%;}#sk-container-id-15 div.sk-parallel-item:last-child::after {align-self: flex-start;width: 50%;}#sk-container-id-15 div.sk-parallel-item:only-child::after {width: 0;}#sk-container-id-15 div.sk-dashed-wrapped {border: 1px dashed gray;margin: 0 0.4em 0.5em 0.4em;box-sizing: border-box;padding-bottom: 0.4em;background-color: white;}#sk-container-id-15 div.sk-label label {font-family: monospace;font-weight: bold;display: inline-block;line-height: 1.2em;}#sk-container-id-15 div.sk-label-container {text-align: center;}#sk-container-id-15 div.sk-container {/* jupyter's `normalize.less` sets `[hidden] { display: none; }` but bootstrap.min.css set `[hidden] { display: none !important; }` so we also need the `!important` here to be able to override the default hidden behavior on the sphinx rendered scikit-learn.org. See: https://github.com/scikit-learn/scikit-learn/issues/21755 */display: inline-block !important;position: relative;}#sk-container-id-15 div.sk-text-repr-fallback {display: none;}</style><div id=\"sk-container-id-15\" class=\"sk-top-container\"><div class=\"sk-text-repr-fallback\"><pre>DecisionTreeClassifier()</pre><b>In a Jupyter environment, please rerun this cell to show the HTML representation or trust the notebook. <br />On GitHub, the HTML representation is unable to render, please try loading this page with nbviewer.org.</b></div><div class=\"sk-container\" hidden><div class=\"sk-item\"><div class=\"sk-estimator sk-toggleable\"><input class=\"sk-toggleable__control sk-hidden--visually\" id=\"sk-estimator-id-15\" type=\"checkbox\" checked><label for=\"sk-estimator-id-15\" class=\"sk-toggleable__label sk-toggleable__label-arrow\">DecisionTreeClassifier</label><div class=\"sk-toggleable__content\"><pre>DecisionTreeClassifier()</pre></div></div></div></div></div>"
     },
     "execution_count": 162,
     "metadata": {},
     "output_type": "execute_result"
    }
   ],
   "source": [
    "# Make a variable called gini_model, and assign it exactly what you assigned entr_model with above, but with the\n",
    "# criterion changed to 'gini'\n",
    "gini_model = tree.DecisionTreeClassifier(\n",
    "    criterion='gini', #Gini Impurity\n",
    "    \n",
    ")\n",
    "\n",
    "# Call fit() on the gini_model as you did with the entr_model\n",
    "gini_model.fit(X_train, y_train)\n",
    "\n",
    "# Call predict() on the gini_model as you did with the entr_model \n",
    "# Turn y_pred into a series, as before\n",
    "y_pred = pd.Series(gini_model.predict(X_test))\n",
    "\n",
    "# Check out gini_model\n",
    "gini_model"
   ]
  },
  {
   "cell_type": "code",
   "execution_count": 163,
   "metadata": {
    "colab": {},
    "colab_type": "code",
    "id": "d20SMUmgDuWo",
    "ExecuteTime": {
     "end_time": "2023-10-29T02:45:48.505944Z",
     "start_time": "2023-10-29T02:45:46.474826Z"
    }
   },
   "outputs": [
    {
     "data": {
      "image/svg+xml": "<?xml version=\"1.0\" encoding=\"UTF-8\" standalone=\"no\"?>\n<!DOCTYPE svg PUBLIC \"-//W3C//DTD SVG 1.1//EN\"\n \"http://www.w3.org/Graphics/SVG/1.1/DTD/svg11.dtd\">\n<!-- Generated by graphviz version 9.0.0 (20230911.1827)\n -->\n<!-- Title: Tree Pages: 1 -->\n<svg width=\"840pt\" height=\"552pt\"\n viewBox=\"0.00 0.00 840.00 552.00\" xmlns=\"http://www.w3.org/2000/svg\" xmlns:xlink=\"http://www.w3.org/1999/xlink\">\n<g id=\"graph0\" class=\"graph\" transform=\"scale(1 1) rotate(0) translate(4 548)\">\n<title>Tree</title>\n<polygon fill=\"white\" stroke=\"none\" points=\"-4,4 -4,-548 836,-548 836,4 -4,4\"/>\n<!-- 0 -->\n<g id=\"node1\" class=\"node\">\n<title>0</title>\n<path fill=\"#a9d4f4\" stroke=\"black\" d=\"M547,-544C547,-544 399,-544 399,-544 393,-544 387,-538 387,-532 387,-532 387,-473 387,-473 387,-467 393,-461 399,-461 399,-461 547,-461 547,-461 553,-461 559,-467 559,-473 559,-473 559,-532 559,-532 559,-538 553,-544 547,-544\"/>\n<text text-anchor=\"start\" x=\"395\" y=\"-526.7\" font-family=\"Helvetica,sans-Serif\" font-size=\"14.00\">spent_last_month ≤ 100.5</text>\n<text text-anchor=\"start\" x=\"437.75\" y=\"-511.7\" font-family=\"Helvetica,sans-Serif\" font-size=\"14.00\">gini = 0.461</text>\n<text text-anchor=\"start\" x=\"428.38\" y=\"-496.7\" font-family=\"Helvetica,sans-Serif\" font-size=\"14.00\">samples = 355</text>\n<text text-anchor=\"start\" x=\"419\" y=\"-481.7\" font-family=\"Helvetica,sans-Serif\" font-size=\"14.00\">value = [128, 227]</text>\n<text text-anchor=\"start\" x=\"436.25\" y=\"-466.7\" font-family=\"Helvetica,sans-Serif\" font-size=\"14.00\">class = YES</text>\n</g>\n<!-- 1 -->\n<g id=\"node2\" class=\"node\">\n<title>1</title>\n<path fill=\"#efb083\" stroke=\"black\" d=\"M451.75,-425C451.75,-425 212.25,-425 212.25,-425 206.25,-425 200.25,-419 200.25,-413 200.25,-413 200.25,-354 200.25,-354 200.25,-348 206.25,-342 212.25,-342 212.25,-342 451.75,-342 451.75,-342 457.75,-342 463.75,-348 463.75,-354 463.75,-354 463.75,-413 463.75,-413 463.75,-419 457.75,-425 451.75,-425\"/>\n<text text-anchor=\"start\" x=\"208.25\" y=\"-407.7\" font-family=\"Helvetica,sans-Serif\" font-size=\"14.00\">distance_from_us_flagship_store ≤ 3.038</text>\n<text text-anchor=\"start\" x=\"296.75\" y=\"-392.7\" font-family=\"Helvetica,sans-Serif\" font-size=\"14.00\">gini = 0.395</text>\n<text text-anchor=\"start\" x=\"287.38\" y=\"-377.7\" font-family=\"Helvetica,sans-Serif\" font-size=\"14.00\">samples = 144</text>\n<text text-anchor=\"start\" x=\"281.75\" y=\"-362.7\" font-family=\"Helvetica,sans-Serif\" font-size=\"14.00\">value = [105, 39]</text>\n<text text-anchor=\"start\" x=\"298.25\" y=\"-347.7\" font-family=\"Helvetica,sans-Serif\" font-size=\"14.00\">class = NO</text>\n</g>\n<!-- 0&#45;&gt;1 -->\n<g id=\"edge1\" class=\"edge\">\n<title>0&#45;&gt;1</title>\n<path fill=\"none\" stroke=\"black\" d=\"M423.69,-460.58C412.67,-451.44 400.9,-441.67 389.59,-432.29\"/>\n<polygon fill=\"black\" stroke=\"black\" points=\"392.14,-429.86 382.21,-426.17 387.67,-435.25 392.14,-429.86\"/>\n<text text-anchor=\"middle\" x=\"383.36\" y=\"-444.29\" font-family=\"Helvetica,sans-Serif\" font-size=\"14.00\">True</text>\n</g>\n<!-- 12 -->\n<g id=\"node13\" class=\"node\">\n<title>12</title>\n<path fill=\"#51a9e8\" stroke=\"black\" d=\"M733.75,-425C733.75,-425 494.25,-425 494.25,-425 488.25,-425 482.25,-419 482.25,-413 482.25,-413 482.25,-354 482.25,-354 482.25,-348 488.25,-342 494.25,-342 494.25,-342 733.75,-342 733.75,-342 739.75,-342 745.75,-348 745.75,-354 745.75,-354 745.75,-413 745.75,-413 745.75,-419 739.75,-425 733.75,-425\"/>\n<text text-anchor=\"start\" x=\"490.25\" y=\"-407.7\" font-family=\"Helvetica,sans-Serif\" font-size=\"14.00\">distance_from_us_flagship_store ≤ 8.047</text>\n<text text-anchor=\"start\" x=\"578.75\" y=\"-392.7\" font-family=\"Helvetica,sans-Serif\" font-size=\"14.00\">gini = 0.194</text>\n<text text-anchor=\"start\" x=\"569.38\" y=\"-377.7\" font-family=\"Helvetica,sans-Serif\" font-size=\"14.00\">samples = 211</text>\n<text text-anchor=\"start\" x=\"563.75\" y=\"-362.7\" font-family=\"Helvetica,sans-Serif\" font-size=\"14.00\">value = [23, 188]</text>\n<text text-anchor=\"start\" x=\"577.25\" y=\"-347.7\" font-family=\"Helvetica,sans-Serif\" font-size=\"14.00\">class = YES</text>\n</g>\n<!-- 0&#45;&gt;12 -->\n<g id=\"edge12\" class=\"edge\">\n<title>0&#45;&gt;12</title>\n<path fill=\"none\" stroke=\"black\" d=\"M522.31,-460.58C533.33,-451.44 545.1,-441.67 556.41,-432.29\"/>\n<polygon fill=\"black\" stroke=\"black\" points=\"558.33,-435.25 563.79,-426.17 553.86,-429.86 558.33,-435.25\"/>\n<text text-anchor=\"middle\" x=\"562.64\" y=\"-444.29\" font-family=\"Helvetica,sans-Serif\" font-size=\"14.00\">False</text>\n</g>\n<!-- 2 -->\n<g id=\"node3\" class=\"node\">\n<title>2</title>\n<path fill=\"#69b5eb\" stroke=\"black\" d=\"M205.25,-306C205.25,-306 64.75,-306 64.75,-306 58.75,-306 52.75,-300 52.75,-294 52.75,-294 52.75,-235 52.75,-235 52.75,-229 58.75,-223 64.75,-223 64.75,-223 205.25,-223 205.25,-223 211.25,-223 217.25,-229 217.25,-235 217.25,-235 217.25,-294 217.25,-294 217.25,-300 211.25,-306 205.25,-306\"/>\n<text text-anchor=\"start\" x=\"60.75\" y=\"-288.7\" font-family=\"Helvetica,sans-Serif\" font-size=\"14.00\">spent_last_month ≤ 24.5</text>\n<text text-anchor=\"start\" x=\"99.75\" y=\"-273.7\" font-family=\"Helvetica,sans-Serif\" font-size=\"14.00\">gini = 0.315</text>\n<text text-anchor=\"start\" x=\"94.12\" y=\"-258.7\" font-family=\"Helvetica,sans-Serif\" font-size=\"14.00\">samples = 46</text>\n<text text-anchor=\"start\" x=\"92.25\" y=\"-243.7\" font-family=\"Helvetica,sans-Serif\" font-size=\"14.00\">value = [9, 37]</text>\n<text text-anchor=\"start\" x=\"98.25\" y=\"-228.7\" font-family=\"Helvetica,sans-Serif\" font-size=\"14.00\">class = YES</text>\n</g>\n<!-- 1&#45;&gt;2 -->\n<g id=\"edge2\" class=\"edge\">\n<title>1&#45;&gt;2</title>\n<path fill=\"none\" stroke=\"black\" d=\"M263.1,-341.58C247.05,-332.05 229.85,-321.83 213.43,-312.08\"/>\n<polygon fill=\"black\" stroke=\"black\" points=\"215.55,-309.27 205.16,-307.17 211.97,-315.29 215.55,-309.27\"/>\n</g>\n<!-- 7 -->\n<g id=\"node8\" class=\"node\">\n<title>7</title>\n<path fill=\"#e6843d\" stroke=\"black\" d=\"M472.25,-306C472.25,-306 247.75,-306 247.75,-306 241.75,-306 235.75,-300 235.75,-294 235.75,-294 235.75,-235 235.75,-235 235.75,-229 241.75,-223 247.75,-223 247.75,-223 472.25,-223 472.25,-223 478.25,-223 484.25,-229 484.25,-235 484.25,-235 484.25,-294 484.25,-294 484.25,-300 478.25,-306 472.25,-306\"/>\n<text text-anchor=\"start\" x=\"243.75\" y=\"-288.7\" font-family=\"Helvetica,sans-Serif\" font-size=\"14.00\">distance_from_us_flagship_store ≤ 4.0</text>\n<text text-anchor=\"start\" x=\"328.5\" y=\"-273.7\" font-family=\"Helvetica,sans-Serif\" font-size=\"14.00\">gini = 0.04</text>\n<text text-anchor=\"start\" x=\"319.12\" y=\"-258.7\" font-family=\"Helvetica,sans-Serif\" font-size=\"14.00\">samples = 98</text>\n<text text-anchor=\"start\" x=\"317.25\" y=\"-243.7\" font-family=\"Helvetica,sans-Serif\" font-size=\"14.00\">value = [96, 2]</text>\n<text text-anchor=\"start\" x=\"326.25\" y=\"-228.7\" font-family=\"Helvetica,sans-Serif\" font-size=\"14.00\">class = NO</text>\n</g>\n<!-- 1&#45;&gt;7 -->\n<g id=\"edge7\" class=\"edge\">\n<title>1&#45;&gt;7</title>\n<path fill=\"none\" stroke=\"black\" d=\"M341.79,-341.58C343.68,-333.7 345.68,-325.34 347.63,-317.17\"/>\n<polygon fill=\"black\" stroke=\"black\" points=\"350.98,-318.21 349.91,-307.67 344.18,-316.58 350.98,-318.21\"/>\n</g>\n<!-- 3 -->\n<g id=\"node4\" class=\"node\">\n<title>3</title>\n<path fill=\"#e58139\" stroke=\"black\" d=\"M82,-179.5C82,-179.5 12,-179.5 12,-179.5 6,-179.5 0,-173.5 0,-167.5 0,-167.5 0,-123.5 0,-123.5 0,-117.5 6,-111.5 12,-111.5 12,-111.5 82,-111.5 82,-111.5 88,-111.5 94,-117.5 94,-123.5 94,-123.5 94,-167.5 94,-167.5 94,-173.5 88,-179.5 82,-179.5\"/>\n<text text-anchor=\"start\" x=\"19.25\" y=\"-162.2\" font-family=\"Helvetica,sans-Serif\" font-size=\"14.00\">gini = 0.0</text>\n<text text-anchor=\"start\" x=\"9.88\" y=\"-147.2\" font-family=\"Helvetica,sans-Serif\" font-size=\"14.00\">samples = 8</text>\n<text text-anchor=\"start\" x=\"8\" y=\"-132.2\" font-family=\"Helvetica,sans-Serif\" font-size=\"14.00\">value = [8, 0]</text>\n<text text-anchor=\"start\" x=\"13.25\" y=\"-117.2\" font-family=\"Helvetica,sans-Serif\" font-size=\"14.00\">class = NO</text>\n</g>\n<!-- 2&#45;&gt;3 -->\n<g id=\"edge3\" class=\"edge\">\n<title>2&#45;&gt;3</title>\n<path fill=\"none\" stroke=\"black\" d=\"M104.22,-222.58C96.01,-211.66 87.13,-199.85 78.86,-188.86\"/>\n<polygon fill=\"black\" stroke=\"black\" points=\"81.81,-186.96 73,-181.07 76.22,-191.17 81.81,-186.96\"/>\n</g>\n<!-- 4 -->\n<g id=\"node5\" class=\"node\">\n<title>4</title>\n<path fill=\"#3ea0e6\" stroke=\"black\" d=\"M201.75,-187C201.75,-187 124.25,-187 124.25,-187 118.25,-187 112.25,-181 112.25,-175 112.25,-175 112.25,-116 112.25,-116 112.25,-110 118.25,-104 124.25,-104 124.25,-104 201.75,-104 201.75,-104 207.75,-104 213.75,-110 213.75,-116 213.75,-116 213.75,-175 213.75,-175 213.75,-181 207.75,-187 201.75,-187\"/>\n<text text-anchor=\"start\" x=\"131.12\" y=\"-169.7\" font-family=\"Helvetica,sans-Serif\" font-size=\"14.00\">age ≤ 59.0</text>\n<text text-anchor=\"start\" x=\"127.75\" y=\"-154.7\" font-family=\"Helvetica,sans-Serif\" font-size=\"14.00\">gini = 0.051</text>\n<text text-anchor=\"start\" x=\"122.12\" y=\"-139.7\" font-family=\"Helvetica,sans-Serif\" font-size=\"14.00\">samples = 38</text>\n<text text-anchor=\"start\" x=\"120.25\" y=\"-124.7\" font-family=\"Helvetica,sans-Serif\" font-size=\"14.00\">value = [1, 37]</text>\n<text text-anchor=\"start\" x=\"126.25\" y=\"-109.7\" font-family=\"Helvetica,sans-Serif\" font-size=\"14.00\">class = YES</text>\n</g>\n<!-- 2&#45;&gt;4 -->\n<g id=\"edge4\" class=\"edge\">\n<title>2&#45;&gt;4</title>\n<path fill=\"none\" stroke=\"black\" d=\"M144.79,-222.58C146.68,-214.7 148.68,-206.34 150.63,-198.17\"/>\n<polygon fill=\"black\" stroke=\"black\" points=\"153.98,-199.21 152.91,-188.67 147.18,-197.58 153.98,-199.21\"/>\n</g>\n<!-- 5 -->\n<g id=\"node6\" class=\"node\">\n<title>5</title>\n<path fill=\"#399de5\" stroke=\"black\" d=\"M93.75,-68C93.75,-68 16.25,-68 16.25,-68 10.25,-68 4.25,-62 4.25,-56 4.25,-56 4.25,-12 4.25,-12 4.25,-6 10.25,0 16.25,0 16.25,0 93.75,0 93.75,0 99.75,0 105.75,-6 105.75,-12 105.75,-12 105.75,-56 105.75,-56 105.75,-62 99.75,-68 93.75,-68\"/>\n<text text-anchor=\"start\" x=\"27.25\" y=\"-50.7\" font-family=\"Helvetica,sans-Serif\" font-size=\"14.00\">gini = 0.0</text>\n<text text-anchor=\"start\" x=\"14.12\" y=\"-35.7\" font-family=\"Helvetica,sans-Serif\" font-size=\"14.00\">samples = 37</text>\n<text text-anchor=\"start\" x=\"12.25\" y=\"-20.7\" font-family=\"Helvetica,sans-Serif\" font-size=\"14.00\">value = [0, 37]</text>\n<text text-anchor=\"start\" x=\"18.25\" y=\"-5.7\" font-family=\"Helvetica,sans-Serif\" font-size=\"14.00\">class = YES</text>\n</g>\n<!-- 4&#45;&gt;5 -->\n<g id=\"edge5\" class=\"edge\">\n<title>4&#45;&gt;5</title>\n<path fill=\"none\" stroke=\"black\" d=\"M122.78,-103.73C113.97,-94.79 104.63,-85.32 95.79,-76.36\"/>\n<polygon fill=\"black\" stroke=\"black\" points=\"98.42,-74.04 88.91,-69.38 93.44,-78.95 98.42,-74.04\"/>\n</g>\n<!-- 6 -->\n<g id=\"node7\" class=\"node\">\n<title>6</title>\n<path fill=\"#e58139\" stroke=\"black\" d=\"M206,-68C206,-68 136,-68 136,-68 130,-68 124,-62 124,-56 124,-56 124,-12 124,-12 124,-6 130,0 136,0 136,0 206,0 206,0 212,0 218,-6 218,-12 218,-12 218,-56 218,-56 218,-62 212,-68 206,-68\"/>\n<text text-anchor=\"start\" x=\"143.25\" y=\"-50.7\" font-family=\"Helvetica,sans-Serif\" font-size=\"14.00\">gini = 0.0</text>\n<text text-anchor=\"start\" x=\"133.88\" y=\"-35.7\" font-family=\"Helvetica,sans-Serif\" font-size=\"14.00\">samples = 1</text>\n<text text-anchor=\"start\" x=\"132\" y=\"-20.7\" font-family=\"Helvetica,sans-Serif\" font-size=\"14.00\">value = [1, 0]</text>\n<text text-anchor=\"start\" x=\"137.25\" y=\"-5.7\" font-family=\"Helvetica,sans-Serif\" font-size=\"14.00\">class = NO</text>\n</g>\n<!-- 4&#45;&gt;6 -->\n<g id=\"edge6\" class=\"edge\">\n<title>4&#45;&gt;6</title>\n<path fill=\"none\" stroke=\"black\" d=\"M165.98,-103.73C166.55,-95.88 167.16,-87.63 167.74,-79.67\"/>\n<polygon fill=\"black\" stroke=\"black\" points=\"171.22,-80.04 168.46,-69.81 164.24,-79.53 171.22,-80.04\"/>\n</g>\n<!-- 8 -->\n<g id=\"node9\" class=\"node\">\n<title>8</title>\n<path fill=\"#eca572\" stroke=\"black\" d=\"M381,-187C381,-187 311,-187 311,-187 305,-187 299,-181 299,-175 299,-175 299,-116 299,-116 299,-110 305,-104 311,-104 311,-104 381,-104 381,-104 387,-104 393,-110 393,-116 393,-116 393,-175 393,-175 393,-181 387,-187 381,-187\"/>\n<text text-anchor=\"start\" x=\"314.12\" y=\"-169.7\" font-family=\"Helvetica,sans-Serif\" font-size=\"14.00\">age ≤ 26.5</text>\n<text text-anchor=\"start\" x=\"310.75\" y=\"-154.7\" font-family=\"Helvetica,sans-Serif\" font-size=\"14.00\">gini = 0.346</text>\n<text text-anchor=\"start\" x=\"308.88\" y=\"-139.7\" font-family=\"Helvetica,sans-Serif\" font-size=\"14.00\">samples = 9</text>\n<text text-anchor=\"start\" x=\"307\" y=\"-124.7\" font-family=\"Helvetica,sans-Serif\" font-size=\"14.00\">value = [7, 2]</text>\n<text text-anchor=\"start\" x=\"312.25\" y=\"-109.7\" font-family=\"Helvetica,sans-Serif\" font-size=\"14.00\">class = NO</text>\n</g>\n<!-- 7&#45;&gt;8 -->\n<g id=\"edge8\" class=\"edge\">\n<title>7&#45;&gt;8</title>\n<path fill=\"none\" stroke=\"black\" d=\"M355.1,-222.58C354.17,-214.79 353.18,-206.53 352.22,-198.45\"/>\n<polygon fill=\"black\" stroke=\"black\" points=\"355.71,-198.22 351.05,-188.7 348.76,-199.05 355.71,-198.22\"/>\n</g>\n<!-- 11 -->\n<g id=\"node12\" class=\"node\">\n<title>11</title>\n<path fill=\"#e58139\" stroke=\"black\" d=\"M500.75,-179.5C500.75,-179.5 423.25,-179.5 423.25,-179.5 417.25,-179.5 411.25,-173.5 411.25,-167.5 411.25,-167.5 411.25,-123.5 411.25,-123.5 411.25,-117.5 417.25,-111.5 423.25,-111.5 423.25,-111.5 500.75,-111.5 500.75,-111.5 506.75,-111.5 512.75,-117.5 512.75,-123.5 512.75,-123.5 512.75,-167.5 512.75,-167.5 512.75,-173.5 506.75,-179.5 500.75,-179.5\"/>\n<text text-anchor=\"start\" x=\"434.25\" y=\"-162.2\" font-family=\"Helvetica,sans-Serif\" font-size=\"14.00\">gini = 0.0</text>\n<text text-anchor=\"start\" x=\"421.12\" y=\"-147.2\" font-family=\"Helvetica,sans-Serif\" font-size=\"14.00\">samples = 89</text>\n<text text-anchor=\"start\" x=\"419.25\" y=\"-132.2\" font-family=\"Helvetica,sans-Serif\" font-size=\"14.00\">value = [89, 0]</text>\n<text text-anchor=\"start\" x=\"428.25\" y=\"-117.2\" font-family=\"Helvetica,sans-Serif\" font-size=\"14.00\">class = NO</text>\n</g>\n<!-- 7&#45;&gt;11 -->\n<g id=\"edge11\" class=\"edge\">\n<title>7&#45;&gt;11</title>\n<path fill=\"none\" stroke=\"black\" d=\"M395.67,-222.58C405.28,-211.56 415.7,-199.61 425.36,-188.53\"/>\n<polygon fill=\"black\" stroke=\"black\" points=\"427.99,-190.84 431.92,-181 422.71,-186.24 427.99,-190.84\"/>\n</g>\n<!-- 9 -->\n<g id=\"node10\" class=\"node\">\n<title>9</title>\n<path fill=\"#399de5\" stroke=\"black\" d=\"M374,-68C374,-68 304,-68 304,-68 298,-68 292,-62 292,-56 292,-56 292,-12 292,-12 292,-6 298,0 304,0 304,0 374,0 374,0 380,0 386,-6 386,-12 386,-12 386,-56 386,-56 386,-62 380,-68 374,-68\"/>\n<text text-anchor=\"start\" x=\"311.25\" y=\"-50.7\" font-family=\"Helvetica,sans-Serif\" font-size=\"14.00\">gini = 0.0</text>\n<text text-anchor=\"start\" x=\"301.88\" y=\"-35.7\" font-family=\"Helvetica,sans-Serif\" font-size=\"14.00\">samples = 2</text>\n<text text-anchor=\"start\" x=\"300\" y=\"-20.7\" font-family=\"Helvetica,sans-Serif\" font-size=\"14.00\">value = [0, 2]</text>\n<text text-anchor=\"start\" x=\"302.25\" y=\"-5.7\" font-family=\"Helvetica,sans-Serif\" font-size=\"14.00\">class = YES</text>\n</g>\n<!-- 8&#45;&gt;9 -->\n<g id=\"edge9\" class=\"edge\">\n<title>8&#45;&gt;9</title>\n<path fill=\"none\" stroke=\"black\" d=\"M343.39,-103.73C342.89,-95.88 342.36,-87.63 341.86,-79.67\"/>\n<polygon fill=\"black\" stroke=\"black\" points=\"345.36,-79.57 341.23,-69.81 338.37,-80.01 345.36,-79.57\"/>\n</g>\n<!-- 10 -->\n<g id=\"node11\" class=\"node\">\n<title>10</title>\n<path fill=\"#e58139\" stroke=\"black\" d=\"M486,-68C486,-68 416,-68 416,-68 410,-68 404,-62 404,-56 404,-56 404,-12 404,-12 404,-6 410,0 416,0 416,0 486,0 486,0 492,0 498,-6 498,-12 498,-12 498,-56 498,-56 498,-62 492,-68 486,-68\"/>\n<text text-anchor=\"start\" x=\"423.25\" y=\"-50.7\" font-family=\"Helvetica,sans-Serif\" font-size=\"14.00\">gini = 0.0</text>\n<text text-anchor=\"start\" x=\"413.88\" y=\"-35.7\" font-family=\"Helvetica,sans-Serif\" font-size=\"14.00\">samples = 7</text>\n<text text-anchor=\"start\" x=\"412\" y=\"-20.7\" font-family=\"Helvetica,sans-Serif\" font-size=\"14.00\">value = [7, 0]</text>\n<text text-anchor=\"start\" x=\"417.25\" y=\"-5.7\" font-family=\"Helvetica,sans-Serif\" font-size=\"14.00\">class = NO</text>\n</g>\n<!-- 8&#45;&gt;10 -->\n<g id=\"edge10\" class=\"edge\">\n<title>8&#45;&gt;10</title>\n<path fill=\"none\" stroke=\"black\" d=\"M385.1,-103.73C393.67,-94.79 402.75,-85.32 411.34,-76.36\"/>\n<polygon fill=\"black\" stroke=\"black\" points=\"413.63,-79.03 418.02,-69.39 408.57,-74.19 413.63,-79.03\"/>\n</g>\n<!-- 13 -->\n<g id=\"node14\" class=\"node\">\n<title>13</title>\n<path fill=\"#399de5\" stroke=\"black\" d=\"M629.5,-298.5C629.5,-298.5 544.5,-298.5 544.5,-298.5 538.5,-298.5 532.5,-292.5 532.5,-286.5 532.5,-286.5 532.5,-242.5 532.5,-242.5 532.5,-236.5 538.5,-230.5 544.5,-230.5 544.5,-230.5 629.5,-230.5 629.5,-230.5 635.5,-230.5 641.5,-236.5 641.5,-242.5 641.5,-242.5 641.5,-286.5 641.5,-286.5 641.5,-292.5 635.5,-298.5 629.5,-298.5\"/>\n<text text-anchor=\"start\" x=\"559.25\" y=\"-281.2\" font-family=\"Helvetica,sans-Serif\" font-size=\"14.00\">gini = 0.0</text>\n<text text-anchor=\"start\" x=\"542.38\" y=\"-266.2\" font-family=\"Helvetica,sans-Serif\" font-size=\"14.00\">samples = 160</text>\n<text text-anchor=\"start\" x=\"540.5\" y=\"-251.2\" font-family=\"Helvetica,sans-Serif\" font-size=\"14.00\">value = [0, 160]</text>\n<text text-anchor=\"start\" x=\"550.25\" y=\"-236.2\" font-family=\"Helvetica,sans-Serif\" font-size=\"14.00\">class = YES</text>\n</g>\n<!-- 12&#45;&gt;13 -->\n<g id=\"edge13\" class=\"edge\">\n<title>12&#45;&gt;13</title>\n<path fill=\"none\" stroke=\"black\" d=\"M604.56,-341.58C602.19,-331.32 599.64,-320.27 597.23,-309.85\"/>\n<polygon fill=\"black\" stroke=\"black\" points=\"600.7,-309.29 595.04,-300.34 593.88,-310.87 600.7,-309.29\"/>\n</g>\n<!-- 14 -->\n<g id=\"node15\" class=\"node\">\n<title>14</title>\n<path fill=\"#dceefa\" stroke=\"black\" d=\"M820,-306C820,-306 672,-306 672,-306 666,-306 660,-300 660,-294 660,-294 660,-235 660,-235 660,-229 666,-223 672,-223 672,-223 820,-223 820,-223 826,-223 832,-229 832,-235 832,-235 832,-294 832,-294 832,-300 826,-306 820,-306\"/>\n<text text-anchor=\"start\" x=\"668\" y=\"-288.7\" font-family=\"Helvetica,sans-Serif\" font-size=\"14.00\">spent_last_month ≤ 140.0</text>\n<text text-anchor=\"start\" x=\"710.75\" y=\"-273.7\" font-family=\"Helvetica,sans-Serif\" font-size=\"14.00\">gini = 0.495</text>\n<text text-anchor=\"start\" x=\"705.12\" y=\"-258.7\" font-family=\"Helvetica,sans-Serif\" font-size=\"14.00\">samples = 51</text>\n<text text-anchor=\"start\" x=\"699.5\" y=\"-243.7\" font-family=\"Helvetica,sans-Serif\" font-size=\"14.00\">value = [23, 28]</text>\n<text text-anchor=\"start\" x=\"709.25\" y=\"-228.7\" font-family=\"Helvetica,sans-Serif\" font-size=\"14.00\">class = YES</text>\n</g>\n<!-- 12&#45;&gt;14 -->\n<g id=\"edge14\" class=\"edge\">\n<title>12&#45;&gt;14</title>\n<path fill=\"none\" stroke=\"black\" d=\"M660.17,-341.58C670.37,-332.53 681.28,-322.87 691.77,-313.56\"/>\n<polygon fill=\"black\" stroke=\"black\" points=\"693.79,-316.46 698.95,-307.2 689.14,-311.22 693.79,-316.46\"/>\n</g>\n<!-- 15 -->\n<g id=\"node16\" class=\"node\">\n<title>15</title>\n<path fill=\"#e58139\" stroke=\"black\" d=\"M680.75,-179.5C680.75,-179.5 603.25,-179.5 603.25,-179.5 597.25,-179.5 591.25,-173.5 591.25,-167.5 591.25,-167.5 591.25,-123.5 591.25,-123.5 591.25,-117.5 597.25,-111.5 603.25,-111.5 603.25,-111.5 680.75,-111.5 680.75,-111.5 686.75,-111.5 692.75,-117.5 692.75,-123.5 692.75,-123.5 692.75,-167.5 692.75,-167.5 692.75,-173.5 686.75,-179.5 680.75,-179.5\"/>\n<text text-anchor=\"start\" x=\"614.25\" y=\"-162.2\" font-family=\"Helvetica,sans-Serif\" font-size=\"14.00\">gini = 0.0</text>\n<text text-anchor=\"start\" x=\"601.12\" y=\"-147.2\" font-family=\"Helvetica,sans-Serif\" font-size=\"14.00\">samples = 23</text>\n<text text-anchor=\"start\" x=\"599.25\" y=\"-132.2\" font-family=\"Helvetica,sans-Serif\" font-size=\"14.00\">value = [23, 0]</text>\n<text text-anchor=\"start\" x=\"608.25\" y=\"-117.2\" font-family=\"Helvetica,sans-Serif\" font-size=\"14.00\">class = NO</text>\n</g>\n<!-- 14&#45;&gt;15 -->\n<g id=\"edge15\" class=\"edge\">\n<title>14&#45;&gt;15</title>\n<path fill=\"none\" stroke=\"black\" d=\"M709.63,-222.58C699.73,-211.45 689,-199.38 679.07,-188.2\"/>\n<polygon fill=\"black\" stroke=\"black\" points=\"681.92,-186.14 672.66,-180.99 676.69,-190.79 681.92,-186.14\"/>\n</g>\n<!-- 16 -->\n<g id=\"node17\" class=\"node\">\n<title>16</title>\n<path fill=\"#399de5\" stroke=\"black\" d=\"M800.75,-179.5C800.75,-179.5 723.25,-179.5 723.25,-179.5 717.25,-179.5 711.25,-173.5 711.25,-167.5 711.25,-167.5 711.25,-123.5 711.25,-123.5 711.25,-117.5 717.25,-111.5 723.25,-111.5 723.25,-111.5 800.75,-111.5 800.75,-111.5 806.75,-111.5 812.75,-117.5 812.75,-123.5 812.75,-123.5 812.75,-167.5 812.75,-167.5 812.75,-173.5 806.75,-179.5 800.75,-179.5\"/>\n<text text-anchor=\"start\" x=\"734.25\" y=\"-162.2\" font-family=\"Helvetica,sans-Serif\" font-size=\"14.00\">gini = 0.0</text>\n<text text-anchor=\"start\" x=\"721.12\" y=\"-147.2\" font-family=\"Helvetica,sans-Serif\" font-size=\"14.00\">samples = 28</text>\n<text text-anchor=\"start\" x=\"719.25\" y=\"-132.2\" font-family=\"Helvetica,sans-Serif\" font-size=\"14.00\">value = [0, 28]</text>\n<text text-anchor=\"start\" x=\"725.25\" y=\"-117.2\" font-family=\"Helvetica,sans-Serif\" font-size=\"14.00\">class = YES</text>\n</g>\n<!-- 14&#45;&gt;16 -->\n<g id=\"edge16\" class=\"edge\">\n<title>14&#45;&gt;16</title>\n<path fill=\"none\" stroke=\"black\" d=\"M751.6,-222.58C752.98,-212.43 754.48,-201.5 755.89,-191.18\"/>\n<polygon fill=\"black\" stroke=\"black\" points=\"759.35,-191.74 757.23,-181.36 752.41,-190.79 759.35,-191.74\"/>\n</g>\n</g>\n</svg>\n",
      "text/plain": "<graphviz.sources.Source at 0x139eba350>"
     },
     "execution_count": 163,
     "metadata": {},
     "output_type": "execute_result"
    }
   ],
   "source": [
    "# Visualizse the Decision Tree\n",
    "dot_data = tree.export_graphviz(\n",
    "    gini_model,\n",
    "    feature_names=gini_model.feature_names_in_,\n",
    "    class_names=gini_model.classes_,\n",
    "    filled=True,\n",
    "    rounded=True,\n",
    "    special_characters=True\n",
    ")\n",
    "graph = graphviz.Source(dot_data)\n",
    "graph.render(\"image/Decision Tree - Gini - No Max Depth\")\n",
    "graph"
   ]
  },
  {
   "cell_type": "code",
   "execution_count": 164,
   "metadata": {
    "colab": {},
    "colab_type": "code",
    "id": "T0RadBy0DuWp",
    "ExecuteTime": {
     "end_time": "2023-10-29T02:45:48.506236Z",
     "start_time": "2023-10-29T02:45:46.862098Z"
    }
   },
   "outputs": [
    {
     "name": "stdout",
     "output_type": "stream",
     "text": [
      "              precision    recall  f1-score   support\n",
      "\n",
      "          NO       0.98      1.00      0.99        43\n",
      "         YES       1.00      0.99      0.99        76\n",
      "\n",
      "    accuracy                           0.99       119\n",
      "   macro avg       0.99      0.99      0.99       119\n",
      "weighted avg       0.99      0.99      0.99       119\n"
     ]
    }
   ],
   "source": [
    "# Run this block for model evaluation\n",
    "# print(\"Model Gini impurity model\")\n",
    "# print(\"Accuracy:\", metrics.accuracy_score(y_test,y_pred))\n",
    "# print(\"Balanced accuracy:\", metrics.balanced_accuracy_score(y_test,y_pred))\n",
    "# print('Precision score' , metrics.precision_score(y_test,y_pred, pos_label = \"YES\"))\n",
    "# print('Recall score' , metrics.recall_score(y_test,y_pred, pos_label = \"NO\"))\n",
    "print(metrics.classification_report(y_test, y_pred))"
   ]
  },
  {
   "cell_type": "markdown",
   "metadata": {
    "colab_type": "text",
    "id": "LR5LkC_yDuWs"
   },
   "source": [
    "How do the results here compare to the previous model? Write your judgements here:\n",
    "Virtually the same, only slightly lower by 1%. "
   ]
  },
  {
   "cell_type": "markdown",
   "metadata": {
    "colab_type": "text",
    "id": "3PctBjTADuWs"
   },
   "source": [
    "## Model 3: Entropy model - max depth 3\n",
    "We're going to try to limit the depth of our decision tree, using entropy first.  \n",
    "\n",
    "As you know, we need to strike a balance with tree depth. \n",
    "\n",
    "Insufficiently deep, and we're not giving the tree the opportunity to spot the right patterns in the training data.\n",
    "\n",
    "Excessively deep, and we're probably going to make a tree that overfits to the training data, at the cost of very high error on the (hitherto unseen) test data. \n",
    "\n",
    "Sophisticated data scientists use methods like random search with cross-validation to systematically find a good depth for their tree. We'll start with picking 3, and see how that goes. "
   ]
  },
  {
   "cell_type": "code",
   "execution_count": 165,
   "metadata": {
    "colab": {},
    "colab_type": "code",
    "id": "cMiPjWClDuWt",
    "ExecuteTime": {
     "end_time": "2023-10-29T02:45:48.506808Z",
     "start_time": "2023-10-29T02:45:46.887041Z"
    }
   },
   "outputs": [
    {
     "data": {
      "text/plain": "DecisionTreeClassifier(criterion='entropy', max_depth=3)",
      "text/html": "<style>#sk-container-id-16 {color: black;}#sk-container-id-16 pre{padding: 0;}#sk-container-id-16 div.sk-toggleable {background-color: white;}#sk-container-id-16 label.sk-toggleable__label {cursor: pointer;display: block;width: 100%;margin-bottom: 0;padding: 0.3em;box-sizing: border-box;text-align: center;}#sk-container-id-16 label.sk-toggleable__label-arrow:before {content: \"▸\";float: left;margin-right: 0.25em;color: #696969;}#sk-container-id-16 label.sk-toggleable__label-arrow:hover:before {color: black;}#sk-container-id-16 div.sk-estimator:hover label.sk-toggleable__label-arrow:before {color: black;}#sk-container-id-16 div.sk-toggleable__content {max-height: 0;max-width: 0;overflow: hidden;text-align: left;background-color: #f0f8ff;}#sk-container-id-16 div.sk-toggleable__content pre {margin: 0.2em;color: black;border-radius: 0.25em;background-color: #f0f8ff;}#sk-container-id-16 input.sk-toggleable__control:checked~div.sk-toggleable__content {max-height: 200px;max-width: 100%;overflow: auto;}#sk-container-id-16 input.sk-toggleable__control:checked~label.sk-toggleable__label-arrow:before {content: \"▾\";}#sk-container-id-16 div.sk-estimator input.sk-toggleable__control:checked~label.sk-toggleable__label {background-color: #d4ebff;}#sk-container-id-16 div.sk-label input.sk-toggleable__control:checked~label.sk-toggleable__label {background-color: #d4ebff;}#sk-container-id-16 input.sk-hidden--visually {border: 0;clip: rect(1px 1px 1px 1px);clip: rect(1px, 1px, 1px, 1px);height: 1px;margin: -1px;overflow: hidden;padding: 0;position: absolute;width: 1px;}#sk-container-id-16 div.sk-estimator {font-family: monospace;background-color: #f0f8ff;border: 1px dotted black;border-radius: 0.25em;box-sizing: border-box;margin-bottom: 0.5em;}#sk-container-id-16 div.sk-estimator:hover {background-color: #d4ebff;}#sk-container-id-16 div.sk-parallel-item::after {content: \"\";width: 100%;border-bottom: 1px solid gray;flex-grow: 1;}#sk-container-id-16 div.sk-label:hover label.sk-toggleable__label {background-color: #d4ebff;}#sk-container-id-16 div.sk-serial::before {content: \"\";position: absolute;border-left: 1px solid gray;box-sizing: border-box;top: 0;bottom: 0;left: 50%;z-index: 0;}#sk-container-id-16 div.sk-serial {display: flex;flex-direction: column;align-items: center;background-color: white;padding-right: 0.2em;padding-left: 0.2em;position: relative;}#sk-container-id-16 div.sk-item {position: relative;z-index: 1;}#sk-container-id-16 div.sk-parallel {display: flex;align-items: stretch;justify-content: center;background-color: white;position: relative;}#sk-container-id-16 div.sk-item::before, #sk-container-id-16 div.sk-parallel-item::before {content: \"\";position: absolute;border-left: 1px solid gray;box-sizing: border-box;top: 0;bottom: 0;left: 50%;z-index: -1;}#sk-container-id-16 div.sk-parallel-item {display: flex;flex-direction: column;z-index: 1;position: relative;background-color: white;}#sk-container-id-16 div.sk-parallel-item:first-child::after {align-self: flex-end;width: 50%;}#sk-container-id-16 div.sk-parallel-item:last-child::after {align-self: flex-start;width: 50%;}#sk-container-id-16 div.sk-parallel-item:only-child::after {width: 0;}#sk-container-id-16 div.sk-dashed-wrapped {border: 1px dashed gray;margin: 0 0.4em 0.5em 0.4em;box-sizing: border-box;padding-bottom: 0.4em;background-color: white;}#sk-container-id-16 div.sk-label label {font-family: monospace;font-weight: bold;display: inline-block;line-height: 1.2em;}#sk-container-id-16 div.sk-label-container {text-align: center;}#sk-container-id-16 div.sk-container {/* jupyter's `normalize.less` sets `[hidden] { display: none; }` but bootstrap.min.css set `[hidden] { display: none !important; }` so we also need the `!important` here to be able to override the default hidden behavior on the sphinx rendered scikit-learn.org. See: https://github.com/scikit-learn/scikit-learn/issues/21755 */display: inline-block !important;position: relative;}#sk-container-id-16 div.sk-text-repr-fallback {display: none;}</style><div id=\"sk-container-id-16\" class=\"sk-top-container\"><div class=\"sk-text-repr-fallback\"><pre>DecisionTreeClassifier(criterion=&#x27;entropy&#x27;, max_depth=3)</pre><b>In a Jupyter environment, please rerun this cell to show the HTML representation or trust the notebook. <br />On GitHub, the HTML representation is unable to render, please try loading this page with nbviewer.org.</b></div><div class=\"sk-container\" hidden><div class=\"sk-item\"><div class=\"sk-estimator sk-toggleable\"><input class=\"sk-toggleable__control sk-hidden--visually\" id=\"sk-estimator-id-16\" type=\"checkbox\" checked><label for=\"sk-estimator-id-16\" class=\"sk-toggleable__label sk-toggleable__label-arrow\">DecisionTreeClassifier</label><div class=\"sk-toggleable__content\"><pre>DecisionTreeClassifier(criterion=&#x27;entropy&#x27;, max_depth=3)</pre></div></div></div></div></div>"
     },
     "execution_count": 165,
     "metadata": {},
     "output_type": "execute_result"
    }
   ],
   "source": [
    "# Made a model as before, but call it entr_model2, and make the max_depth parameter equal to 3. \n",
    "# Execute the fitting, predicting, and Series operations as before\n",
    "entr_model_max_depth_3 = tree.DecisionTreeClassifier(\n",
    "    criterion='entropy',\n",
    "    max_depth=3\n",
    ")\n",
    "\n",
    "entr_model_max_depth_3.fit(X_train, y_train)\n",
    "\n",
    "y_pred = pd.Series(entr_model_max_depth_3.predict(X_test))\n",
    "\n",
    "entr_model_max_depth_3"
   ]
  },
  {
   "cell_type": "code",
   "execution_count": 166,
   "metadata": {
    "colab": {},
    "colab_type": "code",
    "id": "IRuw72VMDuWv",
    "ExecuteTime": {
     "end_time": "2023-10-29T02:45:48.507090Z",
     "start_time": "2023-10-29T02:45:46.903383Z"
    }
   },
   "outputs": [
    {
     "data": {
      "image/svg+xml": "<?xml version=\"1.0\" encoding=\"UTF-8\" standalone=\"no\"?>\n<!DOCTYPE svg PUBLIC \"-//W3C//DTD SVG 1.1//EN\"\n \"http://www.w3.org/Graphics/SVG/1.1/DTD/svg11.dtd\">\n<!-- Generated by graphviz version 9.0.0 (20230911.1827)\n -->\n<!-- Title: Tree Pages: 1 -->\n<svg width=\"516pt\" height=\"433pt\"\n viewBox=\"0.00 0.00 516.25 433.00\" xmlns=\"http://www.w3.org/2000/svg\" xmlns:xlink=\"http://www.w3.org/1999/xlink\">\n<g id=\"graph0\" class=\"graph\" transform=\"scale(1 1) rotate(0) translate(4 429)\">\n<title>Tree</title>\n<polygon fill=\"white\" stroke=\"none\" points=\"-4,4 -4,-429 512.25,-429 512.25,4 -4,4\"/>\n<!-- 0 -->\n<g id=\"node1\" class=\"node\">\n<title>0</title>\n<path fill=\"#a9d4f4\" stroke=\"black\" d=\"M422.75,-425C422.75,-425 274.75,-425 274.75,-425 268.75,-425 262.75,-419 262.75,-413 262.75,-413 262.75,-354 262.75,-354 262.75,-348 268.75,-342 274.75,-342 274.75,-342 422.75,-342 422.75,-342 428.75,-342 434.75,-348 434.75,-354 434.75,-354 434.75,-413 434.75,-413 434.75,-419 428.75,-425 422.75,-425\"/>\n<text text-anchor=\"start\" x=\"270.75\" y=\"-407.7\" font-family=\"Helvetica,sans-Serif\" font-size=\"14.00\">spent_last_month ≤ 138.0</text>\n<text text-anchor=\"start\" x=\"301.5\" y=\"-392.7\" font-family=\"Helvetica,sans-Serif\" font-size=\"14.00\">entropy = 0.943</text>\n<text text-anchor=\"start\" x=\"304.12\" y=\"-377.7\" font-family=\"Helvetica,sans-Serif\" font-size=\"14.00\">samples = 355</text>\n<text text-anchor=\"start\" x=\"294.75\" y=\"-362.7\" font-family=\"Helvetica,sans-Serif\" font-size=\"14.00\">value = [128, 227]</text>\n<text text-anchor=\"start\" x=\"312\" y=\"-347.7\" font-family=\"Helvetica,sans-Serif\" font-size=\"14.00\">class = YES</text>\n</g>\n<!-- 1 -->\n<g id=\"node2\" class=\"node\">\n<title>1</title>\n<path fill=\"#f9e0cf\" stroke=\"black\" d=\"M366.5,-306C366.5,-306 127,-306 127,-306 121,-306 115,-300 115,-294 115,-294 115,-235 115,-235 115,-229 121,-223 127,-223 127,-223 366.5,-223 366.5,-223 372.5,-223 378.5,-229 378.5,-235 378.5,-235 378.5,-294 378.5,-294 378.5,-300 372.5,-306 366.5,-306\"/>\n<text text-anchor=\"start\" x=\"123\" y=\"-288.7\" font-family=\"Helvetica,sans-Serif\" font-size=\"14.00\">distance_from_us_flagship_store ≤ 3.481</text>\n<text text-anchor=\"start\" x=\"199.5\" y=\"-273.7\" font-family=\"Helvetica,sans-Serif\" font-size=\"14.00\">entropy = 0.986</text>\n<text text-anchor=\"start\" x=\"202.12\" y=\"-258.7\" font-family=\"Helvetica,sans-Serif\" font-size=\"14.00\">samples = 225</text>\n<text text-anchor=\"start\" x=\"196.5\" y=\"-243.7\" font-family=\"Helvetica,sans-Serif\" font-size=\"14.00\">value = [128, 97]</text>\n<text text-anchor=\"start\" x=\"213\" y=\"-228.7\" font-family=\"Helvetica,sans-Serif\" font-size=\"14.00\">class = NO</text>\n</g>\n<!-- 0&#45;&gt;1 -->\n<g id=\"edge1\" class=\"edge\">\n<title>0&#45;&gt;1</title>\n<path fill=\"none\" stroke=\"black\" d=\"M313.08,-341.58C305.5,-332.89 297.43,-323.63 289.62,-314.67\"/>\n<polygon fill=\"black\" stroke=\"black\" points=\"292.44,-312.58 283.23,-307.34 287.16,-317.18 292.44,-312.58\"/>\n<text text-anchor=\"middle\" x=\"280.52\" y=\"-325.34\" font-family=\"Helvetica,sans-Serif\" font-size=\"14.00\">True</text>\n</g>\n<!-- 8 -->\n<g id=\"node9\" class=\"node\">\n<title>8</title>\n<path fill=\"#399de5\" stroke=\"black\" d=\"M493.25,-298.5C493.25,-298.5 408.25,-298.5 408.25,-298.5 402.25,-298.5 396.25,-292.5 396.25,-286.5 396.25,-286.5 396.25,-242.5 396.25,-242.5 396.25,-236.5 402.25,-230.5 408.25,-230.5 408.25,-230.5 493.25,-230.5 493.25,-230.5 499.25,-230.5 505.25,-236.5 505.25,-242.5 505.25,-242.5 505.25,-286.5 505.25,-286.5 505.25,-292.5 499.25,-298.5 493.25,-298.5\"/>\n<text text-anchor=\"start\" x=\"411\" y=\"-281.2\" font-family=\"Helvetica,sans-Serif\" font-size=\"14.00\">entropy = 0.0</text>\n<text text-anchor=\"start\" x=\"406.12\" y=\"-266.2\" font-family=\"Helvetica,sans-Serif\" font-size=\"14.00\">samples = 130</text>\n<text text-anchor=\"start\" x=\"404.25\" y=\"-251.2\" font-family=\"Helvetica,sans-Serif\" font-size=\"14.00\">value = [0, 130]</text>\n<text text-anchor=\"start\" x=\"414\" y=\"-236.2\" font-family=\"Helvetica,sans-Serif\" font-size=\"14.00\">class = YES</text>\n</g>\n<!-- 0&#45;&gt;8 -->\n<g id=\"edge8\" class=\"edge\">\n<title>0&#45;&gt;8</title>\n<path fill=\"none\" stroke=\"black\" d=\"M384.42,-341.58C394.03,-330.56 404.45,-318.61 414.11,-307.53\"/>\n<polygon fill=\"black\" stroke=\"black\" points=\"416.74,-309.84 420.67,-300 411.46,-305.24 416.74,-309.84\"/>\n<text text-anchor=\"middle\" x=\"423.37\" y=\"-318\" font-family=\"Helvetica,sans-Serif\" font-size=\"14.00\">False</text>\n</g>\n<!-- 2 -->\n<g id=\"node3\" class=\"node\">\n<title>2</title>\n<path fill=\"#57ace9\" stroke=\"black\" d=\"M224,-187C224,-187 83.5,-187 83.5,-187 77.5,-187 71.5,-181 71.5,-175 71.5,-175 71.5,-116 71.5,-116 71.5,-110 77.5,-104 83.5,-104 83.5,-104 224,-104 224,-104 230,-104 236,-110 236,-116 236,-116 236,-175 236,-175 236,-181 230,-187 224,-187\"/>\n<text text-anchor=\"start\" x=\"79.5\" y=\"-169.7\" font-family=\"Helvetica,sans-Serif\" font-size=\"14.00\">spent_last_month ≤ 24.5</text>\n<text text-anchor=\"start\" x=\"106.5\" y=\"-154.7\" font-family=\"Helvetica,sans-Serif\" font-size=\"14.00\">entropy = 0.562</text>\n<text text-anchor=\"start\" x=\"112.88\" y=\"-139.7\" font-family=\"Helvetica,sans-Serif\" font-size=\"14.00\">samples = 76</text>\n<text text-anchor=\"start\" x=\"107.25\" y=\"-124.7\" font-family=\"Helvetica,sans-Serif\" font-size=\"14.00\">value = [10, 66]</text>\n<text text-anchor=\"start\" x=\"117\" y=\"-109.7\" font-family=\"Helvetica,sans-Serif\" font-size=\"14.00\">class = YES</text>\n</g>\n<!-- 1&#45;&gt;2 -->\n<g id=\"edge2\" class=\"edge\">\n<title>1&#45;&gt;2</title>\n<path fill=\"none\" stroke=\"black\" d=\"M214.22,-222.58C207.39,-213.98 200.11,-204.82 193.05,-195.95\"/>\n<polygon fill=\"black\" stroke=\"black\" points=\"196.01,-194.04 187.04,-188.39 190.53,-198.39 196.01,-194.04\"/>\n</g>\n<!-- 5 -->\n<g id=\"node6\" class=\"node\">\n<title>5</title>\n<path fill=\"#eca26d\" stroke=\"black\" d=\"M413.75,-187C413.75,-187 265.75,-187 265.75,-187 259.75,-187 253.75,-181 253.75,-175 253.75,-175 253.75,-116 253.75,-116 253.75,-110 259.75,-104 265.75,-104 265.75,-104 413.75,-104 413.75,-104 419.75,-104 425.75,-110 425.75,-116 425.75,-116 425.75,-175 425.75,-175 425.75,-181 419.75,-187 413.75,-187\"/>\n<text text-anchor=\"start\" x=\"261.75\" y=\"-169.7\" font-family=\"Helvetica,sans-Serif\" font-size=\"14.00\">spent_last_month ≤ 101.0</text>\n<text text-anchor=\"start\" x=\"292.5\" y=\"-154.7\" font-family=\"Helvetica,sans-Serif\" font-size=\"14.00\">entropy = 0.738</text>\n<text text-anchor=\"start\" x=\"295.12\" y=\"-139.7\" font-family=\"Helvetica,sans-Serif\" font-size=\"14.00\">samples = 149</text>\n<text text-anchor=\"start\" x=\"289.5\" y=\"-124.7\" font-family=\"Helvetica,sans-Serif\" font-size=\"14.00\">value = [118, 31]</text>\n<text text-anchor=\"start\" x=\"306\" y=\"-109.7\" font-family=\"Helvetica,sans-Serif\" font-size=\"14.00\">class = NO</text>\n</g>\n<!-- 1&#45;&gt;5 -->\n<g id=\"edge5\" class=\"edge\">\n<title>1&#45;&gt;5</title>\n<path fill=\"none\" stroke=\"black\" d=\"M279.28,-222.58C286.11,-213.98 293.39,-204.82 300.45,-195.95\"/>\n<polygon fill=\"black\" stroke=\"black\" points=\"302.97,-198.39 306.46,-188.39 297.49,-194.04 302.97,-198.39\"/>\n</g>\n<!-- 3 -->\n<g id=\"node4\" class=\"node\">\n<title>3</title>\n<path fill=\"#e58139\" stroke=\"black\" d=\"M83.5,-68C83.5,-68 12,-68 12,-68 6,-68 0,-62 0,-56 0,-56 0,-12 0,-12 0,-6 6,0 12,0 12,0 83.5,0 83.5,0 89.5,0 95.5,-6 95.5,-12 95.5,-12 95.5,-56 95.5,-56 95.5,-62 89.5,-68 83.5,-68\"/>\n<text text-anchor=\"start\" x=\"8\" y=\"-50.7\" font-family=\"Helvetica,sans-Serif\" font-size=\"14.00\">entropy = 0.0</text>\n<text text-anchor=\"start\" x=\"10.62\" y=\"-35.7\" font-family=\"Helvetica,sans-Serif\" font-size=\"14.00\">samples = 8</text>\n<text text-anchor=\"start\" x=\"8.75\" y=\"-20.7\" font-family=\"Helvetica,sans-Serif\" font-size=\"14.00\">value = [8, 0]</text>\n<text text-anchor=\"start\" x=\"14\" y=\"-5.7\" font-family=\"Helvetica,sans-Serif\" font-size=\"14.00\">class = NO</text>\n</g>\n<!-- 2&#45;&gt;3 -->\n<g id=\"edge3\" class=\"edge\">\n<title>2&#45;&gt;3</title>\n<path fill=\"none\" stroke=\"black\" d=\"M114.28,-103.73C105.63,-94.79 96.46,-85.32 87.78,-76.36\"/>\n<polygon fill=\"black\" stroke=\"black\" points=\"90.51,-74.14 81.04,-69.39 85.48,-79.01 90.51,-74.14\"/>\n</g>\n<!-- 4 -->\n<g id=\"node5\" class=\"node\">\n<title>4</title>\n<path fill=\"#3fa0e6\" stroke=\"black\" d=\"M212,-68C212,-68 125.5,-68 125.5,-68 119.5,-68 113.5,-62 113.5,-56 113.5,-56 113.5,-12 113.5,-12 113.5,-6 119.5,0 125.5,0 125.5,0 212,0 212,0 218,0 224,-6 224,-12 224,-12 224,-56 224,-56 224,-62 218,-68 212,-68\"/>\n<text text-anchor=\"start\" x=\"121.5\" y=\"-50.7\" font-family=\"Helvetica,sans-Serif\" font-size=\"14.00\">entropy = 0.191</text>\n<text text-anchor=\"start\" x=\"127.88\" y=\"-35.7\" font-family=\"Helvetica,sans-Serif\" font-size=\"14.00\">samples = 68</text>\n<text text-anchor=\"start\" x=\"126\" y=\"-20.7\" font-family=\"Helvetica,sans-Serif\" font-size=\"14.00\">value = [2, 66]</text>\n<text text-anchor=\"start\" x=\"132\" y=\"-5.7\" font-family=\"Helvetica,sans-Serif\" font-size=\"14.00\">class = YES</text>\n</g>\n<!-- 2&#45;&gt;4 -->\n<g id=\"edge4\" class=\"edge\">\n<title>2&#45;&gt;4</title>\n<path fill=\"none\" stroke=\"black\" d=\"M159.34,-103.73C160.41,-95.88 161.54,-87.63 162.63,-79.67\"/>\n<polygon fill=\"black\" stroke=\"black\" points=\"166.09,-80.18 163.98,-69.8 159.16,-79.23 166.09,-80.18\"/>\n</g>\n<!-- 6 -->\n<g id=\"node7\" class=\"node\">\n<title>6</title>\n<path fill=\"#e6843d\" stroke=\"black\" d=\"M369,-68C369,-68 282.5,-68 282.5,-68 276.5,-68 270.5,-62 270.5,-56 270.5,-56 270.5,-12 270.5,-12 270.5,-6 276.5,0 282.5,0 282.5,0 369,0 369,0 375,0 381,-6 381,-12 381,-12 381,-56 381,-56 381,-62 375,-68 369,-68\"/>\n<text text-anchor=\"start\" x=\"278.5\" y=\"-50.7\" font-family=\"Helvetica,sans-Serif\" font-size=\"14.00\">entropy = 0.145</text>\n<text text-anchor=\"start\" x=\"284.88\" y=\"-35.7\" font-family=\"Helvetica,sans-Serif\" font-size=\"14.00\">samples = 97</text>\n<text text-anchor=\"start\" x=\"283\" y=\"-20.7\" font-family=\"Helvetica,sans-Serif\" font-size=\"14.00\">value = [95, 2]</text>\n<text text-anchor=\"start\" x=\"292\" y=\"-5.7\" font-family=\"Helvetica,sans-Serif\" font-size=\"14.00\">class = NO</text>\n</g>\n<!-- 5&#45;&gt;6 -->\n<g id=\"edge6\" class=\"edge\">\n<title>5&#45;&gt;6</title>\n<path fill=\"none\" stroke=\"black\" d=\"M334.54,-103.73C333.53,-95.88 332.48,-87.63 331.46,-79.67\"/>\n<polygon fill=\"black\" stroke=\"black\" points=\"334.94,-79.28 330.2,-69.8 328,-80.16 334.94,-79.28\"/>\n</g>\n<!-- 7 -->\n<g id=\"node8\" class=\"node\">\n<title>7</title>\n<path fill=\"#d6ebfa\" stroke=\"black\" d=\"M496.25,-68C496.25,-68 411.25,-68 411.25,-68 405.25,-68 399.25,-62 399.25,-56 399.25,-56 399.25,-12 399.25,-12 399.25,-6 405.25,0 411.25,0 411.25,0 496.25,0 496.25,0 502.25,0 508.25,-6 508.25,-12 508.25,-12 508.25,-56 508.25,-56 508.25,-62 502.25,-68 496.25,-68\"/>\n<text text-anchor=\"start\" x=\"410.25\" y=\"-50.7\" font-family=\"Helvetica,sans-Serif\" font-size=\"14.00\">entropy = 0.99</text>\n<text text-anchor=\"start\" x=\"412.88\" y=\"-35.7\" font-family=\"Helvetica,sans-Serif\" font-size=\"14.00\">samples = 52</text>\n<text text-anchor=\"start\" x=\"407.25\" y=\"-20.7\" font-family=\"Helvetica,sans-Serif\" font-size=\"14.00\">value = [23, 29]</text>\n<text text-anchor=\"start\" x=\"417\" y=\"-5.7\" font-family=\"Helvetica,sans-Serif\" font-size=\"14.00\">class = YES</text>\n</g>\n<!-- 5&#45;&gt;7 -->\n<g id=\"edge7\" class=\"edge\">\n<title>5&#45;&gt;7</title>\n<path fill=\"none\" stroke=\"black\" d=\"M382.2,-103.73C391.6,-94.7 401.57,-85.12 410.98,-76.08\"/>\n<polygon fill=\"black\" stroke=\"black\" points=\"413.2,-78.8 417.99,-69.35 408.35,-73.75 413.2,-78.8\"/>\n</g>\n</g>\n</svg>\n",
      "text/plain": "<graphviz.sources.Source at 0x13a2ff010>"
     },
     "execution_count": 166,
     "metadata": {},
     "output_type": "execute_result"
    }
   ],
   "source": [
    "# Visualizse the Decision Tree\n",
    "dot_data = tree.export_graphviz(\n",
    "    entr_model_max_depth_3,\n",
    "    feature_names=entr_model_max_depth_3.feature_names_in_,\n",
    "    class_names=entr_model_max_depth_3.classes_,\n",
    "    filled=True,\n",
    "    rounded=True,\n",
    "    special_characters=True\n",
    ")\n",
    "graph = graphviz.Source(dot_data)\n",
    "graph.render(\"image/Decision Tree - Entropy - Max Depth 3\")\n",
    "graph"
   ]
  },
  {
   "cell_type": "code",
   "execution_count": 167,
   "metadata": {
    "colab": {},
    "colab_type": "code",
    "id": "29f4vmmMDuWy",
    "ExecuteTime": {
     "end_time": "2023-10-29T02:45:48.507309Z",
     "start_time": "2023-10-29T02:45:47.277985Z"
    }
   },
   "outputs": [
    {
     "name": "stdout",
     "output_type": "stream",
     "text": [
      "Model Entropy model max depth 3\n",
      "Balanced accuracy: 0.8887698898408812\n",
      "              precision    recall  f1-score   support\n",
      "\n",
      "          NO       0.97      0.79      0.87        43\n",
      "         YES       0.89      0.99      0.94        76\n",
      "\n",
      "    accuracy                           0.92       119\n",
      "   macro avg       0.93      0.89      0.90       119\n",
      "weighted avg       0.92      0.92      0.91       119\n"
     ]
    }
   ],
   "source": [
    "# Run this block for model evaluation \n",
    "print(\"Model Entropy model max depth 3\")\n",
    "# print(\"Accuracy:\", metrics.accuracy_score(y_test,y_pred))\n",
    "print(\"Balanced accuracy:\", metrics.balanced_accuracy_score(y_test,y_pred))\n",
    "# print('Precision score for \"Yes\"' , metrics.precision_score(y_test,y_pred, pos_label = \"YES\"))\n",
    "# print('Recall score for \"No\"' , metrics.recall_score(y_test,y_pred, pos_label = \"NO\"))\n",
    "print(metrics.classification_report(y_true=y_test, y_pred=y_pred))"
   ]
  },
  {
   "cell_type": "code",
   "execution_count": 167,
   "outputs": [],
   "source": [],
   "metadata": {
    "collapsed": false,
    "ExecuteTime": {
     "end_time": "2023-10-29T02:45:48.507422Z",
     "start_time": "2023-10-29T02:45:47.294677Z"
    }
   }
  },
  {
   "cell_type": "markdown",
   "metadata": {
    "colab_type": "text",
    "id": "AG7S2YgUDuW4"
   },
   "source": [
    "So our accuracy decreased, but is this certainly an inferior tree to the max depth original tree we did with Model 1? Write your conclusions here:\n",
    "Not necessarily, because the prior one (without max depth) is likely an overfit model which might not generalize well to unseen data (low bias, high variance)."
   ]
  },
  {
   "cell_type": "markdown",
   "metadata": {
    "colab_type": "text",
    "id": "FZTl4W3wDuW4"
   },
   "source": [
    "## Model 4: Gini impurity  model - max depth 3\n",
    "We're now going to try the same with the Gini impurity model. "
   ]
  },
  {
   "cell_type": "code",
   "execution_count": 168,
   "metadata": {
    "colab": {},
    "colab_type": "code",
    "id": "FJK1bkG3DuW5",
    "ExecuteTime": {
     "end_time": "2023-10-29T02:45:48.507893Z",
     "start_time": "2023-10-29T02:45:47.303298Z"
    }
   },
   "outputs": [
    {
     "data": {
      "text/plain": "DecisionTreeClassifier(max_depth=3, random_state=1234)",
      "text/html": "<style>#sk-container-id-17 {color: black;}#sk-container-id-17 pre{padding: 0;}#sk-container-id-17 div.sk-toggleable {background-color: white;}#sk-container-id-17 label.sk-toggleable__label {cursor: pointer;display: block;width: 100%;margin-bottom: 0;padding: 0.3em;box-sizing: border-box;text-align: center;}#sk-container-id-17 label.sk-toggleable__label-arrow:before {content: \"▸\";float: left;margin-right: 0.25em;color: #696969;}#sk-container-id-17 label.sk-toggleable__label-arrow:hover:before {color: black;}#sk-container-id-17 div.sk-estimator:hover label.sk-toggleable__label-arrow:before {color: black;}#sk-container-id-17 div.sk-toggleable__content {max-height: 0;max-width: 0;overflow: hidden;text-align: left;background-color: #f0f8ff;}#sk-container-id-17 div.sk-toggleable__content pre {margin: 0.2em;color: black;border-radius: 0.25em;background-color: #f0f8ff;}#sk-container-id-17 input.sk-toggleable__control:checked~div.sk-toggleable__content {max-height: 200px;max-width: 100%;overflow: auto;}#sk-container-id-17 input.sk-toggleable__control:checked~label.sk-toggleable__label-arrow:before {content: \"▾\";}#sk-container-id-17 div.sk-estimator input.sk-toggleable__control:checked~label.sk-toggleable__label {background-color: #d4ebff;}#sk-container-id-17 div.sk-label input.sk-toggleable__control:checked~label.sk-toggleable__label {background-color: #d4ebff;}#sk-container-id-17 input.sk-hidden--visually {border: 0;clip: rect(1px 1px 1px 1px);clip: rect(1px, 1px, 1px, 1px);height: 1px;margin: -1px;overflow: hidden;padding: 0;position: absolute;width: 1px;}#sk-container-id-17 div.sk-estimator {font-family: monospace;background-color: #f0f8ff;border: 1px dotted black;border-radius: 0.25em;box-sizing: border-box;margin-bottom: 0.5em;}#sk-container-id-17 div.sk-estimator:hover {background-color: #d4ebff;}#sk-container-id-17 div.sk-parallel-item::after {content: \"\";width: 100%;border-bottom: 1px solid gray;flex-grow: 1;}#sk-container-id-17 div.sk-label:hover label.sk-toggleable__label {background-color: #d4ebff;}#sk-container-id-17 div.sk-serial::before {content: \"\";position: absolute;border-left: 1px solid gray;box-sizing: border-box;top: 0;bottom: 0;left: 50%;z-index: 0;}#sk-container-id-17 div.sk-serial {display: flex;flex-direction: column;align-items: center;background-color: white;padding-right: 0.2em;padding-left: 0.2em;position: relative;}#sk-container-id-17 div.sk-item {position: relative;z-index: 1;}#sk-container-id-17 div.sk-parallel {display: flex;align-items: stretch;justify-content: center;background-color: white;position: relative;}#sk-container-id-17 div.sk-item::before, #sk-container-id-17 div.sk-parallel-item::before {content: \"\";position: absolute;border-left: 1px solid gray;box-sizing: border-box;top: 0;bottom: 0;left: 50%;z-index: -1;}#sk-container-id-17 div.sk-parallel-item {display: flex;flex-direction: column;z-index: 1;position: relative;background-color: white;}#sk-container-id-17 div.sk-parallel-item:first-child::after {align-self: flex-end;width: 50%;}#sk-container-id-17 div.sk-parallel-item:last-child::after {align-self: flex-start;width: 50%;}#sk-container-id-17 div.sk-parallel-item:only-child::after {width: 0;}#sk-container-id-17 div.sk-dashed-wrapped {border: 1px dashed gray;margin: 0 0.4em 0.5em 0.4em;box-sizing: border-box;padding-bottom: 0.4em;background-color: white;}#sk-container-id-17 div.sk-label label {font-family: monospace;font-weight: bold;display: inline-block;line-height: 1.2em;}#sk-container-id-17 div.sk-label-container {text-align: center;}#sk-container-id-17 div.sk-container {/* jupyter's `normalize.less` sets `[hidden] { display: none; }` but bootstrap.min.css set `[hidden] { display: none !important; }` so we also need the `!important` here to be able to override the default hidden behavior on the sphinx rendered scikit-learn.org. See: https://github.com/scikit-learn/scikit-learn/issues/21755 */display: inline-block !important;position: relative;}#sk-container-id-17 div.sk-text-repr-fallback {display: none;}</style><div id=\"sk-container-id-17\" class=\"sk-top-container\"><div class=\"sk-text-repr-fallback\"><pre>DecisionTreeClassifier(max_depth=3, random_state=1234)</pre><b>In a Jupyter environment, please rerun this cell to show the HTML representation or trust the notebook. <br />On GitHub, the HTML representation is unable to render, please try loading this page with nbviewer.org.</b></div><div class=\"sk-container\" hidden><div class=\"sk-item\"><div class=\"sk-estimator sk-toggleable\"><input class=\"sk-toggleable__control sk-hidden--visually\" id=\"sk-estimator-id-17\" type=\"checkbox\" checked><label for=\"sk-estimator-id-17\" class=\"sk-toggleable__label sk-toggleable__label-arrow\">DecisionTreeClassifier</label><div class=\"sk-toggleable__content\"><pre>DecisionTreeClassifier(max_depth=3, random_state=1234)</pre></div></div></div></div></div>"
     },
     "execution_count": 168,
     "metadata": {},
     "output_type": "execute_result"
    }
   ],
   "source": [
    "# As before, make a variable, but call it gini_model2, and ensure the max_depth parameter is set to 3\n",
    "gini_model_max_depth_3 = tree.DecisionTreeClassifier(\n",
    "    criterion='gini',\n",
    "    max_depth=3,\n",
    "    random_state=1234\n",
    ")\n",
    "\n",
    "gini_model_max_depth_3.fit(X_train, y_train)\n",
    "\n",
    "y_pred = pd.Series(gini_model_max_depth_3.predict(X_test))\n",
    "\n",
    "gini_model_max_depth_3"
   ]
  },
  {
   "cell_type": "code",
   "execution_count": 169,
   "metadata": {
    "colab": {},
    "colab_type": "code",
    "id": "_UIWhKZBDuW7",
    "ExecuteTime": {
     "end_time": "2023-10-29T02:45:48.530805Z",
     "start_time": "2023-10-29T02:45:47.315006Z"
    }
   },
   "outputs": [
    {
     "data": {
      "image/svg+xml": "<?xml version=\"1.0\" encoding=\"UTF-8\" standalone=\"no\"?>\n<!DOCTYPE svg PUBLIC \"-//W3C//DTD SVG 1.1//EN\"\n \"http://www.w3.org/Graphics/SVG/1.1/DTD/svg11.dtd\">\n<!-- Generated by graphviz version 9.0.0 (20230911.1827)\n -->\n<!-- Title: Tree Pages: 1 -->\n<svg width=\"828pt\" height=\"433pt\"\n viewBox=\"0.00 0.00 828.00 433.00\" xmlns=\"http://www.w3.org/2000/svg\" xmlns:xlink=\"http://www.w3.org/1999/xlink\">\n<g id=\"graph0\" class=\"graph\" transform=\"scale(1 1) rotate(0) translate(4 429)\">\n<title>Tree</title>\n<polygon fill=\"white\" stroke=\"none\" points=\"-4,4 -4,-429 824,-429 824,4 -4,4\"/>\n<!-- 0 -->\n<g id=\"node1\" class=\"node\">\n<title>0</title>\n<path fill=\"#a9d4f4\" stroke=\"black\" d=\"M535,-425C535,-425 387,-425 387,-425 381,-425 375,-419 375,-413 375,-413 375,-354 375,-354 375,-348 381,-342 387,-342 387,-342 535,-342 535,-342 541,-342 547,-348 547,-354 547,-354 547,-413 547,-413 547,-419 541,-425 535,-425\"/>\n<text text-anchor=\"start\" x=\"383\" y=\"-407.7\" font-family=\"Helvetica,sans-Serif\" font-size=\"14.00\">spent_last_month ≤ 100.5</text>\n<text text-anchor=\"start\" x=\"425.75\" y=\"-392.7\" font-family=\"Helvetica,sans-Serif\" font-size=\"14.00\">gini = 0.461</text>\n<text text-anchor=\"start\" x=\"416.38\" y=\"-377.7\" font-family=\"Helvetica,sans-Serif\" font-size=\"14.00\">samples = 355</text>\n<text text-anchor=\"start\" x=\"407\" y=\"-362.7\" font-family=\"Helvetica,sans-Serif\" font-size=\"14.00\">value = [128, 227]</text>\n<text text-anchor=\"start\" x=\"424.25\" y=\"-347.7\" font-family=\"Helvetica,sans-Serif\" font-size=\"14.00\">class = YES</text>\n</g>\n<!-- 1 -->\n<g id=\"node2\" class=\"node\">\n<title>1</title>\n<path fill=\"#efb083\" stroke=\"black\" d=\"M439.75,-306C439.75,-306 200.25,-306 200.25,-306 194.25,-306 188.25,-300 188.25,-294 188.25,-294 188.25,-235 188.25,-235 188.25,-229 194.25,-223 200.25,-223 200.25,-223 439.75,-223 439.75,-223 445.75,-223 451.75,-229 451.75,-235 451.75,-235 451.75,-294 451.75,-294 451.75,-300 445.75,-306 439.75,-306\"/>\n<text text-anchor=\"start\" x=\"196.25\" y=\"-288.7\" font-family=\"Helvetica,sans-Serif\" font-size=\"14.00\">distance_from_us_flagship_store ≤ 3.038</text>\n<text text-anchor=\"start\" x=\"284.75\" y=\"-273.7\" font-family=\"Helvetica,sans-Serif\" font-size=\"14.00\">gini = 0.395</text>\n<text text-anchor=\"start\" x=\"275.38\" y=\"-258.7\" font-family=\"Helvetica,sans-Serif\" font-size=\"14.00\">samples = 144</text>\n<text text-anchor=\"start\" x=\"269.75\" y=\"-243.7\" font-family=\"Helvetica,sans-Serif\" font-size=\"14.00\">value = [105, 39]</text>\n<text text-anchor=\"start\" x=\"286.25\" y=\"-228.7\" font-family=\"Helvetica,sans-Serif\" font-size=\"14.00\">class = NO</text>\n</g>\n<!-- 0&#45;&gt;1 -->\n<g id=\"edge1\" class=\"edge\">\n<title>0&#45;&gt;1</title>\n<path fill=\"none\" stroke=\"black\" d=\"M411.69,-341.58C400.67,-332.44 388.9,-322.67 377.59,-313.29\"/>\n<polygon fill=\"black\" stroke=\"black\" points=\"380.14,-310.86 370.21,-307.17 375.67,-316.25 380.14,-310.86\"/>\n<text text-anchor=\"middle\" x=\"371.36\" y=\"-325.29\" font-family=\"Helvetica,sans-Serif\" font-size=\"14.00\">True</text>\n</g>\n<!-- 8 -->\n<g id=\"node9\" class=\"node\">\n<title>8</title>\n<path fill=\"#51a9e8\" stroke=\"black\" d=\"M721.75,-306C721.75,-306 482.25,-306 482.25,-306 476.25,-306 470.25,-300 470.25,-294 470.25,-294 470.25,-235 470.25,-235 470.25,-229 476.25,-223 482.25,-223 482.25,-223 721.75,-223 721.75,-223 727.75,-223 733.75,-229 733.75,-235 733.75,-235 733.75,-294 733.75,-294 733.75,-300 727.75,-306 721.75,-306\"/>\n<text text-anchor=\"start\" x=\"478.25\" y=\"-288.7\" font-family=\"Helvetica,sans-Serif\" font-size=\"14.00\">distance_from_us_flagship_store ≤ 8.047</text>\n<text text-anchor=\"start\" x=\"566.75\" y=\"-273.7\" font-family=\"Helvetica,sans-Serif\" font-size=\"14.00\">gini = 0.194</text>\n<text text-anchor=\"start\" x=\"557.38\" y=\"-258.7\" font-family=\"Helvetica,sans-Serif\" font-size=\"14.00\">samples = 211</text>\n<text text-anchor=\"start\" x=\"551.75\" y=\"-243.7\" font-family=\"Helvetica,sans-Serif\" font-size=\"14.00\">value = [23, 188]</text>\n<text text-anchor=\"start\" x=\"565.25\" y=\"-228.7\" font-family=\"Helvetica,sans-Serif\" font-size=\"14.00\">class = YES</text>\n</g>\n<!-- 0&#45;&gt;8 -->\n<g id=\"edge8\" class=\"edge\">\n<title>0&#45;&gt;8</title>\n<path fill=\"none\" stroke=\"black\" d=\"M510.31,-341.58C521.33,-332.44 533.1,-322.67 544.41,-313.29\"/>\n<polygon fill=\"black\" stroke=\"black\" points=\"546.33,-316.25 551.79,-307.17 541.86,-310.86 546.33,-316.25\"/>\n<text text-anchor=\"middle\" x=\"550.64\" y=\"-325.29\" font-family=\"Helvetica,sans-Serif\" font-size=\"14.00\">False</text>\n</g>\n<!-- 2 -->\n<g id=\"node3\" class=\"node\">\n<title>2</title>\n<path fill=\"#69b5eb\" stroke=\"black\" d=\"M193.25,-187C193.25,-187 52.75,-187 52.75,-187 46.75,-187 40.75,-181 40.75,-175 40.75,-175 40.75,-116 40.75,-116 40.75,-110 46.75,-104 52.75,-104 52.75,-104 193.25,-104 193.25,-104 199.25,-104 205.25,-110 205.25,-116 205.25,-116 205.25,-175 205.25,-175 205.25,-181 199.25,-187 193.25,-187\"/>\n<text text-anchor=\"start\" x=\"48.75\" y=\"-169.7\" font-family=\"Helvetica,sans-Serif\" font-size=\"14.00\">spent_last_month ≤ 24.5</text>\n<text text-anchor=\"start\" x=\"87.75\" y=\"-154.7\" font-family=\"Helvetica,sans-Serif\" font-size=\"14.00\">gini = 0.315</text>\n<text text-anchor=\"start\" x=\"82.12\" y=\"-139.7\" font-family=\"Helvetica,sans-Serif\" font-size=\"14.00\">samples = 46</text>\n<text text-anchor=\"start\" x=\"80.25\" y=\"-124.7\" font-family=\"Helvetica,sans-Serif\" font-size=\"14.00\">value = [9, 37]</text>\n<text text-anchor=\"start\" x=\"86.25\" y=\"-109.7\" font-family=\"Helvetica,sans-Serif\" font-size=\"14.00\">class = YES</text>\n</g>\n<!-- 1&#45;&gt;2 -->\n<g id=\"edge2\" class=\"edge\">\n<title>1&#45;&gt;2</title>\n<path fill=\"none\" stroke=\"black\" d=\"M251.1,-222.58C235.05,-213.05 217.85,-202.83 201.43,-193.08\"/>\n<polygon fill=\"black\" stroke=\"black\" points=\"203.55,-190.27 193.16,-188.17 199.97,-196.29 203.55,-190.27\"/>\n</g>\n<!-- 5 -->\n<g id=\"node6\" class=\"node\">\n<title>5</title>\n<path fill=\"#e6843d\" stroke=\"black\" d=\"M460.25,-187C460.25,-187 235.75,-187 235.75,-187 229.75,-187 223.75,-181 223.75,-175 223.75,-175 223.75,-116 223.75,-116 223.75,-110 229.75,-104 235.75,-104 235.75,-104 460.25,-104 460.25,-104 466.25,-104 472.25,-110 472.25,-116 472.25,-116 472.25,-175 472.25,-175 472.25,-181 466.25,-187 460.25,-187\"/>\n<text text-anchor=\"start\" x=\"231.75\" y=\"-169.7\" font-family=\"Helvetica,sans-Serif\" font-size=\"14.00\">distance_from_us_flagship_store ≤ 4.0</text>\n<text text-anchor=\"start\" x=\"316.5\" y=\"-154.7\" font-family=\"Helvetica,sans-Serif\" font-size=\"14.00\">gini = 0.04</text>\n<text text-anchor=\"start\" x=\"307.12\" y=\"-139.7\" font-family=\"Helvetica,sans-Serif\" font-size=\"14.00\">samples = 98</text>\n<text text-anchor=\"start\" x=\"305.25\" y=\"-124.7\" font-family=\"Helvetica,sans-Serif\" font-size=\"14.00\">value = [96, 2]</text>\n<text text-anchor=\"start\" x=\"314.25\" y=\"-109.7\" font-family=\"Helvetica,sans-Serif\" font-size=\"14.00\">class = NO</text>\n</g>\n<!-- 1&#45;&gt;5 -->\n<g id=\"edge5\" class=\"edge\">\n<title>1&#45;&gt;5</title>\n<path fill=\"none\" stroke=\"black\" d=\"M329.79,-222.58C331.68,-214.7 333.68,-206.34 335.63,-198.17\"/>\n<polygon fill=\"black\" stroke=\"black\" points=\"338.98,-199.21 337.91,-188.67 332.18,-197.58 338.98,-199.21\"/>\n</g>\n<!-- 3 -->\n<g id=\"node4\" class=\"node\">\n<title>3</title>\n<path fill=\"#e58139\" stroke=\"black\" d=\"M82,-68C82,-68 12,-68 12,-68 6,-68 0,-62 0,-56 0,-56 0,-12 0,-12 0,-6 6,0 12,0 12,0 82,0 82,0 88,0 94,-6 94,-12 94,-12 94,-56 94,-56 94,-62 88,-68 82,-68\"/>\n<text text-anchor=\"start\" x=\"19.25\" y=\"-50.7\" font-family=\"Helvetica,sans-Serif\" font-size=\"14.00\">gini = 0.0</text>\n<text text-anchor=\"start\" x=\"9.88\" y=\"-35.7\" font-family=\"Helvetica,sans-Serif\" font-size=\"14.00\">samples = 8</text>\n<text text-anchor=\"start\" x=\"8\" y=\"-20.7\" font-family=\"Helvetica,sans-Serif\" font-size=\"14.00\">value = [8, 0]</text>\n<text text-anchor=\"start\" x=\"13.25\" y=\"-5.7\" font-family=\"Helvetica,sans-Serif\" font-size=\"14.00\">class = NO</text>\n</g>\n<!-- 2&#45;&gt;3 -->\n<g id=\"edge3\" class=\"edge\">\n<title>2&#45;&gt;3</title>\n<path fill=\"none\" stroke=\"black\" d=\"M94.7,-103.73C88.81,-95.24 82.59,-86.28 76.66,-77.73\"/>\n<polygon fill=\"black\" stroke=\"black\" points=\"79.55,-75.76 70.98,-69.54 73.8,-79.75 79.55,-75.76\"/>\n</g>\n<!-- 4 -->\n<g id=\"node5\" class=\"node\">\n<title>4</title>\n<path fill=\"#3ea0e6\" stroke=\"black\" d=\"M201.75,-68C201.75,-68 124.25,-68 124.25,-68 118.25,-68 112.25,-62 112.25,-56 112.25,-56 112.25,-12 112.25,-12 112.25,-6 118.25,0 124.25,0 124.25,0 201.75,0 201.75,0 207.75,0 213.75,-6 213.75,-12 213.75,-12 213.75,-56 213.75,-56 213.75,-62 207.75,-68 201.75,-68\"/>\n<text text-anchor=\"start\" x=\"127.75\" y=\"-50.7\" font-family=\"Helvetica,sans-Serif\" font-size=\"14.00\">gini = 0.051</text>\n<text text-anchor=\"start\" x=\"122.12\" y=\"-35.7\" font-family=\"Helvetica,sans-Serif\" font-size=\"14.00\">samples = 38</text>\n<text text-anchor=\"start\" x=\"120.25\" y=\"-20.7\" font-family=\"Helvetica,sans-Serif\" font-size=\"14.00\">value = [1, 37]</text>\n<text text-anchor=\"start\" x=\"126.25\" y=\"-5.7\" font-family=\"Helvetica,sans-Serif\" font-size=\"14.00\">class = YES</text>\n</g>\n<!-- 2&#45;&gt;4 -->\n<g id=\"edge4\" class=\"edge\">\n<title>2&#45;&gt;4</title>\n<path fill=\"none\" stroke=\"black\" d=\"M137.89,-103.73C140.83,-95.7 143.92,-87.24 146.89,-79.11\"/>\n<polygon fill=\"black\" stroke=\"black\" points=\"150.17,-80.32 150.32,-69.72 143.6,-77.91 150.17,-80.32\"/>\n</g>\n<!-- 6 -->\n<g id=\"node7\" class=\"node\">\n<title>6</title>\n<path fill=\"#eca572\" stroke=\"black\" d=\"M368,-68C368,-68 298,-68 298,-68 292,-68 286,-62 286,-56 286,-56 286,-12 286,-12 286,-6 292,0 298,0 298,0 368,0 368,0 374,0 380,-6 380,-12 380,-12 380,-56 380,-56 380,-62 374,-68 368,-68\"/>\n<text text-anchor=\"start\" x=\"297.75\" y=\"-50.7\" font-family=\"Helvetica,sans-Serif\" font-size=\"14.00\">gini = 0.346</text>\n<text text-anchor=\"start\" x=\"295.88\" y=\"-35.7\" font-family=\"Helvetica,sans-Serif\" font-size=\"14.00\">samples = 9</text>\n<text text-anchor=\"start\" x=\"294\" y=\"-20.7\" font-family=\"Helvetica,sans-Serif\" font-size=\"14.00\">value = [7, 2]</text>\n<text text-anchor=\"start\" x=\"299.25\" y=\"-5.7\" font-family=\"Helvetica,sans-Serif\" font-size=\"14.00\">class = NO</text>\n</g>\n<!-- 5&#45;&gt;6 -->\n<g id=\"edge6\" class=\"edge\">\n<title>5&#45;&gt;6</title>\n<path fill=\"none\" stroke=\"black\" d=\"M342.41,-103.73C341.34,-95.88 340.21,-87.63 339.12,-79.67\"/>\n<polygon fill=\"black\" stroke=\"black\" points=\"342.59,-79.23 337.77,-69.8 335.66,-80.18 342.59,-79.23\"/>\n</g>\n<!-- 7 -->\n<g id=\"node8\" class=\"node\">\n<title>7</title>\n<path fill=\"#e58139\" stroke=\"black\" d=\"M487.75,-68C487.75,-68 410.25,-68 410.25,-68 404.25,-68 398.25,-62 398.25,-56 398.25,-56 398.25,-12 398.25,-12 398.25,-6 404.25,0 410.25,0 410.25,0 487.75,0 487.75,0 493.75,0 499.75,-6 499.75,-12 499.75,-12 499.75,-56 499.75,-56 499.75,-62 493.75,-68 487.75,-68\"/>\n<text text-anchor=\"start\" x=\"421.25\" y=\"-50.7\" font-family=\"Helvetica,sans-Serif\" font-size=\"14.00\">gini = 0.0</text>\n<text text-anchor=\"start\" x=\"408.12\" y=\"-35.7\" font-family=\"Helvetica,sans-Serif\" font-size=\"14.00\">samples = 89</text>\n<text text-anchor=\"start\" x=\"406.25\" y=\"-20.7\" font-family=\"Helvetica,sans-Serif\" font-size=\"14.00\">value = [89, 0]</text>\n<text text-anchor=\"start\" x=\"415.25\" y=\"-5.7\" font-family=\"Helvetica,sans-Serif\" font-size=\"14.00\">class = NO</text>\n</g>\n<!-- 5&#45;&gt;7 -->\n<g id=\"edge7\" class=\"edge\">\n<title>5&#45;&gt;7</title>\n<path fill=\"none\" stroke=\"black\" d=\"M385.61,-103.73C393.77,-94.88 402.41,-85.51 410.6,-76.63\"/>\n<polygon fill=\"black\" stroke=\"black\" points=\"413.05,-79.14 417.26,-69.41 407.91,-74.39 413.05,-79.14\"/>\n</g>\n<!-- 9 -->\n<g id=\"node10\" class=\"node\">\n<title>9</title>\n<path fill=\"#399de5\" stroke=\"black\" d=\"M617.5,-179.5C617.5,-179.5 532.5,-179.5 532.5,-179.5 526.5,-179.5 520.5,-173.5 520.5,-167.5 520.5,-167.5 520.5,-123.5 520.5,-123.5 520.5,-117.5 526.5,-111.5 532.5,-111.5 532.5,-111.5 617.5,-111.5 617.5,-111.5 623.5,-111.5 629.5,-117.5 629.5,-123.5 629.5,-123.5 629.5,-167.5 629.5,-167.5 629.5,-173.5 623.5,-179.5 617.5,-179.5\"/>\n<text text-anchor=\"start\" x=\"547.25\" y=\"-162.2\" font-family=\"Helvetica,sans-Serif\" font-size=\"14.00\">gini = 0.0</text>\n<text text-anchor=\"start\" x=\"530.38\" y=\"-147.2\" font-family=\"Helvetica,sans-Serif\" font-size=\"14.00\">samples = 160</text>\n<text text-anchor=\"start\" x=\"528.5\" y=\"-132.2\" font-family=\"Helvetica,sans-Serif\" font-size=\"14.00\">value = [0, 160]</text>\n<text text-anchor=\"start\" x=\"538.25\" y=\"-117.2\" font-family=\"Helvetica,sans-Serif\" font-size=\"14.00\">class = YES</text>\n</g>\n<!-- 8&#45;&gt;9 -->\n<g id=\"edge9\" class=\"edge\">\n<title>8&#45;&gt;9</title>\n<path fill=\"none\" stroke=\"black\" d=\"M592.56,-222.58C590.19,-212.32 587.64,-201.27 585.23,-190.85\"/>\n<polygon fill=\"black\" stroke=\"black\" points=\"588.7,-190.29 583.04,-181.34 581.88,-191.87 588.7,-190.29\"/>\n</g>\n<!-- 10 -->\n<g id=\"node11\" class=\"node\">\n<title>10</title>\n<path fill=\"#dceefa\" stroke=\"black\" d=\"M808,-187C808,-187 660,-187 660,-187 654,-187 648,-181 648,-175 648,-175 648,-116 648,-116 648,-110 654,-104 660,-104 660,-104 808,-104 808,-104 814,-104 820,-110 820,-116 820,-116 820,-175 820,-175 820,-181 814,-187 808,-187\"/>\n<text text-anchor=\"start\" x=\"656\" y=\"-169.7\" font-family=\"Helvetica,sans-Serif\" font-size=\"14.00\">spent_last_month ≤ 140.0</text>\n<text text-anchor=\"start\" x=\"698.75\" y=\"-154.7\" font-family=\"Helvetica,sans-Serif\" font-size=\"14.00\">gini = 0.495</text>\n<text text-anchor=\"start\" x=\"693.12\" y=\"-139.7\" font-family=\"Helvetica,sans-Serif\" font-size=\"14.00\">samples = 51</text>\n<text text-anchor=\"start\" x=\"687.5\" y=\"-124.7\" font-family=\"Helvetica,sans-Serif\" font-size=\"14.00\">value = [23, 28]</text>\n<text text-anchor=\"start\" x=\"697.25\" y=\"-109.7\" font-family=\"Helvetica,sans-Serif\" font-size=\"14.00\">class = YES</text>\n</g>\n<!-- 8&#45;&gt;10 -->\n<g id=\"edge10\" class=\"edge\">\n<title>8&#45;&gt;10</title>\n<path fill=\"none\" stroke=\"black\" d=\"M648.17,-222.58C658.37,-213.53 669.28,-203.87 679.77,-194.56\"/>\n<polygon fill=\"black\" stroke=\"black\" points=\"681.79,-197.46 686.95,-188.2 677.14,-192.22 681.79,-197.46\"/>\n</g>\n<!-- 11 -->\n<g id=\"node12\" class=\"node\">\n<title>11</title>\n<path fill=\"#e58139\" stroke=\"black\" d=\"M667.75,-68C667.75,-68 590.25,-68 590.25,-68 584.25,-68 578.25,-62 578.25,-56 578.25,-56 578.25,-12 578.25,-12 578.25,-6 584.25,0 590.25,0 590.25,0 667.75,0 667.75,0 673.75,0 679.75,-6 679.75,-12 679.75,-12 679.75,-56 679.75,-56 679.75,-62 673.75,-68 667.75,-68\"/>\n<text text-anchor=\"start\" x=\"601.25\" y=\"-50.7\" font-family=\"Helvetica,sans-Serif\" font-size=\"14.00\">gini = 0.0</text>\n<text text-anchor=\"start\" x=\"588.12\" y=\"-35.7\" font-family=\"Helvetica,sans-Serif\" font-size=\"14.00\">samples = 23</text>\n<text text-anchor=\"start\" x=\"586.25\" y=\"-20.7\" font-family=\"Helvetica,sans-Serif\" font-size=\"14.00\">value = [23, 0]</text>\n<text text-anchor=\"start\" x=\"595.25\" y=\"-5.7\" font-family=\"Helvetica,sans-Serif\" font-size=\"14.00\">class = NO</text>\n</g>\n<!-- 10&#45;&gt;11 -->\n<g id=\"edge11\" class=\"edge\">\n<title>10&#45;&gt;11</title>\n<path fill=\"none\" stroke=\"black\" d=\"M694.9,-103.73C686.33,-94.79 677.25,-85.32 668.66,-76.36\"/>\n<polygon fill=\"black\" stroke=\"black\" points=\"671.43,-74.19 661.98,-69.39 666.37,-79.03 671.43,-74.19\"/>\n</g>\n<!-- 12 -->\n<g id=\"node13\" class=\"node\">\n<title>12</title>\n<path fill=\"#399de5\" stroke=\"black\" d=\"M787.75,-68C787.75,-68 710.25,-68 710.25,-68 704.25,-68 698.25,-62 698.25,-56 698.25,-56 698.25,-12 698.25,-12 698.25,-6 704.25,0 710.25,0 710.25,0 787.75,0 787.75,0 793.75,0 799.75,-6 799.75,-12 799.75,-12 799.75,-56 799.75,-56 799.75,-62 793.75,-68 787.75,-68\"/>\n<text text-anchor=\"start\" x=\"721.25\" y=\"-50.7\" font-family=\"Helvetica,sans-Serif\" font-size=\"14.00\">gini = 0.0</text>\n<text text-anchor=\"start\" x=\"708.12\" y=\"-35.7\" font-family=\"Helvetica,sans-Serif\" font-size=\"14.00\">samples = 28</text>\n<text text-anchor=\"start\" x=\"706.25\" y=\"-20.7\" font-family=\"Helvetica,sans-Serif\" font-size=\"14.00\">value = [0, 28]</text>\n<text text-anchor=\"start\" x=\"712.25\" y=\"-5.7\" font-family=\"Helvetica,sans-Serif\" font-size=\"14.00\">class = YES</text>\n</g>\n<!-- 10&#45;&gt;12 -->\n<g id=\"edge12\" class=\"edge\">\n<title>10&#45;&gt;12</title>\n<path fill=\"none\" stroke=\"black\" d=\"M739.59,-103.73C740.66,-95.88 741.79,-87.63 742.88,-79.67\"/>\n<polygon fill=\"black\" stroke=\"black\" points=\"746.34,-80.18 744.23,-69.8 739.41,-79.23 746.34,-80.18\"/>\n</g>\n</g>\n</svg>\n",
      "text/plain": "<graphviz.sources.Source at 0x13841c2d0>"
     },
     "execution_count": 169,
     "metadata": {},
     "output_type": "execute_result"
    }
   ],
   "source": [
    "# Visualizse the Decision Tree\n",
    "dot_data = tree.export_graphviz(\n",
    "    gini_model_max_depth_3,\n",
    "    feature_names=gini_model_max_depth_3.feature_names_in_,\n",
    "    class_names=gini_model_max_depth_3.classes_,\n",
    "    filled=True,\n",
    "    rounded=True,\n",
    "    special_characters=True\n",
    ")\n",
    "graph = graphviz.Source(dot_data)\n",
    "graph.render(\"image/Decision Tree - Gini - Max Depth 3\")\n",
    "graph"
   ]
  },
  {
   "cell_type": "code",
   "execution_count": 170,
   "outputs": [
    {
     "name": "stdout",
     "output_type": "stream",
     "text": [
      "Gini impurity  model - max depth 3\n",
      "Balanced accuracy: 0.986842105263158\n",
      "              precision    recall  f1-score   support\n",
      "\n",
      "          NO       0.96      1.00      0.98        43\n",
      "         YES       1.00      0.97      0.99        76\n",
      "\n",
      "    accuracy                           0.98       119\n",
      "   macro avg       0.98      0.99      0.98       119\n",
      "weighted avg       0.98      0.98      0.98       119\n"
     ]
    }
   ],
   "source": [
    "print(\"Gini impurity  model - max depth 3\")\n",
    "# print(\"Accuracy:\", metrics.accuracy_score(y_test,y_pred))\n",
    "print(\"Balanced accuracy:\", metrics.balanced_accuracy_score(y_test,y_pred))\n",
    "# print('Precision score' , metrics.precision_score(y_test,y_pred, pos_label = \"YES\"))\n",
    "# print('Recall score' , metrics.recall_score(y_test,y_pred, pos_label = \"NO\"))\n",
    "print(metrics.classification_report(y_true=y_test, y_pred=y_pred))"
   ],
   "metadata": {
    "collapsed": false,
    "ExecuteTime": {
     "start_time": "2023-10-29T02:45:47.708296Z"
    }
   }
  },
  {
   "cell_type": "markdown",
   "source": [
    "Now this is an elegant tree. Its accuracy might not be the highest, but it's still the best model we've produced so far. Why is that? Write your answer here:\n",
    "This tree (compared to Entropy Tree with Max Depth=3), has more pure nodes (5 out of 7 total). The overall miss-classification is also quite small (only 3)."
   ],
   "metadata": {
    "collapsed": false
   }
  },
  {
   "cell_type": "code",
   "execution_count": 176,
   "outputs": [
    {
     "name": "stdout",
     "output_type": "stream",
     "text": [
      "Best Score (Precision): 0.9738734624284497\n",
      "Best Params: {'criterion': 'gini', 'max_depth': 3, 'min_samples_leaf': 1, 'splitter': 'best'}\n",
      "Best Estimator: DecisionTreeClassifier(max_depth=3, random_state=1234)\n"
     ]
    }
   ],
   "source": [
    "# Using GridSearchCV to see if we can find better hyperparameters\n",
    "\n",
    "# Define the parameter grid\n",
    "param_grid = {\n",
    "    'criterion': ['gini', 'entropy'],\n",
    "    'splitter': ['best', 'random'],\n",
    "    'max_depth': list(range(1, 11)),\n",
    "    'min_samples_leaf': list(range(1, 6))\n",
    "}\n",
    "\n",
    "# Create a DecisionTreeClassifier object\n",
    "decision_tree_classifier = tree.DecisionTreeClassifier(random_state=1234)\n",
    "\n",
    "# Create a KFold object\n",
    "kf = KFold(n_splits=5, shuffle=True, random_state=1234)\n",
    "\n",
    "# Create a custom scoring function\n",
    "    # Using precision because the cost of \"false positive\" is greater than \"false negative\" (under-estimating the number of people who are predicted to buy the products, rather\n",
    "scoring_function = metrics.make_scorer(metrics.precision_score, pos_label='YES')\n",
    "\n",
    "# Create a GridSearchCV object\n",
    "grid_search = GridSearchCV(\n",
    "    decision_tree_classifier,\n",
    "    param_grid,\n",
    "    cv=kf,\n",
    "    scoring=scoring_function\n",
    ")\n",
    "\n",
    "# Fit the GridSearchCV object to the data\n",
    "_ = grid_search.fit(X_train, y_train)\n",
    "\n",
    "print(f'Best Score (Precision): {grid_search.best_score_}')\n",
    "print(f'Best Params: {grid_search.best_params_}')\n",
    "print(f'Best Estimator: {grid_search.best_estimator_}')"
   ],
   "metadata": {
    "collapsed": false,
    "ExecuteTime": {
     "start_time": "2023-10-29T03:02:15.670594Z"
    }
   }
  },
  {
   "cell_type": "code",
   "execution_count": 181,
   "outputs": [
    {
     "name": "stdout",
     "output_type": "stream",
     "text": [
      "              precision    recall  f1-score   support\n",
      "\n",
      "          NO       0.96      1.00      0.98        43\n",
      "         YES       1.00      0.97      0.99        76\n",
      "\n",
      "    accuracy                           0.98       119\n",
      "   macro avg       0.98      0.99      0.98       119\n",
      "weighted avg       0.98      0.98      0.98       119\n"
     ]
    }
   ],
   "source": [
    "# Show classification report\n",
    "grid_search_cv_model = tree.DecisionTreeClassifier(**grid_search.best_params_, random_state=12345)\n",
    "\n",
    "# Train a new model with the best parameters\n",
    "grid_search_cv_model.fit(X_train, y_train)\n",
    "\n",
    "# Predict the test set results\n",
    "y_pred = pd.Series(grid_search_cv_model.predict(X_test))\n",
    "print(metrics.classification_report(y_true=y_test, y_pred=y_pred))"
   ],
   "metadata": {
    "collapsed": false,
    "ExecuteTime": {
     "end_time": "2023-10-29T03:06:43.977900Z",
     "start_time": "2023-10-29T03:06:43.906291Z"
    }
   }
  },
  {
   "cell_type": "markdown",
   "source": [
    "It seems no noticable difference than \"Gini Impurity Model with Max Depth 3\"."
   ],
   "metadata": {
    "collapsed": false
   }
  },
  {
   "cell_type": "code",
   "execution_count": 182,
   "outputs": [
    {
     "data": {
      "image/svg+xml": "<?xml version=\"1.0\" encoding=\"UTF-8\" standalone=\"no\"?>\n<!DOCTYPE svg PUBLIC \"-//W3C//DTD SVG 1.1//EN\"\n \"http://www.w3.org/Graphics/SVG/1.1/DTD/svg11.dtd\">\n<!-- Generated by graphviz version 9.0.0 (20230911.1827)\n -->\n<!-- Title: Tree Pages: 1 -->\n<svg width=\"828pt\" height=\"433pt\"\n viewBox=\"0.00 0.00 828.00 433.00\" xmlns=\"http://www.w3.org/2000/svg\" xmlns:xlink=\"http://www.w3.org/1999/xlink\">\n<g id=\"graph0\" class=\"graph\" transform=\"scale(1 1) rotate(0) translate(4 429)\">\n<title>Tree</title>\n<polygon fill=\"white\" stroke=\"none\" points=\"-4,4 -4,-429 824,-429 824,4 -4,4\"/>\n<!-- 0 -->\n<g id=\"node1\" class=\"node\">\n<title>0</title>\n<path fill=\"#a9d4f4\" stroke=\"black\" d=\"M535,-425C535,-425 387,-425 387,-425 381,-425 375,-419 375,-413 375,-413 375,-354 375,-354 375,-348 381,-342 387,-342 387,-342 535,-342 535,-342 541,-342 547,-348 547,-354 547,-354 547,-413 547,-413 547,-419 541,-425 535,-425\"/>\n<text text-anchor=\"start\" x=\"383\" y=\"-407.7\" font-family=\"Helvetica,sans-Serif\" font-size=\"14.00\">spent_last_month ≤ 100.5</text>\n<text text-anchor=\"start\" x=\"425.75\" y=\"-392.7\" font-family=\"Helvetica,sans-Serif\" font-size=\"14.00\">gini = 0.461</text>\n<text text-anchor=\"start\" x=\"416.38\" y=\"-377.7\" font-family=\"Helvetica,sans-Serif\" font-size=\"14.00\">samples = 355</text>\n<text text-anchor=\"start\" x=\"407\" y=\"-362.7\" font-family=\"Helvetica,sans-Serif\" font-size=\"14.00\">value = [128, 227]</text>\n<text text-anchor=\"start\" x=\"424.25\" y=\"-347.7\" font-family=\"Helvetica,sans-Serif\" font-size=\"14.00\">class = YES</text>\n</g>\n<!-- 1 -->\n<g id=\"node2\" class=\"node\">\n<title>1</title>\n<path fill=\"#efb083\" stroke=\"black\" d=\"M439.75,-306C439.75,-306 200.25,-306 200.25,-306 194.25,-306 188.25,-300 188.25,-294 188.25,-294 188.25,-235 188.25,-235 188.25,-229 194.25,-223 200.25,-223 200.25,-223 439.75,-223 439.75,-223 445.75,-223 451.75,-229 451.75,-235 451.75,-235 451.75,-294 451.75,-294 451.75,-300 445.75,-306 439.75,-306\"/>\n<text text-anchor=\"start\" x=\"196.25\" y=\"-288.7\" font-family=\"Helvetica,sans-Serif\" font-size=\"14.00\">distance_from_us_flagship_store ≤ 3.038</text>\n<text text-anchor=\"start\" x=\"284.75\" y=\"-273.7\" font-family=\"Helvetica,sans-Serif\" font-size=\"14.00\">gini = 0.395</text>\n<text text-anchor=\"start\" x=\"275.38\" y=\"-258.7\" font-family=\"Helvetica,sans-Serif\" font-size=\"14.00\">samples = 144</text>\n<text text-anchor=\"start\" x=\"269.75\" y=\"-243.7\" font-family=\"Helvetica,sans-Serif\" font-size=\"14.00\">value = [105, 39]</text>\n<text text-anchor=\"start\" x=\"286.25\" y=\"-228.7\" font-family=\"Helvetica,sans-Serif\" font-size=\"14.00\">class = NO</text>\n</g>\n<!-- 0&#45;&gt;1 -->\n<g id=\"edge1\" class=\"edge\">\n<title>0&#45;&gt;1</title>\n<path fill=\"none\" stroke=\"black\" d=\"M411.69,-341.58C400.67,-332.44 388.9,-322.67 377.59,-313.29\"/>\n<polygon fill=\"black\" stroke=\"black\" points=\"380.14,-310.86 370.21,-307.17 375.67,-316.25 380.14,-310.86\"/>\n<text text-anchor=\"middle\" x=\"371.36\" y=\"-325.29\" font-family=\"Helvetica,sans-Serif\" font-size=\"14.00\">True</text>\n</g>\n<!-- 8 -->\n<g id=\"node9\" class=\"node\">\n<title>8</title>\n<path fill=\"#51a9e8\" stroke=\"black\" d=\"M721.75,-306C721.75,-306 482.25,-306 482.25,-306 476.25,-306 470.25,-300 470.25,-294 470.25,-294 470.25,-235 470.25,-235 470.25,-229 476.25,-223 482.25,-223 482.25,-223 721.75,-223 721.75,-223 727.75,-223 733.75,-229 733.75,-235 733.75,-235 733.75,-294 733.75,-294 733.75,-300 727.75,-306 721.75,-306\"/>\n<text text-anchor=\"start\" x=\"478.25\" y=\"-288.7\" font-family=\"Helvetica,sans-Serif\" font-size=\"14.00\">distance_from_us_flagship_store ≤ 8.047</text>\n<text text-anchor=\"start\" x=\"566.75\" y=\"-273.7\" font-family=\"Helvetica,sans-Serif\" font-size=\"14.00\">gini = 0.194</text>\n<text text-anchor=\"start\" x=\"557.38\" y=\"-258.7\" font-family=\"Helvetica,sans-Serif\" font-size=\"14.00\">samples = 211</text>\n<text text-anchor=\"start\" x=\"551.75\" y=\"-243.7\" font-family=\"Helvetica,sans-Serif\" font-size=\"14.00\">value = [23, 188]</text>\n<text text-anchor=\"start\" x=\"565.25\" y=\"-228.7\" font-family=\"Helvetica,sans-Serif\" font-size=\"14.00\">class = YES</text>\n</g>\n<!-- 0&#45;&gt;8 -->\n<g id=\"edge8\" class=\"edge\">\n<title>0&#45;&gt;8</title>\n<path fill=\"none\" stroke=\"black\" d=\"M510.31,-341.58C521.33,-332.44 533.1,-322.67 544.41,-313.29\"/>\n<polygon fill=\"black\" stroke=\"black\" points=\"546.33,-316.25 551.79,-307.17 541.86,-310.86 546.33,-316.25\"/>\n<text text-anchor=\"middle\" x=\"550.64\" y=\"-325.29\" font-family=\"Helvetica,sans-Serif\" font-size=\"14.00\">False</text>\n</g>\n<!-- 2 -->\n<g id=\"node3\" class=\"node\">\n<title>2</title>\n<path fill=\"#69b5eb\" stroke=\"black\" d=\"M193.25,-187C193.25,-187 52.75,-187 52.75,-187 46.75,-187 40.75,-181 40.75,-175 40.75,-175 40.75,-116 40.75,-116 40.75,-110 46.75,-104 52.75,-104 52.75,-104 193.25,-104 193.25,-104 199.25,-104 205.25,-110 205.25,-116 205.25,-116 205.25,-175 205.25,-175 205.25,-181 199.25,-187 193.25,-187\"/>\n<text text-anchor=\"start\" x=\"48.75\" y=\"-169.7\" font-family=\"Helvetica,sans-Serif\" font-size=\"14.00\">spent_last_month ≤ 24.5</text>\n<text text-anchor=\"start\" x=\"87.75\" y=\"-154.7\" font-family=\"Helvetica,sans-Serif\" font-size=\"14.00\">gini = 0.315</text>\n<text text-anchor=\"start\" x=\"82.12\" y=\"-139.7\" font-family=\"Helvetica,sans-Serif\" font-size=\"14.00\">samples = 46</text>\n<text text-anchor=\"start\" x=\"80.25\" y=\"-124.7\" font-family=\"Helvetica,sans-Serif\" font-size=\"14.00\">value = [9, 37]</text>\n<text text-anchor=\"start\" x=\"86.25\" y=\"-109.7\" font-family=\"Helvetica,sans-Serif\" font-size=\"14.00\">class = YES</text>\n</g>\n<!-- 1&#45;&gt;2 -->\n<g id=\"edge2\" class=\"edge\">\n<title>1&#45;&gt;2</title>\n<path fill=\"none\" stroke=\"black\" d=\"M251.1,-222.58C235.05,-213.05 217.85,-202.83 201.43,-193.08\"/>\n<polygon fill=\"black\" stroke=\"black\" points=\"203.55,-190.27 193.16,-188.17 199.97,-196.29 203.55,-190.27\"/>\n</g>\n<!-- 5 -->\n<g id=\"node6\" class=\"node\">\n<title>5</title>\n<path fill=\"#e6843d\" stroke=\"black\" d=\"M460.25,-187C460.25,-187 235.75,-187 235.75,-187 229.75,-187 223.75,-181 223.75,-175 223.75,-175 223.75,-116 223.75,-116 223.75,-110 229.75,-104 235.75,-104 235.75,-104 460.25,-104 460.25,-104 466.25,-104 472.25,-110 472.25,-116 472.25,-116 472.25,-175 472.25,-175 472.25,-181 466.25,-187 460.25,-187\"/>\n<text text-anchor=\"start\" x=\"231.75\" y=\"-169.7\" font-family=\"Helvetica,sans-Serif\" font-size=\"14.00\">distance_from_us_flagship_store ≤ 4.0</text>\n<text text-anchor=\"start\" x=\"316.5\" y=\"-154.7\" font-family=\"Helvetica,sans-Serif\" font-size=\"14.00\">gini = 0.04</text>\n<text text-anchor=\"start\" x=\"307.12\" y=\"-139.7\" font-family=\"Helvetica,sans-Serif\" font-size=\"14.00\">samples = 98</text>\n<text text-anchor=\"start\" x=\"305.25\" y=\"-124.7\" font-family=\"Helvetica,sans-Serif\" font-size=\"14.00\">value = [96, 2]</text>\n<text text-anchor=\"start\" x=\"314.25\" y=\"-109.7\" font-family=\"Helvetica,sans-Serif\" font-size=\"14.00\">class = NO</text>\n</g>\n<!-- 1&#45;&gt;5 -->\n<g id=\"edge5\" class=\"edge\">\n<title>1&#45;&gt;5</title>\n<path fill=\"none\" stroke=\"black\" d=\"M329.79,-222.58C331.68,-214.7 333.68,-206.34 335.63,-198.17\"/>\n<polygon fill=\"black\" stroke=\"black\" points=\"338.98,-199.21 337.91,-188.67 332.18,-197.58 338.98,-199.21\"/>\n</g>\n<!-- 3 -->\n<g id=\"node4\" class=\"node\">\n<title>3</title>\n<path fill=\"#e58139\" stroke=\"black\" d=\"M82,-68C82,-68 12,-68 12,-68 6,-68 0,-62 0,-56 0,-56 0,-12 0,-12 0,-6 6,0 12,0 12,0 82,0 82,0 88,0 94,-6 94,-12 94,-12 94,-56 94,-56 94,-62 88,-68 82,-68\"/>\n<text text-anchor=\"start\" x=\"19.25\" y=\"-50.7\" font-family=\"Helvetica,sans-Serif\" font-size=\"14.00\">gini = 0.0</text>\n<text text-anchor=\"start\" x=\"9.88\" y=\"-35.7\" font-family=\"Helvetica,sans-Serif\" font-size=\"14.00\">samples = 8</text>\n<text text-anchor=\"start\" x=\"8\" y=\"-20.7\" font-family=\"Helvetica,sans-Serif\" font-size=\"14.00\">value = [8, 0]</text>\n<text text-anchor=\"start\" x=\"13.25\" y=\"-5.7\" font-family=\"Helvetica,sans-Serif\" font-size=\"14.00\">class = NO</text>\n</g>\n<!-- 2&#45;&gt;3 -->\n<g id=\"edge3\" class=\"edge\">\n<title>2&#45;&gt;3</title>\n<path fill=\"none\" stroke=\"black\" d=\"M94.7,-103.73C88.81,-95.24 82.59,-86.28 76.66,-77.73\"/>\n<polygon fill=\"black\" stroke=\"black\" points=\"79.55,-75.76 70.98,-69.54 73.8,-79.75 79.55,-75.76\"/>\n</g>\n<!-- 4 -->\n<g id=\"node5\" class=\"node\">\n<title>4</title>\n<path fill=\"#3ea0e6\" stroke=\"black\" d=\"M201.75,-68C201.75,-68 124.25,-68 124.25,-68 118.25,-68 112.25,-62 112.25,-56 112.25,-56 112.25,-12 112.25,-12 112.25,-6 118.25,0 124.25,0 124.25,0 201.75,0 201.75,0 207.75,0 213.75,-6 213.75,-12 213.75,-12 213.75,-56 213.75,-56 213.75,-62 207.75,-68 201.75,-68\"/>\n<text text-anchor=\"start\" x=\"127.75\" y=\"-50.7\" font-family=\"Helvetica,sans-Serif\" font-size=\"14.00\">gini = 0.051</text>\n<text text-anchor=\"start\" x=\"122.12\" y=\"-35.7\" font-family=\"Helvetica,sans-Serif\" font-size=\"14.00\">samples = 38</text>\n<text text-anchor=\"start\" x=\"120.25\" y=\"-20.7\" font-family=\"Helvetica,sans-Serif\" font-size=\"14.00\">value = [1, 37]</text>\n<text text-anchor=\"start\" x=\"126.25\" y=\"-5.7\" font-family=\"Helvetica,sans-Serif\" font-size=\"14.00\">class = YES</text>\n</g>\n<!-- 2&#45;&gt;4 -->\n<g id=\"edge4\" class=\"edge\">\n<title>2&#45;&gt;4</title>\n<path fill=\"none\" stroke=\"black\" d=\"M137.89,-103.73C140.83,-95.7 143.92,-87.24 146.89,-79.11\"/>\n<polygon fill=\"black\" stroke=\"black\" points=\"150.17,-80.32 150.32,-69.72 143.6,-77.91 150.17,-80.32\"/>\n</g>\n<!-- 6 -->\n<g id=\"node7\" class=\"node\">\n<title>6</title>\n<path fill=\"#eca572\" stroke=\"black\" d=\"M368,-68C368,-68 298,-68 298,-68 292,-68 286,-62 286,-56 286,-56 286,-12 286,-12 286,-6 292,0 298,0 298,0 368,0 368,0 374,0 380,-6 380,-12 380,-12 380,-56 380,-56 380,-62 374,-68 368,-68\"/>\n<text text-anchor=\"start\" x=\"297.75\" y=\"-50.7\" font-family=\"Helvetica,sans-Serif\" font-size=\"14.00\">gini = 0.346</text>\n<text text-anchor=\"start\" x=\"295.88\" y=\"-35.7\" font-family=\"Helvetica,sans-Serif\" font-size=\"14.00\">samples = 9</text>\n<text text-anchor=\"start\" x=\"294\" y=\"-20.7\" font-family=\"Helvetica,sans-Serif\" font-size=\"14.00\">value = [7, 2]</text>\n<text text-anchor=\"start\" x=\"299.25\" y=\"-5.7\" font-family=\"Helvetica,sans-Serif\" font-size=\"14.00\">class = NO</text>\n</g>\n<!-- 5&#45;&gt;6 -->\n<g id=\"edge6\" class=\"edge\">\n<title>5&#45;&gt;6</title>\n<path fill=\"none\" stroke=\"black\" d=\"M342.41,-103.73C341.34,-95.88 340.21,-87.63 339.12,-79.67\"/>\n<polygon fill=\"black\" stroke=\"black\" points=\"342.59,-79.23 337.77,-69.8 335.66,-80.18 342.59,-79.23\"/>\n</g>\n<!-- 7 -->\n<g id=\"node8\" class=\"node\">\n<title>7</title>\n<path fill=\"#e58139\" stroke=\"black\" d=\"M487.75,-68C487.75,-68 410.25,-68 410.25,-68 404.25,-68 398.25,-62 398.25,-56 398.25,-56 398.25,-12 398.25,-12 398.25,-6 404.25,0 410.25,0 410.25,0 487.75,0 487.75,0 493.75,0 499.75,-6 499.75,-12 499.75,-12 499.75,-56 499.75,-56 499.75,-62 493.75,-68 487.75,-68\"/>\n<text text-anchor=\"start\" x=\"421.25\" y=\"-50.7\" font-family=\"Helvetica,sans-Serif\" font-size=\"14.00\">gini = 0.0</text>\n<text text-anchor=\"start\" x=\"408.12\" y=\"-35.7\" font-family=\"Helvetica,sans-Serif\" font-size=\"14.00\">samples = 89</text>\n<text text-anchor=\"start\" x=\"406.25\" y=\"-20.7\" font-family=\"Helvetica,sans-Serif\" font-size=\"14.00\">value = [89, 0]</text>\n<text text-anchor=\"start\" x=\"415.25\" y=\"-5.7\" font-family=\"Helvetica,sans-Serif\" font-size=\"14.00\">class = NO</text>\n</g>\n<!-- 5&#45;&gt;7 -->\n<g id=\"edge7\" class=\"edge\">\n<title>5&#45;&gt;7</title>\n<path fill=\"none\" stroke=\"black\" d=\"M385.61,-103.73C393.77,-94.88 402.41,-85.51 410.6,-76.63\"/>\n<polygon fill=\"black\" stroke=\"black\" points=\"413.05,-79.14 417.26,-69.41 407.91,-74.39 413.05,-79.14\"/>\n</g>\n<!-- 9 -->\n<g id=\"node10\" class=\"node\">\n<title>9</title>\n<path fill=\"#399de5\" stroke=\"black\" d=\"M617.5,-179.5C617.5,-179.5 532.5,-179.5 532.5,-179.5 526.5,-179.5 520.5,-173.5 520.5,-167.5 520.5,-167.5 520.5,-123.5 520.5,-123.5 520.5,-117.5 526.5,-111.5 532.5,-111.5 532.5,-111.5 617.5,-111.5 617.5,-111.5 623.5,-111.5 629.5,-117.5 629.5,-123.5 629.5,-123.5 629.5,-167.5 629.5,-167.5 629.5,-173.5 623.5,-179.5 617.5,-179.5\"/>\n<text text-anchor=\"start\" x=\"547.25\" y=\"-162.2\" font-family=\"Helvetica,sans-Serif\" font-size=\"14.00\">gini = 0.0</text>\n<text text-anchor=\"start\" x=\"530.38\" y=\"-147.2\" font-family=\"Helvetica,sans-Serif\" font-size=\"14.00\">samples = 160</text>\n<text text-anchor=\"start\" x=\"528.5\" y=\"-132.2\" font-family=\"Helvetica,sans-Serif\" font-size=\"14.00\">value = [0, 160]</text>\n<text text-anchor=\"start\" x=\"538.25\" y=\"-117.2\" font-family=\"Helvetica,sans-Serif\" font-size=\"14.00\">class = YES</text>\n</g>\n<!-- 8&#45;&gt;9 -->\n<g id=\"edge9\" class=\"edge\">\n<title>8&#45;&gt;9</title>\n<path fill=\"none\" stroke=\"black\" d=\"M592.56,-222.58C590.19,-212.32 587.64,-201.27 585.23,-190.85\"/>\n<polygon fill=\"black\" stroke=\"black\" points=\"588.7,-190.29 583.04,-181.34 581.88,-191.87 588.7,-190.29\"/>\n</g>\n<!-- 10 -->\n<g id=\"node11\" class=\"node\">\n<title>10</title>\n<path fill=\"#dceefa\" stroke=\"black\" d=\"M808,-187C808,-187 660,-187 660,-187 654,-187 648,-181 648,-175 648,-175 648,-116 648,-116 648,-110 654,-104 660,-104 660,-104 808,-104 808,-104 814,-104 820,-110 820,-116 820,-116 820,-175 820,-175 820,-181 814,-187 808,-187\"/>\n<text text-anchor=\"start\" x=\"656\" y=\"-169.7\" font-family=\"Helvetica,sans-Serif\" font-size=\"14.00\">spent_last_month ≤ 140.0</text>\n<text text-anchor=\"start\" x=\"698.75\" y=\"-154.7\" font-family=\"Helvetica,sans-Serif\" font-size=\"14.00\">gini = 0.495</text>\n<text text-anchor=\"start\" x=\"693.12\" y=\"-139.7\" font-family=\"Helvetica,sans-Serif\" font-size=\"14.00\">samples = 51</text>\n<text text-anchor=\"start\" x=\"687.5\" y=\"-124.7\" font-family=\"Helvetica,sans-Serif\" font-size=\"14.00\">value = [23, 28]</text>\n<text text-anchor=\"start\" x=\"697.25\" y=\"-109.7\" font-family=\"Helvetica,sans-Serif\" font-size=\"14.00\">class = YES</text>\n</g>\n<!-- 8&#45;&gt;10 -->\n<g id=\"edge10\" class=\"edge\">\n<title>8&#45;&gt;10</title>\n<path fill=\"none\" stroke=\"black\" d=\"M648.17,-222.58C658.37,-213.53 669.28,-203.87 679.77,-194.56\"/>\n<polygon fill=\"black\" stroke=\"black\" points=\"681.79,-197.46 686.95,-188.2 677.14,-192.22 681.79,-197.46\"/>\n</g>\n<!-- 11 -->\n<g id=\"node12\" class=\"node\">\n<title>11</title>\n<path fill=\"#e58139\" stroke=\"black\" d=\"M667.75,-68C667.75,-68 590.25,-68 590.25,-68 584.25,-68 578.25,-62 578.25,-56 578.25,-56 578.25,-12 578.25,-12 578.25,-6 584.25,0 590.25,0 590.25,0 667.75,0 667.75,0 673.75,0 679.75,-6 679.75,-12 679.75,-12 679.75,-56 679.75,-56 679.75,-62 673.75,-68 667.75,-68\"/>\n<text text-anchor=\"start\" x=\"601.25\" y=\"-50.7\" font-family=\"Helvetica,sans-Serif\" font-size=\"14.00\">gini = 0.0</text>\n<text text-anchor=\"start\" x=\"588.12\" y=\"-35.7\" font-family=\"Helvetica,sans-Serif\" font-size=\"14.00\">samples = 23</text>\n<text text-anchor=\"start\" x=\"586.25\" y=\"-20.7\" font-family=\"Helvetica,sans-Serif\" font-size=\"14.00\">value = [23, 0]</text>\n<text text-anchor=\"start\" x=\"595.25\" y=\"-5.7\" font-family=\"Helvetica,sans-Serif\" font-size=\"14.00\">class = NO</text>\n</g>\n<!-- 10&#45;&gt;11 -->\n<g id=\"edge11\" class=\"edge\">\n<title>10&#45;&gt;11</title>\n<path fill=\"none\" stroke=\"black\" d=\"M694.9,-103.73C686.33,-94.79 677.25,-85.32 668.66,-76.36\"/>\n<polygon fill=\"black\" stroke=\"black\" points=\"671.43,-74.19 661.98,-69.39 666.37,-79.03 671.43,-74.19\"/>\n</g>\n<!-- 12 -->\n<g id=\"node13\" class=\"node\">\n<title>12</title>\n<path fill=\"#399de5\" stroke=\"black\" d=\"M787.75,-68C787.75,-68 710.25,-68 710.25,-68 704.25,-68 698.25,-62 698.25,-56 698.25,-56 698.25,-12 698.25,-12 698.25,-6 704.25,0 710.25,0 710.25,0 787.75,0 787.75,0 793.75,0 799.75,-6 799.75,-12 799.75,-12 799.75,-56 799.75,-56 799.75,-62 793.75,-68 787.75,-68\"/>\n<text text-anchor=\"start\" x=\"721.25\" y=\"-50.7\" font-family=\"Helvetica,sans-Serif\" font-size=\"14.00\">gini = 0.0</text>\n<text text-anchor=\"start\" x=\"708.12\" y=\"-35.7\" font-family=\"Helvetica,sans-Serif\" font-size=\"14.00\">samples = 28</text>\n<text text-anchor=\"start\" x=\"706.25\" y=\"-20.7\" font-family=\"Helvetica,sans-Serif\" font-size=\"14.00\">value = [0, 28]</text>\n<text text-anchor=\"start\" x=\"712.25\" y=\"-5.7\" font-family=\"Helvetica,sans-Serif\" font-size=\"14.00\">class = YES</text>\n</g>\n<!-- 10&#45;&gt;12 -->\n<g id=\"edge12\" class=\"edge\">\n<title>10&#45;&gt;12</title>\n<path fill=\"none\" stroke=\"black\" d=\"M739.59,-103.73C740.66,-95.88 741.79,-87.63 742.88,-79.67\"/>\n<polygon fill=\"black\" stroke=\"black\" points=\"746.34,-80.18 744.23,-69.8 739.41,-79.23 746.34,-80.18\"/>\n</g>\n</g>\n</svg>\n",
      "text/plain": "<graphviz.sources.Source at 0x136d06950>"
     },
     "execution_count": 182,
     "metadata": {},
     "output_type": "execute_result"
    }
   ],
   "source": [
    "# Visualizse the Decision Tree\n",
    "dot_data = tree.export_graphviz(\n",
    "    grid_search_cv_model,\n",
    "    feature_names=grid_search_cv_model.feature_names_in_,\n",
    "    class_names=grid_search_cv_model.classes_,\n",
    "    filled=True,\n",
    "    rounded=True,\n",
    "    special_characters=True\n",
    ")\n",
    "graph = graphviz.Source(dot_data)\n",
    "graph.render(\"image/Decision Tree - GridSearchCV - Gini, Max Depth 3, Min Sample Leaf 1, Splitter Best\")\n",
    "graph"
   ],
   "metadata": {
    "collapsed": false,
    "ExecuteTime": {
     "end_time": "2023-10-29T03:06:51.668347Z",
     "start_time": "2023-10-29T03:06:51.297051Z"
    }
   }
  },
  {
   "cell_type": "markdown",
   "metadata": {
    "colab_type": "text",
    "id": "jS1niFlCDuW_"
   },
   "source": [
    "# 4. Evaluating and concluding\n",
    "## 4a. How many customers will buy Hidden Farm coffee? \n",
    "Let's first ascertain how many loyal customers claimed, in the survey, that they will purchase the Hidden Farm coffee. "
   ]
  },
  {
   "cell_type": "code",
   "execution_count": 196,
   "metadata": {
    "colab": {},
    "colab_type": "code",
    "id": "QPHXnHZvDuXC",
    "ExecuteTime": {
     "end_time": "2023-10-29T03:14:20.548106Z",
     "start_time": "2023-10-29T03:14:20.461392Z"
    }
   },
   "outputs": [
    {
     "data": {
      "text/plain": "decision\nYES    303\nNaN    228\nNO     171\nName: count, dtype: int64"
     },
     "execution_count": 196,
     "metadata": {},
     "output_type": "execute_result"
    }
   ],
   "source": [
    "# Call value_counts() on the 'Decision' column of the original coffeeData\n",
    "coffeeData['decision'].value_counts(dropna=False)"
   ]
  },
  {
   "cell_type": "markdown",
   "metadata": {
    "colab_type": "text",
    "id": "kw_5g_ZEDuXD"
   },
   "source": [
    "Let's now determine the number of people that, according to the model, will be willing to buy the Hidden Farm coffee. \n",
    "1. First we subset the Prediction dataset into `new_X` considering all the variables except `Decision` \n",
    "2. Use that dataset to predict a new variable called `potential_buyers`"
   ]
  },
  {
   "cell_type": "code",
   "execution_count": 186,
   "outputs": [
    {
     "data": {
      "text/plain": "Index(['age', 'gender', 'num_coffeeBags_per_year', 'spent_last_week',\n       'spent_last_month', 'salary', 'distance_from_us_flagship_store',\n       'bought_at_least_one_product_online', 'decision'],\n      dtype='object')"
     },
     "execution_count": 186,
     "metadata": {},
     "output_type": "execute_result"
    }
   ],
   "source": [
    "Prediction.columns"
   ],
   "metadata": {
    "collapsed": false,
    "ExecuteTime": {
     "end_time": "2023-10-29T03:08:54.616891Z",
     "start_time": "2023-10-29T03:08:54.578682Z"
    }
   }
  },
  {
   "cell_type": "code",
   "execution_count": 189,
   "outputs": [],
   "source": [
    "# Make a variable called new_X, and assign it the subset of Prediction, containing just the feature_cols \n",
    "new_X = Prediction.drop('decision', axis=1)"
   ],
   "metadata": {
    "collapsed": false,
    "ExecuteTime": {
     "end_time": "2023-10-29T03:12:14.243243Z",
     "start_time": "2023-10-29T03:12:14.213652Z"
    }
   }
  },
  {
   "cell_type": "code",
   "execution_count": 210,
   "metadata": {
    "colab": {},
    "colab_type": "code",
    "id": "0ajvbeRSDuXG",
    "ExecuteTime": {
     "end_time": "2023-10-29T03:18:04.656257Z",
     "start_time": "2023-10-29T03:18:04.596821Z"
    }
   },
   "outputs": [],
   "source": [
    "# Call get_dummies() on the Pandas object pd, with new_X plugged in, to one-hot encode all features in the training set\n",
    "new_X = pd.get_dummies(new_X)\n",
    "\n",
    "# Make a variable called potential_buyers, and assign it the result of calling predict() on a model of your choice; \n",
    "# don't forget to pass new_X to predict()\n",
    "potential_buyers = pd.Series(grid_search_cv_model.predict(new_X))"
   ]
  },
  {
   "cell_type": "code",
   "execution_count": 211,
   "metadata": {
    "colab": {},
    "colab_type": "code",
    "id": "-MO_KWT9DuXI",
    "ExecuteTime": {
     "end_time": "2023-10-29T03:18:06.140532Z",
     "start_time": "2023-10-29T03:18:06.109748Z"
    }
   },
   "outputs": [
    {
     "data": {
      "text/plain": "     count          %\nYES    177  77.631579\nNO      51  22.368421",
      "text/html": "<div>\n<style scoped>\n    .dataframe tbody tr th:only-of-type {\n        vertical-align: middle;\n    }\n\n    .dataframe tbody tr th {\n        vertical-align: top;\n    }\n\n    .dataframe thead th {\n        text-align: right;\n    }\n</style>\n<table border=\"1\" class=\"dataframe\">\n  <thead>\n    <tr style=\"text-align: right;\">\n      <th></th>\n      <th>count</th>\n      <th>%</th>\n    </tr>\n  </thead>\n  <tbody>\n    <tr>\n      <th>YES</th>\n      <td>177</td>\n      <td>77.631579</td>\n    </tr>\n    <tr>\n      <th>NO</th>\n      <td>51</td>\n      <td>22.368421</td>\n    </tr>\n  </tbody>\n</table>\n</div>"
     },
     "execution_count": 211,
     "metadata": {},
     "output_type": "execute_result"
    }
   ],
   "source": [
    "# Let's get the numbers of YES's and NO's in the potential buyers \n",
    "# Call unique() on np, and pass potential_buyers and return_counts=True \n",
    "\n",
    "potential_buyer_breakdown = pd.concat([potential_buyers.value_counts(), 100 * potential_buyers.value_counts(normalize=True)], axis=1)\n",
    "potential_buyer_breakdown.columns=['count', '%']\n",
    "potential_buyer_breakdown"
   ]
  },
  {
   "cell_type": "code",
   "execution_count": 225,
   "outputs": [
    {
     "name": "stdout",
     "output_type": "stream",
     "text": [
      "Total Potential Buyer (Survey): 303\n",
      "Total Potential Buyer (Prediction): 177\n",
      "Total Potential Buyers: 480\n"
     ]
    }
   ],
   "source": [
    "potential_buyer_count_survey = sum(coffeeData['decision'] == 'YES')\n",
    "potential_buyer_count_model = sum(potential_buyers == 'YES')\n",
    "total_potential_buyer = potential_buyer_count_survey + potential_buyer_count_model\n",
    "\n",
    "print(f\"Total Potential Buyer (Survey): {potential_buyer_count_survey}\")\n",
    "print(f\"Total Potential Buyer (Prediction): {potential_buyer_count_model}\")\n",
    "print(f\"Total Potential Buyers: {total_potential_buyer}\")"
   ],
   "metadata": {
    "collapsed": false,
    "ExecuteTime": {
     "end_time": "2023-10-29T03:22:58.793858Z",
     "start_time": "2023-10-29T03:22:58.761909Z"
    }
   }
  },
  {
   "cell_type": "code",
   "execution_count": 226,
   "metadata": {
    "colab": {},
    "colab_type": "code",
    "id": "9EGFQcTuDuXK",
    "ExecuteTime": {
     "end_time": "2023-10-29T03:23:01.220964Z",
     "start_time": "2023-10-29T03:23:01.176449Z"
    }
   },
   "outputs": [
    {
     "name": "stdout",
     "output_type": "stream",
     "text": [
      "The total number of surveyed people was 702\n"
     ]
    }
   ],
   "source": [
    "# Print the total number of surveyed people \n",
    "print(\"The total number of surveyed people was\", len(coffeeData))"
   ]
  },
  {
   "cell_type": "code",
   "execution_count": 230,
   "metadata": {
    "colab": {},
    "colab_type": "code",
    "id": "22_KRMX4DuXM",
    "ExecuteTime": {
     "end_time": "2023-10-29T03:23:38.134139Z",
     "start_time": "2023-10-29T03:23:38.102893Z"
    }
   },
   "outputs": [
    {
     "name": "stdout",
     "output_type": "stream",
     "text": [
      "Proportion of potential buyers: 68.38%\n"
     ]
    }
   ],
   "source": [
    "# Let's calculate the proportion of buyers\n",
    "print(f'Proportion of potential buyers: {round(total_potential_buyer / len(coffeeData) * 100, 2)}%')"
   ]
  },
  {
   "cell_type": "code",
   "execution_count": 237,
   "metadata": {
    "colab": {},
    "colab_type": "code",
    "id": "xLMCDMpmDuXO",
    "ExecuteTime": {
     "end_time": "2023-10-29T03:25:28.149281Z",
     "start_time": "2023-10-29T03:25:28.118542Z"
    }
   },
   "outputs": [
    {
     "name": "stdout",
     "output_type": "stream",
     "text": [
      "percentage of people who want to buy the Hidden Farm coffee, by our model: 77.63%\n"
     ]
    }
   ],
   "source": [
    "# Print the percentage of people who want to buy the Hidden Farm coffee, by our model \n",
    "print(f\"percentage of people who want to buy the Hidden Farm coffee, by our model: {round(potential_buyer_count_model / len(Prediction) * 100, 2)}%\")"
   ]
  },
  {
   "cell_type": "markdown",
   "metadata": {
    "colab_type": "text",
    "id": "9bRDyi6rDuXQ"
   },
   "source": [
    "## 4b. Decision\n",
    "Remember how you thought at the start: if more than 70% of the interviewed customers are likely to buy the Hidden Farm coffee, you will strike the deal with the local Hidden Farm farmers and sell the coffee. Otherwise, you won't strike the deal and the Hidden Farm coffee will remain in legends only. Well now's crunch time. Are you going to go ahead with that idea? If so, you won't be striking the deal with the Chinese farmers. \n",
    "\n",
    "They're called `decision trees`, aren't they? So where's the decision? What should you do? (Cue existential cat emoji). \n",
    "\n",
    "Ultimately, though, we can't write an algorithm to actually *make the business decision* for us. This is because such decisions depend on our values, what risks we are willing to take, the stakes of our decisions, and how important it us for us to *know* that we will succeed. What are you going to do with the models you've made? Are you going to risk everything, strike the deal with the *Hidden Farm* farmers, and sell the coffee? \n",
    "\n",
    "The philosopher of language Jason Stanley once wrote that the number of doubts our evidence has to rule out in order for us to know a given proposition depends on our stakes: the higher our stakes, the more doubts our evidence has to rule out, and therefore the harder it is for us to know things. We can end up paralyzed in predicaments; sometimes, we can act to better our situation only if we already know certain things, which we can only if our stakes were lower and we'd *already* bettered our situation. \n",
    "\n",
    "Data science and machine learning can't solve such problems. But what it can do is help us make great use of our data to help *inform* our decisions."
   ]
  },
  {
   "cell_type": "markdown",
   "metadata": {
    "colab_type": "text",
    "id": "crWWrpdox8i-"
   },
   "source": [
    "## 5. Random Forest\n",
    "You might have noticed an important fact about decision trees. Each time we run a given decision tree algorithm to make a prediction (such as whether customers will buy the Hidden Farm coffee) we will actually get a slightly different result. This might seem weird, but it has a simple explanation: machine learning algorithms are by definition ***stochastic***, in that their output is at least partly determined by randomness. \n",
    "\n",
    "To account for this variability and ensure that we get the most accurate prediction, we might want to actually make lots of decision trees, and get a value that captures the centre or average of the outputs of those trees. Luckily, there's a method for this, known as the ***Random Forest***. \n",
    "\n",
    "Essentially, Random Forest involves making lots of trees with similar properties, and then performing summary statistics on the outputs of those trees to reach that central value. Random forests are hugely powerful classifers, and they can improve predictive accuracy and control over-fitting. \n",
    "\n",
    "Why not try to inform your decision with random forest? You'll need to make use of the RandomForestClassifier function within the sklearn.ensemble module, found [here](https://scikit-learn.org/stable/modules/generated/sklearn.ensemble.RandomForestClassifier.html). "
   ]
  },
  {
   "cell_type": "markdown",
   "metadata": {
    "colab_type": "text",
    "id": "fI4fiVWq0IH9"
   },
   "source": [
    "### 5a. Import necessary modules"
   ]
  },
  {
   "cell_type": "code",
   "execution_count": 238,
   "metadata": {
    "colab": {},
    "colab_type": "code",
    "id": "vSRTnHnD0D-O",
    "ExecuteTime": {
     "end_time": "2023-10-29T03:28:45.417512Z",
     "start_time": "2023-10-29T03:28:44.340993Z"
    }
   },
   "outputs": [],
   "source": [
    "from sklearn.ensemble import RandomForestClassifier\n",
    "from sklearn.datasets import make_classification"
   ]
  },
  {
   "cell_type": "markdown",
   "metadata": {
    "colab_type": "text",
    "id": "jKmFvvjb0WB9"
   },
   "source": [
    "### 5b. Model\n",
    "You'll use your X_train and y_train variables just as before.\n",
    "\n",
    "You'll then need to make a variable (call it firstRFModel) to store your new Random Forest model. You'll assign this variable the result of calling RandomForestClassifier().\n",
    "\n",
    "Then, just as before, you'll call fit() on that firstRFModel variable, and plug in X_train and y_train.\n",
    "\n",
    "Finally, you should make a variable called y_pred, and assign it the result of calling the predict() method on your new firstRFModel, with the X_test data passed to it. "
   ]
  },
  {
   "cell_type": "code",
   "execution_count": 245,
   "outputs": [
    {
     "name": "stdout",
     "output_type": "stream",
     "text": [
      "              precision    recall  f1-score   support\n",
      "\n",
      "          NO       0.90      0.84      0.87        43\n",
      "         YES       0.91      0.95      0.93        76\n",
      "\n",
      "    accuracy                           0.91       119\n",
      "   macro avg       0.91      0.89      0.90       119\n",
      "weighted avg       0.91      0.91      0.91       119\n"
     ]
    }
   ],
   "source": [
    "# Create a synthetic binary classification dataset\n",
    "X, y = make_classification(n_samples=1000, n_features=20, n_informative=2, n_redundant=10, random_state=1234)\n",
    "\n",
    "# Creating a RandomForestClassifier class using the \"best_params\" defined from previous GridSearchCV\n",
    "firstRFModel = RandomForestClassifier(\n",
    "    random_state=1234,\n",
    "    criterion='gini',\n",
    "    max_depth= 3,\n",
    "    min_samples_leaf=1\n",
    ")\n",
    "\n",
    "# Train the model\n",
    "firstRFModel.fit(X_train, y_train)\n",
    "\n",
    "# Make predictions on the test set\n",
    "y_pred = firstRFModel.predict(X_test)\n",
    "\n",
    "print(metrics.classification_report(y_true=y_test, y_pred=y_pred))"
   ],
   "metadata": {
    "collapsed": false,
    "ExecuteTime": {
     "end_time": "2023-10-29T03:49:33.180550Z",
     "start_time": "2023-10-29T03:49:32.961711Z"
    }
   }
  },
  {
   "cell_type": "code",
   "execution_count": 252,
   "outputs": [
    {
     "data": {
      "text/plain": "['count', '%']"
     },
     "execution_count": 252,
     "metadata": {},
     "output_type": "execute_result"
    }
   ],
   "source": [
    "# Revised Potential Buyers\n",
    "revised_potential_buyers = pd.Series(firstRFModel.predict(new_X))\n",
    "revised_potential_buyers_breakdown = pd.concat([revised_potential_buyers.value_counts(), 100 * revised_potential_buyers.value_counts(normalize=True)], axis=1).columns=['count', '%']\n",
    "revised_potential_buyers_breakdown"
   ],
   "metadata": {
    "collapsed": false,
    "ExecuteTime": {
     "end_time": "2023-10-29T03:54:44.348644Z",
     "start_time": "2023-10-29T03:54:44.279731Z"
    }
   }
  },
  {
   "cell_type": "code",
   "execution_count": 254,
   "outputs": [
    {
     "name": "stdout",
     "output_type": "stream",
     "text": [
      "Total Potential Buyer (Survey): 303\n",
      "Total Potential Buyer (Prediction): 185\n",
      "Total Potential Buyers: 488\n"
     ]
    }
   ],
   "source": [
    "potential_buyer_count_survey = sum(coffeeData['decision'] == 'YES')\n",
    "potential_buyer_count_random_forest = sum(revised_potential_buyers == 'YES')\n",
    "total_potential_buyer_revised = potential_buyer_count_survey + potential_buyer_count_random_forest\n",
    "\n",
    "print(f\"Total Potential Buyer (Survey): {potential_buyer_count_survey}\")\n",
    "print(f\"Total Potential Buyer (Prediction): {potential_buyer_count_random_forest}\")\n",
    "print(f\"Total Potential Buyers: {total_potential_buyer_revised}\")"
   ],
   "metadata": {
    "collapsed": false,
    "ExecuteTime": {
     "end_time": "2023-10-29T03:54:58.417913Z",
     "start_time": "2023-10-29T03:54:58.386429Z"
    }
   }
  },
  {
   "cell_type": "code",
   "execution_count": 256,
   "outputs": [
    {
     "name": "stdout",
     "output_type": "stream",
     "text": [
      "Proportion of potential buyers: 69.52%\n"
     ]
    }
   ],
   "source": [
    "# Let's calculate the proportion of buyers\n",
    "print(f'Proportion of potential buyers: {round(total_potential_buyer_revised / len(coffeeData) * 100, 2)}%')"
   ],
   "metadata": {
    "collapsed": false,
    "ExecuteTime": {
     "end_time": "2023-10-29T03:55:06.089639Z",
     "start_time": "2023-10-29T03:55:06.055924Z"
    }
   }
  },
  {
   "cell_type": "markdown",
   "metadata": {
    "colab_type": "text",
    "id": "sCIt6pyn1zpb"
   },
   "source": [
    "### 5c. Revise conclusion\n",
    "\n",
    "Has your conclusion changed? Or is the result of executing random forest the same as your best model reached by a single decision tree?\n",
    "The Random Forest Model returned more percentage of potential buyers (from 68% to 69.5%). However, I still can't confirm the accuracy of Random Forest Model and will deep dive this deeper on the next unit.  "
   ]
  },
  {
   "cell_type": "code",
   "execution_count": null,
   "outputs": [],
   "source": [],
   "metadata": {
    "collapsed": false
   }
  }
 ],
 "metadata": {
  "colab": {
   "collapsed_sections": [],
   "name": "Springboard Decision Tree Specialty Coffee Case Study - Tier 3.ipynb",
   "provenance": []
  },
  "kernelspec": {
   "display_name": "Python 3",
   "language": "python",
   "name": "python3"
  },
  "language_info": {
   "codemirror_mode": {
    "name": "ipython",
    "version": 3
   },
   "file_extension": ".py",
   "mimetype": "text/x-python",
   "name": "python",
   "nbconvert_exporter": "python",
   "pygments_lexer": "ipython3",
   "version": "3.7.3"
  }
 },
 "nbformat": 4,
 "nbformat_minor": 4
}
